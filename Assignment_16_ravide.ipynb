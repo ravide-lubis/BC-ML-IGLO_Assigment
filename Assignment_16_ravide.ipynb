{
  "nbformat": 4,
  "nbformat_minor": 0,
  "metadata": {
    "colab": {
      "name": "Assigment_16_ravide_b.ipynb",
      "provenance": [],
      "collapsed_sections": [
        "A4XwWZq1foW7",
        "GUr8R17kG7NJ",
        "6tMK-mtXhKBJ",
        "r64qlSztY6MH",
        "8-fiW5TQjhr1",
        "nvOI2q5qGa8p",
        "SBhBuuSeGdxA",
        "NbyLzIwHHTVP",
        "a725kUznH8Z2",
        "gAFPJpdeecZL",
        "sm2UAoJvefHH"
      ],
      "toc_visible": true
    },
    "kernelspec": {
      "name": "python3",
      "display_name": "Python 3"
    },
    "accelerator": "GPU"
  },
  "cells": [
    {
      "cell_type": "markdown",
      "metadata": {
        "id": "A4XwWZq1foW7"
      },
      "source": [
        "# Library"
      ]
    },
    {
      "cell_type": "code",
      "metadata": {
        "id": "POnEwgg6N3n-"
      },
      "source": [
        "import os\n",
        "import pandas as pd\n",
        "import numpy as np\n",
        "import matplotlib.pyplot as plt\n",
        "import seaborn as sb\n",
        "\n",
        "from sklearn.preprocessing import StandardScaler\n",
        "from sklearn.model_selection import train_test_split\n",
        "from sklearn.linear_model import LinearRegression\n",
        "from tensorflow.keras.models import Sequential\n",
        "from tensorflow.keras.layers import Dense\n",
        "from sklearn.metrics import mean_squared_error, mean_absolute_error, r2_score"
      ],
      "execution_count": 2,
      "outputs": []
    },
    {
      "cell_type": "markdown",
      "metadata": {
        "id": "GUr8R17kG7NJ"
      },
      "source": [
        "# Fungsi-Fungsi"
      ]
    },
    {
      "cell_type": "code",
      "metadata": {
        "id": "jjR6swD41Teq"
      },
      "source": [
        "# fungsi histogram\n",
        "def histogram(dataset):\n",
        "  dataset.hist(figsize=(18, 22), bins=50, xlabelsize=8, ylabelsize=8)\n",
        "  plt.show()"
      ],
      "execution_count": 3,
      "outputs": []
    },
    {
      "cell_type": "code",
      "metadata": {
        "id": "zR2u_t6m1WF5"
      },
      "source": [
        "# fungsi heatmap\n",
        "def heatmap(dataset):\n",
        "  plt.figure(figsize=(20,20))\n",
        "  sb.heatmap(dataset.corr(), cbar=True, fmt='.1f', annot=True, annot_kws={'size':15}, cmap='Blues')\n",
        "  plt.show()"
      ],
      "execution_count": 4,
      "outputs": []
    },
    {
      "cell_type": "code",
      "metadata": {
        "id": "Iz9jyhhu01uj"
      },
      "source": [
        "# fungsi feature engineering\n",
        "def scalling(features, label, test_size):\n",
        "  # scalling\n",
        "  scaler = StandardScaler()\n",
        "  features = scaler.fit_transform(features.values)\n",
        "  label = scaler.fit_transform(label.values.reshape(-1,1)).flatten()\n",
        "\n",
        "  # membagi data train dan test\n",
        "  feature_train, feature_test, label_train, label_test = train_test_split(features, label, test_size=test_size, random_state=10)\n",
        "  return feature_train, feature_test, label_train, label_test"
      ],
      "execution_count": 5,
      "outputs": []
    },
    {
      "cell_type": "code",
      "metadata": {
        "id": "dckn9Ksl04O8"
      },
      "source": [
        "# fungsi linear regression\n",
        "def linreg(f_train, l_train, f_test, l_test):\n",
        "  lm = LinearRegression()\n",
        "  lm.fit(f_train, l_train)\n",
        "\n",
        "  pred = lm.predict(f_test)\n",
        "\n",
        "\n",
        "  mse = mean_squared_error(l_test, pred)\n",
        "  mae = mean_absolute_error(l_test, pred)\n",
        "  r2 = r2_score(l_test, pred)\n",
        "\n",
        "  print('MSE \\t\\t: {:.3f}'.format(mse))\n",
        "  print('MAE \\t\\t: {:.3f}'.format(mae))\n",
        "  print('r2 score \\t: {:.3f}'.format(r2))\n",
        "  print('RMSE \\t\\t: {:.3f}'.format(np.sqrt(mse)))"
      ],
      "execution_count": 6,
      "outputs": []
    },
    {
      "cell_type": "code",
      "metadata": {
        "id": "vSXKGSdA086s"
      },
      "source": [
        "# fungsi baseline model\n",
        "def bl_model(f_train, l_train, f_test, l_test, n_features):\n",
        "  model = Sequential()\n",
        "  model.add(Dense(13, input_dim=n_features, kernel_initializer='normal', activation='relu'))\n",
        "  model.add(Dense(1, kernel_initializer='normal'))\n",
        "\n",
        "  model.compile(loss='mean_squared_error', optimizer='adam')\n",
        "  history = model.fit(x=f_train, y=l_train, validation_data=(f_test, l_test), \n",
        "                      epochs=50, batch_size=8)\n",
        "  return model, history"
      ],
      "execution_count": 7,
      "outputs": []
    },
    {
      "cell_type": "code",
      "metadata": {
        "id": "NqAX6KS31Axz"
      },
      "source": [
        "# fungsi deeper model\n",
        "def deeper_model(f_train, l_train, f_test, l_test, n_features):\n",
        "  model = Sequential()\n",
        "  model.add(Dense(13, input_dim=n_features, kernel_initializer='normal', activation='relu'))\n",
        "  model.add(Dense(6, kernel_initializer='normal', activation='relu'))\n",
        "  model.add(Dense(1, kernel_initializer='normal'))\n",
        "\n",
        "  model.compile(loss='mean_squared_error', optimizer='adam')\n",
        "\n",
        "  history = model.fit(x=f_train, y=l_train, validation_data=(f_test, l_test), \n",
        "                      epochs=50, batch_size=8)\n",
        "  return model, history"
      ],
      "execution_count": 8,
      "outputs": []
    },
    {
      "cell_type": "code",
      "metadata": {
        "id": "jsIcMj2r1EwR"
      },
      "source": [
        "# fungsi wider model\n",
        "def wider_model(f_train, l_train, f_test, l_test, n_features):\n",
        "  model = Sequential()\n",
        "  model.add(Dense(20, input_dim=n_features, kernel_initializer='normal', activation='relu'))\n",
        "  model.add(Dense(1, kernel_initializer='normal'))\n",
        "\n",
        "  model.compile(loss='mean_squared_error', optimizer='adam')\n",
        "\n",
        "  history = model.fit(x=f_train, y=l_train, validation_data=(f_test, l_test), \n",
        "                      epochs=50, batch_size=8)\n",
        "  return model, history"
      ],
      "execution_count": 9,
      "outputs": []
    },
    {
      "cell_type": "code",
      "metadata": {
        "id": "Aoxbef2m5O7H"
      },
      "source": [
        "# fungsi hasil prediksi\n",
        "def prediksi(f_test, l_test, model):\n",
        "  pred = model.predict(f_test)\n",
        "  pred = pred.flatten()\n",
        "\n",
        "  mse = mean_squared_error(l_test, pred)\n",
        "  mae = mean_absolute_error(l_test, pred)\n",
        "  r2 = r2_score(l_test, pred)\n",
        "\n",
        "  print('MSE \\t\\t: {:.3f}'.format(mse))\n",
        "  print('MAE \\t\\t: {:.3f}'.format(mae))\n",
        "  print('r2 score \\t: {:.3f}'.format(r2))\n",
        "  print('RMSE \\t\\t: {:.3f}'.format(np.sqrt(mse)))"
      ],
      "execution_count": 10,
      "outputs": []
    },
    {
      "cell_type": "markdown",
      "metadata": {
        "id": "TCEakr1cgDpe"
      },
      "source": [
        "# Dataset Auto"
      ]
    },
    {
      "cell_type": "code",
      "metadata": {
        "id": "YB2MM1SKOHD_",
        "outputId": "1b1d5757-faa7-40b0-ecc8-463faef09994",
        "colab": {
          "base_uri": "https://localhost:8080/",
          "height": 202
        }
      },
      "source": [
        "dataset1 = pd.read_csv('/content/drive/My Drive/abc/auto.csv')\n",
        "\n",
        "dataset1 = dataset1.drop(['symboling', 'normalized-losses', 'make', 'fuel-type', \n",
        "                          'aspiration','num-of-doors', 'body-style', 'drive-wheels', \n",
        "                          'engine-location','curb-weight', 'engine-type', \n",
        "                          'num-of-cylinders', ' engine-size', 'fuel-system',\n",
        "                          'horsepower', 'city-mpg', 'highway-mpg'], axis=1)\n",
        "dataset1.head()"
      ],
      "execution_count": null,
      "outputs": [
        {
          "output_type": "execute_result",
          "data": {
            "text/html": [
              "<div>\n",
              "<style scoped>\n",
              "    .dataframe tbody tr th:only-of-type {\n",
              "        vertical-align: middle;\n",
              "    }\n",
              "\n",
              "    .dataframe tbody tr th {\n",
              "        vertical-align: top;\n",
              "    }\n",
              "\n",
              "    .dataframe thead th {\n",
              "        text-align: right;\n",
              "    }\n",
              "</style>\n",
              "<table border=\"1\" class=\"dataframe\">\n",
              "  <thead>\n",
              "    <tr style=\"text-align: right;\">\n",
              "      <th></th>\n",
              "      <th>wheel-base</th>\n",
              "      <th>length</th>\n",
              "      <th>width</th>\n",
              "      <th>height</th>\n",
              "      <th>bore</th>\n",
              "      <th>stroke</th>\n",
              "      <th>compression-ratio</th>\n",
              "      <th>peak-rpm</th>\n",
              "      <th>price</th>\n",
              "    </tr>\n",
              "  </thead>\n",
              "  <tbody>\n",
              "    <tr>\n",
              "      <th>0</th>\n",
              "      <td>88.6</td>\n",
              "      <td>168.8</td>\n",
              "      <td>64.1</td>\n",
              "      <td>48.8</td>\n",
              "      <td>3.47</td>\n",
              "      <td>2.68</td>\n",
              "      <td>9.0</td>\n",
              "      <td>5000</td>\n",
              "      <td>13495</td>\n",
              "    </tr>\n",
              "    <tr>\n",
              "      <th>1</th>\n",
              "      <td>88.6</td>\n",
              "      <td>168.8</td>\n",
              "      <td>64.1</td>\n",
              "      <td>48.8</td>\n",
              "      <td>3.47</td>\n",
              "      <td>2.68</td>\n",
              "      <td>9.0</td>\n",
              "      <td>5000</td>\n",
              "      <td>16500</td>\n",
              "    </tr>\n",
              "    <tr>\n",
              "      <th>2</th>\n",
              "      <td>94.5</td>\n",
              "      <td>171.2</td>\n",
              "      <td>65.5</td>\n",
              "      <td>52.4</td>\n",
              "      <td>2.68</td>\n",
              "      <td>3.47</td>\n",
              "      <td>9.0</td>\n",
              "      <td>5000</td>\n",
              "      <td>16500</td>\n",
              "    </tr>\n",
              "    <tr>\n",
              "      <th>3</th>\n",
              "      <td>99.8</td>\n",
              "      <td>176.6</td>\n",
              "      <td>66.2</td>\n",
              "      <td>54.3</td>\n",
              "      <td>3.19</td>\n",
              "      <td>3.40</td>\n",
              "      <td>10.0</td>\n",
              "      <td>5500</td>\n",
              "      <td>13950</td>\n",
              "    </tr>\n",
              "    <tr>\n",
              "      <th>4</th>\n",
              "      <td>99.4</td>\n",
              "      <td>176.6</td>\n",
              "      <td>66.4</td>\n",
              "      <td>54.3</td>\n",
              "      <td>3.19</td>\n",
              "      <td>3.40</td>\n",
              "      <td>8.0</td>\n",
              "      <td>5500</td>\n",
              "      <td>17450</td>\n",
              "    </tr>\n",
              "  </tbody>\n",
              "</table>\n",
              "</div>"
            ],
            "text/plain": [
              "   wheel-base  length  width  height  ... stroke compression-ratio  peak-rpm  price\n",
              "0        88.6   168.8   64.1    48.8  ...   2.68               9.0      5000  13495\n",
              "1        88.6   168.8   64.1    48.8  ...   2.68               9.0      5000  16500\n",
              "2        94.5   171.2   65.5    52.4  ...   3.47               9.0      5000  16500\n",
              "3        99.8   176.6   66.2    54.3  ...   3.40              10.0      5500  13950\n",
              "4        99.4   176.6   66.4    54.3  ...   3.40               8.0      5500  17450\n",
              "\n",
              "[5 rows x 9 columns]"
            ]
          },
          "metadata": {
            "tags": []
          },
          "execution_count": 186
        }
      ]
    },
    {
      "cell_type": "markdown",
      "metadata": {
        "id": "6tMK-mtXhKBJ"
      },
      "source": [
        "### EDA"
      ]
    },
    {
      "cell_type": "code",
      "metadata": {
        "id": "Ftaj8Td8QgFc",
        "outputId": "f5945922-7cb5-4018-c413-0a6c9f6a99ab",
        "colab": {
          "base_uri": "https://localhost:8080/"
        }
      },
      "source": [
        "dataset1.describe().transpose()"
      ],
      "execution_count": null,
      "outputs": [
        {
          "output_type": "execute_result",
          "data": {
            "text/html": [
              "<div>\n",
              "<style scoped>\n",
              "    .dataframe tbody tr th:only-of-type {\n",
              "        vertical-align: middle;\n",
              "    }\n",
              "\n",
              "    .dataframe tbody tr th {\n",
              "        vertical-align: top;\n",
              "    }\n",
              "\n",
              "    .dataframe thead th {\n",
              "        text-align: right;\n",
              "    }\n",
              "</style>\n",
              "<table border=\"1\" class=\"dataframe\">\n",
              "  <thead>\n",
              "    <tr style=\"text-align: right;\">\n",
              "      <th></th>\n",
              "      <th>count</th>\n",
              "      <th>mean</th>\n",
              "      <th>std</th>\n",
              "      <th>min</th>\n",
              "      <th>25%</th>\n",
              "      <th>50%</th>\n",
              "      <th>75%</th>\n",
              "      <th>max</th>\n",
              "    </tr>\n",
              "  </thead>\n",
              "  <tbody>\n",
              "    <tr>\n",
              "      <th>wheel-base</th>\n",
              "      <td>205.0</td>\n",
              "      <td>98.756585</td>\n",
              "      <td>6.021776</td>\n",
              "      <td>86.6</td>\n",
              "      <td>94.5</td>\n",
              "      <td>97.0</td>\n",
              "      <td>102.4</td>\n",
              "      <td>120.9</td>\n",
              "    </tr>\n",
              "    <tr>\n",
              "      <th>length</th>\n",
              "      <td>205.0</td>\n",
              "      <td>174.049268</td>\n",
              "      <td>12.337289</td>\n",
              "      <td>141.1</td>\n",
              "      <td>166.3</td>\n",
              "      <td>173.2</td>\n",
              "      <td>183.1</td>\n",
              "      <td>208.1</td>\n",
              "    </tr>\n",
              "    <tr>\n",
              "      <th>width</th>\n",
              "      <td>205.0</td>\n",
              "      <td>65.907805</td>\n",
              "      <td>2.145204</td>\n",
              "      <td>60.3</td>\n",
              "      <td>64.1</td>\n",
              "      <td>65.5</td>\n",
              "      <td>66.9</td>\n",
              "      <td>72.3</td>\n",
              "    </tr>\n",
              "    <tr>\n",
              "      <th>height</th>\n",
              "      <td>205.0</td>\n",
              "      <td>53.724878</td>\n",
              "      <td>2.443522</td>\n",
              "      <td>47.8</td>\n",
              "      <td>52.0</td>\n",
              "      <td>54.1</td>\n",
              "      <td>55.5</td>\n",
              "      <td>59.8</td>\n",
              "    </tr>\n",
              "    <tr>\n",
              "      <th>compression-ratio</th>\n",
              "      <td>205.0</td>\n",
              "      <td>10.142537</td>\n",
              "      <td>3.972040</td>\n",
              "      <td>7.0</td>\n",
              "      <td>8.6</td>\n",
              "      <td>9.0</td>\n",
              "      <td>9.4</td>\n",
              "      <td>23.0</td>\n",
              "    </tr>\n",
              "  </tbody>\n",
              "</table>\n",
              "</div>"
            ],
            "text/plain": [
              "                   count        mean        std  ...    50%    75%    max\n",
              "wheel-base         205.0   98.756585   6.021776  ...   97.0  102.4  120.9\n",
              "length             205.0  174.049268  12.337289  ...  173.2  183.1  208.1\n",
              "width              205.0   65.907805   2.145204  ...   65.5   66.9   72.3\n",
              "height             205.0   53.724878   2.443522  ...   54.1   55.5   59.8\n",
              "compression-ratio  205.0   10.142537   3.972040  ...    9.0    9.4   23.0\n",
              "\n",
              "[5 rows x 8 columns]"
            ]
          },
          "metadata": {
            "tags": []
          },
          "execution_count": 187
        }
      ]
    },
    {
      "cell_type": "code",
      "metadata": {
        "id": "TsnjlmYzRyMU",
        "outputId": "211ded69-2089-4645-e6f5-da1e3796a971",
        "colab": {
          "base_uri": "https://localhost:8080/"
        }
      },
      "source": [
        "dataset1.info()"
      ],
      "execution_count": null,
      "outputs": [
        {
          "output_type": "stream",
          "text": [
            "<class 'pandas.core.frame.DataFrame'>\n",
            "RangeIndex: 205 entries, 0 to 204\n",
            "Data columns (total 9 columns):\n",
            " #   Column             Non-Null Count  Dtype  \n",
            "---  ------             --------------  -----  \n",
            " 0   wheel-base         205 non-null    float64\n",
            " 1   length             205 non-null    float64\n",
            " 2   width              205 non-null    float64\n",
            " 3   height             205 non-null    float64\n",
            " 4   bore               205 non-null    object \n",
            " 5   stroke             205 non-null    object \n",
            " 6   compression-ratio  205 non-null    float64\n",
            " 7   peak-rpm           205 non-null    object \n",
            " 8   price              205 non-null    object \n",
            "dtypes: float64(5), object(4)\n",
            "memory usage: 14.5+ KB\n"
          ],
          "name": "stdout"
        }
      ]
    },
    {
      "cell_type": "code",
      "metadata": {
        "id": "eMGYSpSzUffj"
      },
      "source": [
        "dataset1 = dataset1.replace('?', np.nan)"
      ],
      "execution_count": null,
      "outputs": []
    },
    {
      "cell_type": "code",
      "metadata": {
        "id": "AL4cL-wSUspw",
        "outputId": "6c1437bb-979b-4697-9107-9e2ec6dc5257",
        "colab": {
          "base_uri": "https://localhost:8080/"
        }
      },
      "source": [
        "dataset1.isnull().sum()"
      ],
      "execution_count": null,
      "outputs": [
        {
          "output_type": "execute_result",
          "data": {
            "text/plain": [
              "wheel-base           0\n",
              "length               0\n",
              "width                0\n",
              "height               0\n",
              "bore                 4\n",
              "stroke               4\n",
              "compression-ratio    0\n",
              "peak-rpm             2\n",
              "price                4\n",
              "dtype: int64"
            ]
          },
          "metadata": {
            "tags": []
          },
          "execution_count": 190
        }
      ]
    },
    {
      "cell_type": "code",
      "metadata": {
        "id": "IuIc5DoFTJMB"
      },
      "source": [
        "col = dataset1.columns\n",
        "\n",
        "for n in col:\n",
        "  dataset1[n] = dataset1[n].astype(float)"
      ],
      "execution_count": null,
      "outputs": []
    },
    {
      "cell_type": "code",
      "metadata": {
        "id": "2_Au_B_6STb8"
      },
      "source": [
        "for n in col:\n",
        "  dataset1[n] = dataset1[n].fillna(dataset1[n].mean())"
      ],
      "execution_count": null,
      "outputs": []
    },
    {
      "cell_type": "code",
      "metadata": {
        "id": "HbutAnj9XWRu"
      },
      "source": [
        "col = ['peak-rpm', 'price']\n",
        "\n",
        "for n in col:\n",
        "  dataset1[n] = dataset1[n].astype(int)"
      ],
      "execution_count": null,
      "outputs": []
    },
    {
      "cell_type": "code",
      "metadata": {
        "id": "iXHhmoUxXltO",
        "outputId": "86d7e3d7-329c-4ca9-a26e-84fcd947d764",
        "colab": {
          "base_uri": "https://localhost:8080/"
        }
      },
      "source": [
        "histogram(dataset1)"
      ],
      "execution_count": null,
      "outputs": [
        {
          "output_type": "display_data",
          "data": {
            "image/png": "[encoded data removed]",
            "text/plain": [
              "<Figure size 1296x1584 with 9 Axes>"
            ]
          },
          "metadata": {
            "tags": [],
            "needs_background": "light"
          }
        }
      ]
    },
    {
      "cell_type": "code",
      "metadata": {
        "id": "og9LSF36YH3F",
        "outputId": "b51a2553-c938-471c-ee4f-d99d87f66102",
        "colab": {
          "base_uri": "https://localhost:8080/"
        }
      },
      "source": [
        "heatmap(dataset1)"
      ],
      "execution_count": null,
      "outputs": [
        {
          "output_type": "display_data",
          "data": {
            "image/png": "[encoded data removed]",
            "text/plain": [
              "<Figure size 1440x1440 with 2 Axes>"
            ]
          },
          "metadata": {
            "tags": [],
            "needs_background": "light"
          }
        }
      ]
    },
    {
      "cell_type": "markdown",
      "metadata": {
        "id": "r64qlSztY6MH"
      },
      "source": [
        "### Feature Engineering"
      ]
    },
    {
      "cell_type": "code",
      "metadata": {
        "id": "kLyWeRn0YlPZ"
      },
      "source": [
        "features1 = dataset1.drop(['price'], axis=1)\n",
        "label1 = dataset1['price']"
      ],
      "execution_count": null,
      "outputs": []
    },
    {
      "cell_type": "code",
      "metadata": {
        "id": "vWZToTrYXWts"
      },
      "source": [
        "# scalling dan memisahkan data train dan label\n",
        "feature_train1, feature_test1, label_train1, label_test1 = scalling(features1, label1, 0.2)"
      ],
      "execution_count": null,
      "outputs": []
    },
    {
      "cell_type": "markdown",
      "metadata": {
        "id": "CHG5fmFNfhzY"
      },
      "source": [
        "### Linear Regression"
      ]
    },
    {
      "cell_type": "code",
      "metadata": {
        "id": "lVt95OPqflhc",
        "outputId": "53f2ca89-3f5d-4b30-ca1f-c6dcee36a272",
        "colab": {
          "base_uri": "https://localhost:8080/",
          "height": 86
        }
      },
      "source": [
        "linreg(feature_train1, label_train1, feature_test1, label_test1)"
      ],
      "execution_count": null,
      "outputs": [
        {
          "output_type": "stream",
          "text": [
            "MSE \t\t: 0.394\n",
            "MAE \t\t: 0.458\n",
            "r2 score \t: 0.448\n",
            "RMSE \t\t: 0.628\n"
          ],
          "name": "stdout"
        }
      ]
    },
    {
      "cell_type": "markdown",
      "metadata": {
        "id": "ZdyCJyPBZsgX"
      },
      "source": [
        "### BaseLine Model"
      ]
    },
    {
      "cell_type": "code",
      "metadata": {
        "id": "cy1hgC-kaXG1",
        "outputId": "beffcee8-c8a8-4302-d398-86eaee1fad02",
        "colab": {
          "base_uri": "https://localhost:8080/",
          "height": 1000
        }
      },
      "source": [
        "jumlah_feature = 8\n",
        "\n",
        "model_b1, history_b1 = bl_model(feature_train1, label_train1, feature_test1, \n",
        "                                label_test1, jumlah_feature)\n",
        "history_b1"
      ],
      "execution_count": null,
      "outputs": [
        {
          "output_type": "stream",
          "text": [
            "Epoch 1/50\n",
            "21/21 [==============================] - 0s 6ms/step - loss: 1.0658 - val_loss: 0.7030\n",
            "Epoch 2/50\n",
            "21/21 [==============================] - 0s 2ms/step - loss: 1.0378 - val_loss: 0.6813\n",
            "Epoch 3/50\n",
            "21/21 [==============================] - 0s 2ms/step - loss: 0.9964 - val_loss: 0.6447\n",
            "Epoch 4/50\n",
            "21/21 [==============================] - 0s 2ms/step - loss: 0.9236 - val_loss: 0.5923\n",
            "Epoch 5/50\n",
            "21/21 [==============================] - 0s 2ms/step - loss: 0.8357 - val_loss: 0.5275\n",
            "Epoch 6/50\n",
            "21/21 [==============================] - 0s 2ms/step - loss: 0.7369 - val_loss: 0.4698\n",
            "Epoch 7/50\n",
            "21/21 [==============================] - 0s 2ms/step - loss: 0.6547 - val_loss: 0.4315\n",
            "Epoch 8/50\n",
            "21/21 [==============================] - 0s 2ms/step - loss: 0.5953 - val_loss: 0.4023\n",
            "Epoch 9/50\n",
            "21/21 [==============================] - 0s 2ms/step - loss: 0.5499 - val_loss: 0.3854\n",
            "Epoch 10/50\n",
            "21/21 [==============================] - 0s 2ms/step - loss: 0.5164 - val_loss: 0.3736\n",
            "Epoch 11/50\n",
            "21/21 [==============================] - 0s 3ms/step - loss: 0.4906 - val_loss: 0.3670\n",
            "Epoch 12/50\n",
            "21/21 [==============================] - 0s 2ms/step - loss: 0.4739 - val_loss: 0.3629\n",
            "Epoch 13/50\n",
            "21/21 [==============================] - 0s 2ms/step - loss: 0.4594 - val_loss: 0.3555\n",
            "Epoch 14/50\n",
            "21/21 [==============================] - 0s 2ms/step - loss: 0.4471 - val_loss: 0.3481\n",
            "Epoch 15/50\n",
            "21/21 [==============================] - 0s 2ms/step - loss: 0.4437 - val_loss: 0.3449\n",
            "Epoch 16/50\n",
            "21/21 [==============================] - 0s 2ms/step - loss: 0.4303 - val_loss: 0.3312\n",
            "Epoch 17/50\n",
            "21/21 [==============================] - 0s 3ms/step - loss: 0.4235 - val_loss: 0.3287\n",
            "Epoch 18/50\n",
            "21/21 [==============================] - 0s 2ms/step - loss: 0.4166 - val_loss: 0.3306\n",
            "Epoch 19/50\n",
            "21/21 [==============================] - 0s 3ms/step - loss: 0.4080 - val_loss: 0.3254\n",
            "Epoch 20/50\n",
            "21/21 [==============================] - 0s 2ms/step - loss: 0.4037 - val_loss: 0.3188\n",
            "Epoch 21/50\n",
            "21/21 [==============================] - 0s 2ms/step - loss: 0.3981 - val_loss: 0.3167\n",
            "Epoch 22/50\n",
            "21/21 [==============================] - 0s 2ms/step - loss: 0.3927 - val_loss: 0.3144\n",
            "Epoch 23/50\n",
            "21/21 [==============================] - 0s 3ms/step - loss: 0.3883 - val_loss: 0.3199\n",
            "Epoch 24/50\n",
            "21/21 [==============================] - 0s 2ms/step - loss: 0.3844 - val_loss: 0.3184\n",
            "Epoch 25/50\n",
            "21/21 [==============================] - 0s 2ms/step - loss: 0.3800 - val_loss: 0.3148\n",
            "Epoch 26/50\n",
            "21/21 [==============================] - 0s 2ms/step - loss: 0.3750 - val_loss: 0.3128\n",
            "Epoch 27/50\n",
            "21/21 [==============================] - 0s 2ms/step - loss: 0.3710 - val_loss: 0.3079\n",
            "Epoch 28/50\n",
            "21/21 [==============================] - 0s 2ms/step - loss: 0.3685 - val_loss: 0.3155\n",
            "Epoch 29/50\n",
            "21/21 [==============================] - 0s 2ms/step - loss: 0.3649 - val_loss: 0.3079\n",
            "Epoch 30/50\n",
            "21/21 [==============================] - 0s 2ms/step - loss: 0.3592 - val_loss: 0.3145\n",
            "Epoch 31/50\n",
            "21/21 [==============================] - 0s 2ms/step - loss: 0.3558 - val_loss: 0.3145\n",
            "Epoch 32/50\n",
            "21/21 [==============================] - 0s 2ms/step - loss: 0.3518 - val_loss: 0.3120\n",
            "Epoch 33/50\n",
            "21/21 [==============================] - 0s 2ms/step - loss: 0.3477 - val_loss: 0.3078\n",
            "Epoch 34/50\n",
            "21/21 [==============================] - 0s 2ms/step - loss: 0.3426 - val_loss: 0.3131\n",
            "Epoch 35/50\n",
            "21/21 [==============================] - 0s 2ms/step - loss: 0.3386 - val_loss: 0.3148\n",
            "Epoch 36/50\n",
            "21/21 [==============================] - 0s 3ms/step - loss: 0.3340 - val_loss: 0.3139\n",
            "Epoch 37/50\n",
            "21/21 [==============================] - 0s 2ms/step - loss: 0.3299 - val_loss: 0.3194\n",
            "Epoch 38/50\n",
            "21/21 [==============================] - 0s 3ms/step - loss: 0.3267 - val_loss: 0.3233\n",
            "Epoch 39/50\n",
            "21/21 [==============================] - 0s 2ms/step - loss: 0.3222 - val_loss: 0.3236\n",
            "Epoch 40/50\n",
            "21/21 [==============================] - 0s 2ms/step - loss: 0.3178 - val_loss: 0.3253\n",
            "Epoch 41/50\n",
            "21/21 [==============================] - 0s 2ms/step - loss: 0.3145 - val_loss: 0.3227\n",
            "Epoch 42/50\n",
            "21/21 [==============================] - 0s 2ms/step - loss: 0.3108 - val_loss: 0.3260\n",
            "Epoch 43/50\n",
            "21/21 [==============================] - 0s 2ms/step - loss: 0.3056 - val_loss: 0.3258\n",
            "Epoch 44/50\n",
            "21/21 [==============================] - 0s 2ms/step - loss: 0.3028 - val_loss: 0.3330\n",
            "Epoch 45/50\n",
            "21/21 [==============================] - 0s 2ms/step - loss: 0.2991 - val_loss: 0.3356\n",
            "Epoch 46/50\n",
            "21/21 [==============================] - 0s 2ms/step - loss: 0.2954 - val_loss: 0.3366\n",
            "Epoch 47/50\n",
            "21/21 [==============================] - 0s 2ms/step - loss: 0.2919 - val_loss: 0.3354\n",
            "Epoch 48/50\n",
            "21/21 [==============================] - 0s 2ms/step - loss: 0.2881 - val_loss: 0.3400\n",
            "Epoch 49/50\n",
            "21/21 [==============================] - 0s 2ms/step - loss: 0.2859 - val_loss: 0.3497\n",
            "Epoch 50/50\n",
            "21/21 [==============================] - 0s 2ms/step - loss: 0.2828 - val_loss: 0.3527\n"
          ],
          "name": "stdout"
        },
        {
          "output_type": "execute_result",
          "data": {
            "text/plain": [
              "<tensorflow.python.keras.callbacks.History at 0x7f6a8edfc0b8>"
            ]
          },
          "metadata": {
            "tags": []
          },
          "execution_count": 199
        }
      ]
    },
    {
      "cell_type": "code",
      "metadata": {
        "id": "bqla7vlIblo4",
        "outputId": "3e0c2017-26b5-4819-caa8-e79d790f41aa",
        "colab": {
          "base_uri": "https://localhost:8080/",
          "height": 124
        }
      },
      "source": [
        "prediksi(feature_test1, label_test1, model_b1)"
      ],
      "execution_count": null,
      "outputs": [
        {
          "output_type": "stream",
          "text": [
            "WARNING:tensorflow:5 out of the last 11 calls to <function Model.make_predict_function.<locals>.predict_function at 0x7f6a8f3c0510> triggered tf.function retracing. Tracing is expensive and the excessive number of tracings could be due to (1) creating @tf.function repeatedly in a loop, (2) passing tensors with different shapes, (3) passing Python objects instead of tensors. For (1), please define your @tf.function outside of the loop. For (2), @tf.function has experimental_relax_shapes=True option that relaxes argument shapes that can avoid unnecessary retracing. For (3), please refer to https://www.tensorflow.org/tutorials/customization/performance#python_or_tensor_args and https://www.tensorflow.org/api_docs/python/tf/function for  more details.\n",
            "MSE \t\t: 0.353\n",
            "MAE \t\t: 0.406\n",
            "r2 score \t: 0.506\n",
            "RMSE \t\t: 0.594\n"
          ],
          "name": "stdout"
        }
      ]
    },
    {
      "cell_type": "markdown",
      "metadata": {
        "id": "vXMWCeaweCJ2"
      },
      "source": [
        "### Deeper Model"
      ]
    },
    {
      "cell_type": "code",
      "metadata": {
        "id": "eUnwaayEdZWG",
        "outputId": "e27230bc-adbd-4015-ce65-29b4e524be3e",
        "colab": {
          "base_uri": "https://localhost:8080/",
          "height": 1000
        }
      },
      "source": [
        "model_d1, history_d1 = deeper_model(feature_train1, label_train1, feature_test1, \n",
        "                                    label_test1, jumlah_feature)\n",
        "history_d1"
      ],
      "execution_count": null,
      "outputs": [
        {
          "output_type": "stream",
          "text": [
            "Epoch 1/50\n",
            "21/21 [==============================] - 0s 6ms/step - loss: 1.0711 - val_loss: 0.7146\n",
            "Epoch 2/50\n",
            "21/21 [==============================] - 0s 2ms/step - loss: 1.0678 - val_loss: 0.7106\n",
            "Epoch 3/50\n",
            "21/21 [==============================] - 0s 2ms/step - loss: 1.0563 - val_loss: 0.6968\n",
            "Epoch 4/50\n",
            "21/21 [==============================] - 0s 2ms/step - loss: 1.0266 - val_loss: 0.6669\n",
            "Epoch 5/50\n",
            "21/21 [==============================] - 0s 3ms/step - loss: 0.9674 - val_loss: 0.6157\n",
            "Epoch 6/50\n",
            "21/21 [==============================] - 0s 2ms/step - loss: 0.8770 - val_loss: 0.5404\n",
            "Epoch 7/50\n",
            "21/21 [==============================] - 0s 2ms/step - loss: 0.7601 - val_loss: 0.4698\n",
            "Epoch 8/50\n",
            "21/21 [==============================] - 0s 2ms/step - loss: 0.6532 - val_loss: 0.4134\n",
            "Epoch 9/50\n",
            "21/21 [==============================] - 0s 2ms/step - loss: 0.5671 - val_loss: 0.3826\n",
            "Epoch 10/50\n",
            "21/21 [==============================] - 0s 2ms/step - loss: 0.5069 - val_loss: 0.3643\n",
            "Epoch 11/50\n",
            "21/21 [==============================] - 0s 2ms/step - loss: 0.4743 - val_loss: 0.3582\n",
            "Epoch 12/50\n",
            "21/21 [==============================] - 0s 2ms/step - loss: 0.4506 - val_loss: 0.3591\n",
            "Epoch 13/50\n",
            "21/21 [==============================] - 0s 2ms/step - loss: 0.4392 - val_loss: 0.3595\n",
            "Epoch 14/50\n",
            "21/21 [==============================] - 0s 2ms/step - loss: 0.4183 - val_loss: 0.3339\n",
            "Epoch 15/50\n",
            "21/21 [==============================] - 0s 3ms/step - loss: 0.4060 - val_loss: 0.3352\n",
            "Epoch 16/50\n",
            "21/21 [==============================] - 0s 3ms/step - loss: 0.3947 - val_loss: 0.3364\n",
            "Epoch 17/50\n",
            "21/21 [==============================] - 0s 2ms/step - loss: 0.3835 - val_loss: 0.3333\n",
            "Epoch 18/50\n",
            "21/21 [==============================] - 0s 2ms/step - loss: 0.3793 - val_loss: 0.3363\n",
            "Epoch 19/50\n",
            "21/21 [==============================] - 0s 2ms/step - loss: 0.3691 - val_loss: 0.3242\n",
            "Epoch 20/50\n",
            "21/21 [==============================] - 0s 2ms/step - loss: 0.3610 - val_loss: 0.3336\n",
            "Epoch 21/50\n",
            "21/21 [==============================] - 0s 2ms/step - loss: 0.3523 - val_loss: 0.3389\n",
            "Epoch 22/50\n",
            "21/21 [==============================] - 0s 2ms/step - loss: 0.3418 - val_loss: 0.3392\n",
            "Epoch 23/50\n",
            "21/21 [==============================] - 0s 2ms/step - loss: 0.3369 - val_loss: 0.3429\n",
            "Epoch 24/50\n",
            "21/21 [==============================] - 0s 2ms/step - loss: 0.3293 - val_loss: 0.3348\n",
            "Epoch 25/50\n",
            "21/21 [==============================] - 0s 3ms/step - loss: 0.3215 - val_loss: 0.3489\n",
            "Epoch 26/50\n",
            "21/21 [==============================] - 0s 2ms/step - loss: 0.3141 - val_loss: 0.3476\n",
            "Epoch 27/50\n",
            "21/21 [==============================] - 0s 2ms/step - loss: 0.3074 - val_loss: 0.3463\n",
            "Epoch 28/50\n",
            "21/21 [==============================] - 0s 2ms/step - loss: 0.3021 - val_loss: 0.3493\n",
            "Epoch 29/50\n",
            "21/21 [==============================] - 0s 2ms/step - loss: 0.2979 - val_loss: 0.3454\n",
            "Epoch 30/50\n",
            "21/21 [==============================] - 0s 2ms/step - loss: 0.2889 - val_loss: 0.3603\n",
            "Epoch 31/50\n",
            "21/21 [==============================] - 0s 2ms/step - loss: 0.2814 - val_loss: 0.3696\n",
            "Epoch 32/50\n",
            "21/21 [==============================] - 0s 2ms/step - loss: 0.2735 - val_loss: 0.3667\n",
            "Epoch 33/50\n",
            "21/21 [==============================] - 0s 2ms/step - loss: 0.2701 - val_loss: 0.3675\n",
            "Epoch 34/50\n",
            "21/21 [==============================] - 0s 3ms/step - loss: 0.2628 - val_loss: 0.3743\n",
            "Epoch 35/50\n",
            "21/21 [==============================] - 0s 3ms/step - loss: 0.2564 - val_loss: 0.3778\n",
            "Epoch 36/50\n",
            "21/21 [==============================] - 0s 2ms/step - loss: 0.2527 - val_loss: 0.3783\n",
            "Epoch 37/50\n",
            "21/21 [==============================] - 0s 2ms/step - loss: 0.2505 - val_loss: 0.3987\n",
            "Epoch 38/50\n",
            "21/21 [==============================] - 0s 2ms/step - loss: 0.2408 - val_loss: 0.3863\n",
            "Epoch 39/50\n",
            "21/21 [==============================] - 0s 2ms/step - loss: 0.2366 - val_loss: 0.4002\n",
            "Epoch 40/50\n",
            "21/21 [==============================] - 0s 3ms/step - loss: 0.2316 - val_loss: 0.3993\n",
            "Epoch 41/50\n",
            "21/21 [==============================] - 0s 2ms/step - loss: 0.2258 - val_loss: 0.4018\n",
            "Epoch 42/50\n",
            "21/21 [==============================] - 0s 2ms/step - loss: 0.2225 - val_loss: 0.4166\n",
            "Epoch 43/50\n",
            "21/21 [==============================] - 0s 2ms/step - loss: 0.2216 - val_loss: 0.4222\n",
            "Epoch 44/50\n",
            "21/21 [==============================] - 0s 2ms/step - loss: 0.2167 - val_loss: 0.4234\n",
            "Epoch 45/50\n",
            "21/21 [==============================] - 0s 2ms/step - loss: 0.2114 - val_loss: 0.4364\n",
            "Epoch 46/50\n",
            "21/21 [==============================] - 0s 2ms/step - loss: 0.2057 - val_loss: 0.4351\n",
            "Epoch 47/50\n",
            "21/21 [==============================] - 0s 3ms/step - loss: 0.2027 - val_loss: 0.4328\n",
            "Epoch 48/50\n",
            "21/21 [==============================] - 0s 2ms/step - loss: 0.2005 - val_loss: 0.4510\n",
            "Epoch 49/50\n",
            "21/21 [==============================] - 0s 2ms/step - loss: 0.1970 - val_loss: 0.4619\n",
            "Epoch 50/50\n",
            "21/21 [==============================] - 0s 2ms/step - loss: 0.1924 - val_loss: 0.4606\n"
          ],
          "name": "stdout"
        },
        {
          "output_type": "execute_result",
          "data": {
            "text/plain": [
              "<tensorflow.python.keras.callbacks.History at 0x7f6a8f6e2748>"
            ]
          },
          "metadata": {
            "tags": []
          },
          "execution_count": 201
        }
      ]
    },
    {
      "cell_type": "code",
      "metadata": {
        "id": "SCVidjGod0a2",
        "outputId": "61fe4a1f-bb6e-4612-dcd4-78974ba2bbf5",
        "colab": {
          "base_uri": "https://localhost:8080/",
          "height": 124
        }
      },
      "source": [
        "prediksi(feature_test1, label_test1, model_d1)"
      ],
      "execution_count": null,
      "outputs": [
        {
          "output_type": "stream",
          "text": [
            "WARNING:tensorflow:6 out of the last 13 calls to <function Model.make_predict_function.<locals>.predict_function at 0x7f6a8eb8dae8> triggered tf.function retracing. Tracing is expensive and the excessive number of tracings could be due to (1) creating @tf.function repeatedly in a loop, (2) passing tensors with different shapes, (3) passing Python objects instead of tensors. For (1), please define your @tf.function outside of the loop. For (2), @tf.function has experimental_relax_shapes=True option that relaxes argument shapes that can avoid unnecessary retracing. For (3), please refer to https://www.tensorflow.org/tutorials/customization/performance#python_or_tensor_args and https://www.tensorflow.org/api_docs/python/tf/function for  more details.\n",
            "MSE \t\t: 0.461\n",
            "MAE \t\t: 0.394\n",
            "r2 score \t: 0.355\n",
            "RMSE \t\t: 0.679\n"
          ],
          "name": "stdout"
        }
      ]
    },
    {
      "cell_type": "markdown",
      "metadata": {
        "id": "GH_QUr4OeFcz"
      },
      "source": [
        "### Wider Model"
      ]
    },
    {
      "cell_type": "code",
      "metadata": {
        "id": "pv19X7-Ed-8b",
        "outputId": "fa4331f9-995d-4776-ba0f-a082a4364475",
        "colab": {
          "base_uri": "https://localhost:8080/",
          "height": 1000
        }
      },
      "source": [
        "model_w1, history_w1 = wider_model(feature_train1, label_train1, feature_test1, \n",
        "                                   label_test1, jumlah_feature)\n",
        "history_w1"
      ],
      "execution_count": null,
      "outputs": [
        {
          "output_type": "stream",
          "text": [
            "Epoch 1/100\n",
            "21/21 [==============================] - 0s 5ms/step - loss: 1.0482 - val_loss: 0.6874\n",
            "Epoch 2/100\n",
            "21/21 [==============================] - 0s 3ms/step - loss: 0.9981 - val_loss: 0.6490\n",
            "Epoch 3/100\n",
            "21/21 [==============================] - 0s 2ms/step - loss: 0.9272 - val_loss: 0.5971\n",
            "Epoch 4/100\n",
            "21/21 [==============================] - 0s 2ms/step - loss: 0.8358 - val_loss: 0.5329\n",
            "Epoch 5/100\n",
            "21/21 [==============================] - 0s 2ms/step - loss: 0.7448 - val_loss: 0.4622\n",
            "Epoch 6/100\n",
            "21/21 [==============================] - 0s 2ms/step - loss: 0.6397 - val_loss: 0.4119\n",
            "Epoch 7/100\n",
            "21/21 [==============================] - 0s 2ms/step - loss: 0.5673 - val_loss: 0.3725\n",
            "Epoch 8/100\n",
            "21/21 [==============================] - 0s 2ms/step - loss: 0.5108 - val_loss: 0.3652\n",
            "Epoch 9/100\n",
            "21/21 [==============================] - 0s 2ms/step - loss: 0.4784 - val_loss: 0.3604\n",
            "Epoch 10/100\n",
            "21/21 [==============================] - 0s 2ms/step - loss: 0.4564 - val_loss: 0.3633\n",
            "Epoch 11/100\n",
            "21/21 [==============================] - 0s 2ms/step - loss: 0.4411 - val_loss: 0.3613\n",
            "Epoch 12/100\n",
            "21/21 [==============================] - 0s 2ms/step - loss: 0.4262 - val_loss: 0.3551\n",
            "Epoch 13/100\n",
            "21/21 [==============================] - 0s 3ms/step - loss: 0.4164 - val_loss: 0.3558\n",
            "Epoch 14/100\n",
            "21/21 [==============================] - 0s 3ms/step - loss: 0.4044 - val_loss: 0.3503\n",
            "Epoch 15/100\n",
            "21/21 [==============================] - 0s 2ms/step - loss: 0.3957 - val_loss: 0.3514\n",
            "Epoch 16/100\n",
            "21/21 [==============================] - 0s 2ms/step - loss: 0.3860 - val_loss: 0.3472\n",
            "Epoch 17/100\n",
            "21/21 [==============================] - 0s 2ms/step - loss: 0.3734 - val_loss: 0.3565\n",
            "Epoch 18/100\n",
            "21/21 [==============================] - 0s 2ms/step - loss: 0.3658 - val_loss: 0.3580\n",
            "Epoch 19/100\n",
            "21/21 [==============================] - 0s 2ms/step - loss: 0.3617 - val_loss: 0.3587\n",
            "Epoch 20/100\n",
            "21/21 [==============================] - 0s 2ms/step - loss: 0.3498 - val_loss: 0.3655\n",
            "Epoch 21/100\n",
            "21/21 [==============================] - 0s 2ms/step - loss: 0.3435 - val_loss: 0.3701\n",
            "Epoch 22/100\n",
            "21/21 [==============================] - 0s 2ms/step - loss: 0.3358 - val_loss: 0.3740\n",
            "Epoch 23/100\n",
            "21/21 [==============================] - 0s 2ms/step - loss: 0.3300 - val_loss: 0.3781\n",
            "Epoch 24/100\n",
            "21/21 [==============================] - 0s 2ms/step - loss: 0.3265 - val_loss: 0.3866\n",
            "Epoch 25/100\n",
            "21/21 [==============================] - 0s 2ms/step - loss: 0.3168 - val_loss: 0.3823\n",
            "Epoch 26/100\n",
            "21/21 [==============================] - 0s 2ms/step - loss: 0.3107 - val_loss: 0.4027\n",
            "Epoch 27/100\n",
            "21/21 [==============================] - 0s 2ms/step - loss: 0.3056 - val_loss: 0.4005\n",
            "Epoch 28/100\n",
            "21/21 [==============================] - 0s 2ms/step - loss: 0.2990 - val_loss: 0.3990\n",
            "Epoch 29/100\n",
            "21/21 [==============================] - 0s 2ms/step - loss: 0.2950 - val_loss: 0.4008\n",
            "Epoch 30/100\n",
            "21/21 [==============================] - 0s 2ms/step - loss: 0.2900 - val_loss: 0.4075\n",
            "Epoch 31/100\n",
            "21/21 [==============================] - 0s 2ms/step - loss: 0.2848 - val_loss: 0.4129\n",
            "Epoch 32/100\n",
            "21/21 [==============================] - 0s 3ms/step - loss: 0.2794 - val_loss: 0.4189\n",
            "Epoch 33/100\n",
            "21/21 [==============================] - 0s 3ms/step - loss: 0.2787 - val_loss: 0.4530\n",
            "Epoch 34/100\n",
            "21/21 [==============================] - 0s 2ms/step - loss: 0.2716 - val_loss: 0.4243\n",
            "Epoch 35/100\n",
            "21/21 [==============================] - 0s 2ms/step - loss: 0.2693 - val_loss: 0.4283\n",
            "Epoch 36/100\n",
            "21/21 [==============================] - 0s 2ms/step - loss: 0.2641 - val_loss: 0.4404\n",
            "Epoch 37/100\n",
            "21/21 [==============================] - 0s 2ms/step - loss: 0.2616 - val_loss: 0.4416\n",
            "Epoch 38/100\n",
            "21/21 [==============================] - 0s 2ms/step - loss: 0.2619 - val_loss: 0.4337\n",
            "Epoch 39/100\n",
            "21/21 [==============================] - 0s 2ms/step - loss: 0.2596 - val_loss: 0.4540\n",
            "Epoch 40/100\n",
            "21/21 [==============================] - 0s 2ms/step - loss: 0.2539 - val_loss: 0.4528\n",
            "Epoch 41/100\n",
            "21/21 [==============================] - 0s 2ms/step - loss: 0.2531 - val_loss: 0.4470\n",
            "Epoch 42/100\n",
            "21/21 [==============================] - 0s 2ms/step - loss: 0.2485 - val_loss: 0.4527\n",
            "Epoch 43/100\n",
            "21/21 [==============================] - 0s 2ms/step - loss: 0.2462 - val_loss: 0.4452\n",
            "Epoch 44/100\n",
            "21/21 [==============================] - 0s 2ms/step - loss: 0.2448 - val_loss: 0.4652\n",
            "Epoch 45/100\n",
            "21/21 [==============================] - 0s 2ms/step - loss: 0.2402 - val_loss: 0.4541\n",
            "Epoch 46/100\n",
            "21/21 [==============================] - 0s 2ms/step - loss: 0.2381 - val_loss: 0.4754\n",
            "Epoch 47/100\n",
            "21/21 [==============================] - 0s 2ms/step - loss: 0.2360 - val_loss: 0.4724\n",
            "Epoch 48/100\n",
            "21/21 [==============================] - 0s 2ms/step - loss: 0.2338 - val_loss: 0.4567\n",
            "Epoch 49/100\n",
            "21/21 [==============================] - 0s 2ms/step - loss: 0.2312 - val_loss: 0.4581\n",
            "Epoch 50/100\n",
            "21/21 [==============================] - 0s 2ms/step - loss: 0.2293 - val_loss: 0.4895\n",
            "Epoch 51/100\n",
            "21/21 [==============================] - 0s 3ms/step - loss: 0.2260 - val_loss: 0.4885\n",
            "Epoch 52/100\n",
            "21/21 [==============================] - 0s 3ms/step - loss: 0.2237 - val_loss: 0.4922\n",
            "Epoch 53/100\n",
            "21/21 [==============================] - 0s 2ms/step - loss: 0.2218 - val_loss: 0.4777\n",
            "Epoch 54/100\n",
            "21/21 [==============================] - 0s 2ms/step - loss: 0.2200 - val_loss: 0.4813\n",
            "Epoch 55/100\n",
            "21/21 [==============================] - 0s 2ms/step - loss: 0.2187 - val_loss: 0.4828\n",
            "Epoch 56/100\n",
            "21/21 [==============================] - 0s 2ms/step - loss: 0.2167 - val_loss: 0.4794\n",
            "Epoch 57/100\n",
            "21/21 [==============================] - 0s 2ms/step - loss: 0.2154 - val_loss: 0.4897\n",
            "Epoch 58/100\n",
            "21/21 [==============================] - 0s 2ms/step - loss: 0.2152 - val_loss: 0.4870\n",
            "Epoch 59/100\n",
            "21/21 [==============================] - 0s 2ms/step - loss: 0.2146 - val_loss: 0.4985\n",
            "Epoch 60/100\n",
            "21/21 [==============================] - 0s 2ms/step - loss: 0.2154 - val_loss: 0.4793\n",
            "Epoch 61/100\n",
            "21/21 [==============================] - 0s 2ms/step - loss: 0.2126 - val_loss: 0.5141\n",
            "Epoch 62/100\n",
            "21/21 [==============================] - 0s 2ms/step - loss: 0.2098 - val_loss: 0.4901\n",
            "Epoch 63/100\n",
            "21/21 [==============================] - 0s 2ms/step - loss: 0.2076 - val_loss: 0.4939\n",
            "Epoch 64/100\n",
            "21/21 [==============================] - 0s 3ms/step - loss: 0.2055 - val_loss: 0.4973\n",
            "Epoch 65/100\n",
            "21/21 [==============================] - 0s 3ms/step - loss: 0.2050 - val_loss: 0.5132\n",
            "Epoch 66/100\n",
            "21/21 [==============================] - 0s 2ms/step - loss: 0.2035 - val_loss: 0.5002\n",
            "Epoch 67/100\n",
            "21/21 [==============================] - 0s 2ms/step - loss: 0.2027 - val_loss: 0.5188\n",
            "Epoch 68/100\n",
            "21/21 [==============================] - 0s 2ms/step - loss: 0.2024 - val_loss: 0.5156\n",
            "Epoch 69/100\n",
            "21/21 [==============================] - 0s 2ms/step - loss: 0.1999 - val_loss: 0.5145\n",
            "Epoch 70/100\n",
            "21/21 [==============================] - 0s 2ms/step - loss: 0.2011 - val_loss: 0.5148\n",
            "Epoch 71/100\n",
            "21/21 [==============================] - 0s 3ms/step - loss: 0.1974 - val_loss: 0.5003\n",
            "Epoch 72/100\n",
            "21/21 [==============================] - 0s 2ms/step - loss: 0.1968 - val_loss: 0.5202\n",
            "Epoch 73/100\n",
            "21/21 [==============================] - 0s 2ms/step - loss: 0.1947 - val_loss: 0.5237\n",
            "Epoch 74/100\n",
            "21/21 [==============================] - 0s 2ms/step - loss: 0.1956 - val_loss: 0.5176\n",
            "Epoch 75/100\n",
            "21/21 [==============================] - 0s 2ms/step - loss: 0.1947 - val_loss: 0.5143\n",
            "Epoch 76/100\n",
            "21/21 [==============================] - 0s 2ms/step - loss: 0.1923 - val_loss: 0.5153\n",
            "Epoch 77/100\n",
            "21/21 [==============================] - 0s 2ms/step - loss: 0.1934 - val_loss: 0.5038\n",
            "Epoch 78/100\n",
            "21/21 [==============================] - 0s 2ms/step - loss: 0.1917 - val_loss: 0.5311\n",
            "Epoch 79/100\n",
            "21/21 [==============================] - 0s 3ms/step - loss: 0.1899 - val_loss: 0.5135\n",
            "Epoch 80/100\n",
            "21/21 [==============================] - 0s 2ms/step - loss: 0.1880 - val_loss: 0.5220\n",
            "Epoch 81/100\n",
            "21/21 [==============================] - 0s 2ms/step - loss: 0.1901 - val_loss: 0.5180\n",
            "Epoch 82/100\n",
            "21/21 [==============================] - 0s 2ms/step - loss: 0.1874 - val_loss: 0.5406\n",
            "Epoch 83/100\n",
            "21/21 [==============================] - 0s 2ms/step - loss: 0.1859 - val_loss: 0.5132\n",
            "Epoch 84/100\n",
            "21/21 [==============================] - 0s 2ms/step - loss: 0.1836 - val_loss: 0.5191\n",
            "Epoch 85/100\n",
            "21/21 [==============================] - 0s 2ms/step - loss: 0.1843 - val_loss: 0.5299\n",
            "Epoch 86/100\n",
            "21/21 [==============================] - 0s 2ms/step - loss: 0.1822 - val_loss: 0.5313\n",
            "Epoch 87/100\n",
            "21/21 [==============================] - 0s 2ms/step - loss: 0.1829 - val_loss: 0.5377\n",
            "Epoch 88/100\n",
            "21/21 [==============================] - 0s 2ms/step - loss: 0.1820 - val_loss: 0.5163\n",
            "Epoch 89/100\n",
            "21/21 [==============================] - 0s 2ms/step - loss: 0.1803 - val_loss: 0.5248\n",
            "Epoch 90/100\n",
            "21/21 [==============================] - 0s 3ms/step - loss: 0.1800 - val_loss: 0.5326\n",
            "Epoch 91/100\n",
            "21/21 [==============================] - 0s 2ms/step - loss: 0.1800 - val_loss: 0.5278\n",
            "Epoch 92/100\n",
            "21/21 [==============================] - 0s 3ms/step - loss: 0.1772 - val_loss: 0.5353\n",
            "Epoch 93/100\n",
            "21/21 [==============================] - 0s 2ms/step - loss: 0.1764 - val_loss: 0.5382\n",
            "Epoch 94/100\n",
            "21/21 [==============================] - 0s 2ms/step - loss: 0.1761 - val_loss: 0.5284\n",
            "Epoch 95/100\n",
            "21/21 [==============================] - 0s 2ms/step - loss: 0.1790 - val_loss: 0.5392\n",
            "Epoch 96/100\n",
            "21/21 [==============================] - 0s 2ms/step - loss: 0.1749 - val_loss: 0.5274\n",
            "Epoch 97/100\n",
            "21/21 [==============================] - 0s 2ms/step - loss: 0.1766 - val_loss: 0.5358\n",
            "Epoch 98/100\n",
            "21/21 [==============================] - 0s 2ms/step - loss: 0.1742 - val_loss: 0.5463\n",
            "Epoch 99/100\n",
            "21/21 [==============================] - 0s 2ms/step - loss: 0.1744 - val_loss: 0.5260\n",
            "Epoch 100/100\n",
            "21/21 [==============================] - 0s 2ms/step - loss: 0.1728 - val_loss: 0.5437\n"
          ],
          "name": "stdout"
        },
        {
          "output_type": "execute_result",
          "data": {
            "text/plain": [
              "<tensorflow.python.keras.callbacks.History at 0x7f6a8f60cb00>"
            ]
          },
          "metadata": {
            "tags": []
          },
          "execution_count": 203
        }
      ]
    },
    {
      "cell_type": "code",
      "metadata": {
        "id": "IEaCd4DyefWs",
        "outputId": "fb2720ad-3aa3-48b9-88c1-306ccab62892",
        "colab": {
          "base_uri": "https://localhost:8080/",
          "height": 124
        }
      },
      "source": [
        "prediksi(feature_test1, label_test1, model_w1)"
      ],
      "execution_count": null,
      "outputs": [
        {
          "output_type": "stream",
          "text": [
            "WARNING:tensorflow:6 out of the last 12 calls to <function Model.make_predict_function.<locals>.predict_function at 0x7f6a8ebbc6a8> triggered tf.function retracing. Tracing is expensive and the excessive number of tracings could be due to (1) creating @tf.function repeatedly in a loop, (2) passing tensors with different shapes, (3) passing Python objects instead of tensors. For (1), please define your @tf.function outside of the loop. For (2), @tf.function has experimental_relax_shapes=True option that relaxes argument shapes that can avoid unnecessary retracing. For (3), please refer to https://www.tensorflow.org/tutorials/customization/performance#python_or_tensor_args and https://www.tensorflow.org/api_docs/python/tf/function for  more details.\n",
            "MSE \t\t: 0.544\n",
            "MAE \t\t: 0.443\n",
            "r2 score \t: 0.239\n",
            "RMSE \t\t: 0.737\n"
          ],
          "name": "stdout"
        }
      ]
    },
    {
      "cell_type": "markdown",
      "metadata": {
        "id": "FYpicq3pgH-S"
      },
      "source": [
        "# Dataset Auto MPG"
      ]
    },
    {
      "cell_type": "code",
      "metadata": {
        "id": "Qv_qcKQMgMa1",
        "outputId": "2f35e92c-c2b3-4879-8a60-19aae0adb4ed",
        "colab": {
          "base_uri": "https://localhost:8080/",
          "height": 202
        }
      },
      "source": [
        "dataset2 = pd.read_csv('/content/drive/My Drive/abc/auto-mpg.csv')\n",
        "dataset2 = dataset2.drop(['car name'], axis=1)\n",
        "dataset2.head()"
      ],
      "execution_count": null,
      "outputs": [
        {
          "output_type": "execute_result",
          "data": {
            "text/html": [
              "<div>\n",
              "<style scoped>\n",
              "    .dataframe tbody tr th:only-of-type {\n",
              "        vertical-align: middle;\n",
              "    }\n",
              "\n",
              "    .dataframe tbody tr th {\n",
              "        vertical-align: top;\n",
              "    }\n",
              "\n",
              "    .dataframe thead th {\n",
              "        text-align: right;\n",
              "    }\n",
              "</style>\n",
              "<table border=\"1\" class=\"dataframe\">\n",
              "  <thead>\n",
              "    <tr style=\"text-align: right;\">\n",
              "      <th></th>\n",
              "      <th>cylinders</th>\n",
              "      <th>displacement</th>\n",
              "      <th>horsepower</th>\n",
              "      <th>weight</th>\n",
              "      <th>acceleration</th>\n",
              "      <th>model year</th>\n",
              "      <th>origin</th>\n",
              "      <th>mpg</th>\n",
              "    </tr>\n",
              "  </thead>\n",
              "  <tbody>\n",
              "    <tr>\n",
              "      <th>0</th>\n",
              "      <td>8</td>\n",
              "      <td>307.0</td>\n",
              "      <td>130</td>\n",
              "      <td>3504</td>\n",
              "      <td>12.0</td>\n",
              "      <td>70</td>\n",
              "      <td>1</td>\n",
              "      <td>18.0</td>\n",
              "    </tr>\n",
              "    <tr>\n",
              "      <th>1</th>\n",
              "      <td>8</td>\n",
              "      <td>350.0</td>\n",
              "      <td>165</td>\n",
              "      <td>3693</td>\n",
              "      <td>11.5</td>\n",
              "      <td>70</td>\n",
              "      <td>1</td>\n",
              "      <td>15.0</td>\n",
              "    </tr>\n",
              "    <tr>\n",
              "      <th>2</th>\n",
              "      <td>8</td>\n",
              "      <td>318.0</td>\n",
              "      <td>150</td>\n",
              "      <td>3436</td>\n",
              "      <td>11.0</td>\n",
              "      <td>70</td>\n",
              "      <td>1</td>\n",
              "      <td>18.0</td>\n",
              "    </tr>\n",
              "    <tr>\n",
              "      <th>3</th>\n",
              "      <td>8</td>\n",
              "      <td>304.0</td>\n",
              "      <td>150</td>\n",
              "      <td>3433</td>\n",
              "      <td>12.0</td>\n",
              "      <td>70</td>\n",
              "      <td>1</td>\n",
              "      <td>16.0</td>\n",
              "    </tr>\n",
              "    <tr>\n",
              "      <th>4</th>\n",
              "      <td>8</td>\n",
              "      <td>302.0</td>\n",
              "      <td>140</td>\n",
              "      <td>3449</td>\n",
              "      <td>10.5</td>\n",
              "      <td>70</td>\n",
              "      <td>1</td>\n",
              "      <td>17.0</td>\n",
              "    </tr>\n",
              "  </tbody>\n",
              "</table>\n",
              "</div>"
            ],
            "text/plain": [
              "   cylinders  displacement horsepower  ...  model year  origin   mpg\n",
              "0          8         307.0        130  ...          70       1  18.0\n",
              "1          8         350.0        165  ...          70       1  15.0\n",
              "2          8         318.0        150  ...          70       1  18.0\n",
              "3          8         304.0        150  ...          70       1  16.0\n",
              "4          8         302.0        140  ...          70       1  17.0\n",
              "\n",
              "[5 rows x 8 columns]"
            ]
          },
          "metadata": {
            "tags": []
          },
          "execution_count": 205
        }
      ]
    },
    {
      "cell_type": "markdown",
      "metadata": {
        "id": "uwwxh62riDT5"
      },
      "source": [
        "### EDA"
      ]
    },
    {
      "cell_type": "code",
      "metadata": {
        "id": "VRcg_kgFhd2Q",
        "outputId": "7114b3bb-194e-43a8-82b1-7b6af52a1234",
        "colab": {
          "base_uri": "https://localhost:8080/",
          "height": 277
        }
      },
      "source": [
        "dataset2.info()"
      ],
      "execution_count": null,
      "outputs": [
        {
          "output_type": "stream",
          "text": [
            "<class 'pandas.core.frame.DataFrame'>\n",
            "RangeIndex: 398 entries, 0 to 397\n",
            "Data columns (total 8 columns):\n",
            " #   Column        Non-Null Count  Dtype  \n",
            "---  ------        --------------  -----  \n",
            " 0   cylinders     398 non-null    int64  \n",
            " 1   displacement  398 non-null    float64\n",
            " 2   horsepower    398 non-null    object \n",
            " 3   weight        398 non-null    int64  \n",
            " 4   acceleration  398 non-null    float64\n",
            " 5   model year    398 non-null    int64  \n",
            " 6   origin        398 non-null    int64  \n",
            " 7   mpg           398 non-null    float64\n",
            "dtypes: float64(3), int64(4), object(1)\n",
            "memory usage: 25.0+ KB\n"
          ],
          "name": "stdout"
        }
      ]
    },
    {
      "cell_type": "code",
      "metadata": {
        "id": "4Qed_Ln9hazu",
        "outputId": "1129570d-ff12-4661-fb6c-eb5904dad30a",
        "colab": {
          "base_uri": "https://localhost:8080/",
          "height": 264
        }
      },
      "source": [
        "dataset2.describe().transpose()"
      ],
      "execution_count": null,
      "outputs": [
        {
          "output_type": "execute_result",
          "data": {
            "text/html": [
              "<div>\n",
              "<style scoped>\n",
              "    .dataframe tbody tr th:only-of-type {\n",
              "        vertical-align: middle;\n",
              "    }\n",
              "\n",
              "    .dataframe tbody tr th {\n",
              "        vertical-align: top;\n",
              "    }\n",
              "\n",
              "    .dataframe thead th {\n",
              "        text-align: right;\n",
              "    }\n",
              "</style>\n",
              "<table border=\"1\" class=\"dataframe\">\n",
              "  <thead>\n",
              "    <tr style=\"text-align: right;\">\n",
              "      <th></th>\n",
              "      <th>count</th>\n",
              "      <th>mean</th>\n",
              "      <th>std</th>\n",
              "      <th>min</th>\n",
              "      <th>25%</th>\n",
              "      <th>50%</th>\n",
              "      <th>75%</th>\n",
              "      <th>max</th>\n",
              "    </tr>\n",
              "  </thead>\n",
              "  <tbody>\n",
              "    <tr>\n",
              "      <th>cylinders</th>\n",
              "      <td>398.0</td>\n",
              "      <td>5.454774</td>\n",
              "      <td>1.701004</td>\n",
              "      <td>3.0</td>\n",
              "      <td>4.000</td>\n",
              "      <td>4.0</td>\n",
              "      <td>8.000</td>\n",
              "      <td>8.0</td>\n",
              "    </tr>\n",
              "    <tr>\n",
              "      <th>displacement</th>\n",
              "      <td>398.0</td>\n",
              "      <td>193.425879</td>\n",
              "      <td>104.269838</td>\n",
              "      <td>68.0</td>\n",
              "      <td>104.250</td>\n",
              "      <td>148.5</td>\n",
              "      <td>262.000</td>\n",
              "      <td>455.0</td>\n",
              "    </tr>\n",
              "    <tr>\n",
              "      <th>weight</th>\n",
              "      <td>398.0</td>\n",
              "      <td>2970.424623</td>\n",
              "      <td>846.841774</td>\n",
              "      <td>1613.0</td>\n",
              "      <td>2223.750</td>\n",
              "      <td>2803.5</td>\n",
              "      <td>3608.000</td>\n",
              "      <td>5140.0</td>\n",
              "    </tr>\n",
              "    <tr>\n",
              "      <th>acceleration</th>\n",
              "      <td>398.0</td>\n",
              "      <td>15.568090</td>\n",
              "      <td>2.757689</td>\n",
              "      <td>8.0</td>\n",
              "      <td>13.825</td>\n",
              "      <td>15.5</td>\n",
              "      <td>17.175</td>\n",
              "      <td>24.8</td>\n",
              "    </tr>\n",
              "    <tr>\n",
              "      <th>model year</th>\n",
              "      <td>398.0</td>\n",
              "      <td>76.010050</td>\n",
              "      <td>3.697627</td>\n",
              "      <td>70.0</td>\n",
              "      <td>73.000</td>\n",
              "      <td>76.0</td>\n",
              "      <td>79.000</td>\n",
              "      <td>82.0</td>\n",
              "    </tr>\n",
              "    <tr>\n",
              "      <th>origin</th>\n",
              "      <td>398.0</td>\n",
              "      <td>1.572864</td>\n",
              "      <td>0.802055</td>\n",
              "      <td>1.0</td>\n",
              "      <td>1.000</td>\n",
              "      <td>1.0</td>\n",
              "      <td>2.000</td>\n",
              "      <td>3.0</td>\n",
              "    </tr>\n",
              "    <tr>\n",
              "      <th>mpg</th>\n",
              "      <td>398.0</td>\n",
              "      <td>23.514573</td>\n",
              "      <td>7.815984</td>\n",
              "      <td>9.0</td>\n",
              "      <td>17.500</td>\n",
              "      <td>23.0</td>\n",
              "      <td>29.000</td>\n",
              "      <td>46.6</td>\n",
              "    </tr>\n",
              "  </tbody>\n",
              "</table>\n",
              "</div>"
            ],
            "text/plain": [
              "              count         mean         std  ...     50%       75%     max\n",
              "cylinders     398.0     5.454774    1.701004  ...     4.0     8.000     8.0\n",
              "displacement  398.0   193.425879  104.269838  ...   148.5   262.000   455.0\n",
              "weight        398.0  2970.424623  846.841774  ...  2803.5  3608.000  5140.0\n",
              "acceleration  398.0    15.568090    2.757689  ...    15.5    17.175    24.8\n",
              "model year    398.0    76.010050    3.697627  ...    76.0    79.000    82.0\n",
              "origin        398.0     1.572864    0.802055  ...     1.0     2.000     3.0\n",
              "mpg           398.0    23.514573    7.815984  ...    23.0    29.000    46.6\n",
              "\n",
              "[7 rows x 8 columns]"
            ]
          },
          "metadata": {
            "tags": []
          },
          "execution_count": 207
        }
      ]
    },
    {
      "cell_type": "code",
      "metadata": {
        "id": "YhpSt-jAhjk4"
      },
      "source": [
        "dataset2 = dataset2.replace('?', np.nan)"
      ],
      "execution_count": null,
      "outputs": []
    },
    {
      "cell_type": "code",
      "metadata": {
        "id": "IhtPELdKiReI",
        "outputId": "987bcc32-5cb4-4a96-d59c-7a92b1ef9d4a",
        "colab": {
          "base_uri": "https://localhost:8080/",
          "height": 173
        }
      },
      "source": [
        "dataset2.isnull().sum()"
      ],
      "execution_count": null,
      "outputs": [
        {
          "output_type": "execute_result",
          "data": {
            "text/plain": [
              "cylinders       0\n",
              "displacement    0\n",
              "horsepower      6\n",
              "weight          0\n",
              "acceleration    0\n",
              "model year      0\n",
              "origin          0\n",
              "mpg             0\n",
              "dtype: int64"
            ]
          },
          "metadata": {
            "tags": []
          },
          "execution_count": 209
        }
      ]
    },
    {
      "cell_type": "code",
      "metadata": {
        "id": "GH1YSFF8ioYR",
        "outputId": "3b27a5e2-c188-40d0-b45e-0ecee887c143",
        "colab": {
          "base_uri": "https://localhost:8080/",
          "height": 225
        }
      },
      "source": [
        "dataset2.horsepower.value_counts()"
      ],
      "execution_count": null,
      "outputs": [
        {
          "output_type": "execute_result",
          "data": {
            "text/plain": [
              "150    22\n",
              "90     20\n",
              "88     19\n",
              "110    18\n",
              "100    17\n",
              "       ..\n",
              "82      1\n",
              "132     1\n",
              "138     1\n",
              "66      1\n",
              "94      1\n",
              "Name: horsepower, Length: 93, dtype: int64"
            ]
          },
          "metadata": {
            "tags": []
          },
          "execution_count": 210
        }
      ]
    },
    {
      "cell_type": "code",
      "metadata": {
        "id": "WZ4oDikJizpw"
      },
      "source": [
        "dataset2['horsepower'].replace(np.nan, '150', inplace=True)"
      ],
      "execution_count": null,
      "outputs": []
    },
    {
      "cell_type": "code",
      "metadata": {
        "id": "aGaccVxdiek4"
      },
      "source": [
        "dataset2['horsepower'] = dataset2['horsepower'].astype(int)"
      ],
      "execution_count": null,
      "outputs": []
    },
    {
      "cell_type": "code",
      "metadata": {
        "id": "A6lyU1WEjMHY",
        "outputId": "fa754948-6eae-473d-9906-6b0f4d3c2581",
        "colab": {
          "base_uri": "https://localhost:8080/",
          "height": 1000
        }
      },
      "source": [
        "histogram(dataset2)"
      ],
      "execution_count": null,
      "outputs": [
        {
          "output_type": "display_data",
          "data": {
            "image/png": "[encoded data removed]",
            "text/plain": [
              "<Figure size 1296x1584 with 9 Axes>"
            ]
          },
          "metadata": {
            "tags": [],
            "needs_background": "light"
          }
        }
      ]
    },
    {
      "cell_type": "code",
      "metadata": {
        "id": "nBqU-0pYjT4J",
        "outputId": "ac6263cd-8b4a-4f4e-e504-7a58bc5c7a5e",
        "colab": {
          "base_uri": "https://localhost:8080/",
          "height": 1000
        }
      },
      "source": [
        "heatmap(dataset2)"
      ],
      "execution_count": null,
      "outputs": [
        {
          "output_type": "display_data",
          "data": {
            "image/png": "[encoded data removed]",
            "text/plain": [
              "<Figure size 1440x1440 with 2 Axes>"
            ]
          },
          "metadata": {
            "tags": [],
            "needs_background": "light"
          }
        }
      ]
    },
    {
      "cell_type": "markdown",
      "metadata": {
        "id": "8-fiW5TQjhr1"
      },
      "source": [
        "### Feature Engineering"
      ]
    },
    {
      "cell_type": "code",
      "metadata": {
        "id": "E1-G5ZUWjj_4"
      },
      "source": [
        "features2 = dataset2.drop(['mpg'], axis=1)\n",
        "label2 = dataset2['mpg']"
      ],
      "execution_count": null,
      "outputs": []
    },
    {
      "cell_type": "code",
      "metadata": {
        "id": "y6Ibo_3sjodh"
      },
      "source": [
        "# scalling dan memisahkan data train dan label\n",
        "feature_train2, feature_test2, label_train2, label_test2 = scalling(features2, label2, 0.2)"
      ],
      "execution_count": null,
      "outputs": []
    },
    {
      "cell_type": "markdown",
      "metadata": {
        "id": "xB-CBQvBkszZ"
      },
      "source": [
        "### Linear Regression"
      ]
    },
    {
      "cell_type": "code",
      "metadata": {
        "id": "3K9LSsevkvD_",
        "outputId": "1771b34e-5a23-4fe7-9d0f-01859b974c89",
        "colab": {
          "base_uri": "https://localhost:8080/"
        }
      },
      "source": [
        "linreg(feature_train2, label_train2, feature_test2, label_test2)"
      ],
      "execution_count": null,
      "outputs": [
        {
          "output_type": "stream",
          "text": [
            "MSE \t\t: 0.210\n",
            "MAE \t\t: 0.369\n",
            "r2 score \t: 0.791\n",
            "RMSE \t\t: 0.458\n"
          ],
          "name": "stdout"
        }
      ]
    },
    {
      "cell_type": "markdown",
      "metadata": {
        "id": "KyyzjToIwMmr"
      },
      "source": [
        "### BaseLine Model"
      ]
    },
    {
      "cell_type": "code",
      "metadata": {
        "id": "WCcZJUodwEOc",
        "outputId": "a12d3316-d9e4-4fe3-f2b5-38a60be7a81d",
        "colab": {
          "base_uri": "https://localhost:8080/",
          "height": 1000
        }
      },
      "source": [
        "jumlah_feature = 7\n",
        "\n",
        "model_b2, history_b2 = bl_model(feature_train2, label_train2, feature_test2, \n",
        "                                label_test2, jumlah_feature)\n",
        "history_b2"
      ],
      "execution_count": null,
      "outputs": [
        {
          "output_type": "stream",
          "text": [
            "Epoch 1/50\n",
            "40/40 [==============================] - 0s 3ms/step - loss: 0.9720 - val_loss: 0.9217\n",
            "Epoch 2/50\n",
            "40/40 [==============================] - 0s 2ms/step - loss: 0.7827 - val_loss: 0.6567\n",
            "Epoch 3/50\n",
            "40/40 [==============================] - 0s 2ms/step - loss: 0.4796 - val_loss: 0.3839\n",
            "Epoch 4/50\n",
            "40/40 [==============================] - 0s 2ms/step - loss: 0.2741 - val_loss: 0.2776\n",
            "Epoch 5/50\n",
            "40/40 [==============================] - 0s 2ms/step - loss: 0.2151 - val_loss: 0.2516\n",
            "Epoch 6/50\n",
            "40/40 [==============================] - 0s 2ms/step - loss: 0.1964 - val_loss: 0.2351\n",
            "Epoch 7/50\n",
            "40/40 [==============================] - 0s 2ms/step - loss: 0.1831 - val_loss: 0.2239\n",
            "Epoch 8/50\n",
            "40/40 [==============================] - 0s 2ms/step - loss: 0.1721 - val_loss: 0.2160\n",
            "Epoch 9/50\n",
            "40/40 [==============================] - 0s 3ms/step - loss: 0.1640 - val_loss: 0.2072\n",
            "Epoch 10/50\n",
            "40/40 [==============================] - 0s 2ms/step - loss: 0.1576 - val_loss: 0.2021\n",
            "Epoch 11/50\n",
            "40/40 [==============================] - 0s 2ms/step - loss: 0.1521 - val_loss: 0.1939\n",
            "Epoch 12/50\n",
            "40/40 [==============================] - 0s 2ms/step - loss: 0.1473 - val_loss: 0.1906\n",
            "Epoch 13/50\n",
            "40/40 [==============================] - 0s 2ms/step - loss: 0.1413 - val_loss: 0.1903\n",
            "Epoch 14/50\n",
            "40/40 [==============================] - 0s 2ms/step - loss: 0.1375 - val_loss: 0.1901\n",
            "Epoch 15/50\n",
            "40/40 [==============================] - 0s 2ms/step - loss: 0.1343 - val_loss: 0.1870\n",
            "Epoch 16/50\n",
            "40/40 [==============================] - 0s 2ms/step - loss: 0.1317 - val_loss: 0.1851\n",
            "Epoch 17/50\n",
            "40/40 [==============================] - 0s 2ms/step - loss: 0.1291 - val_loss: 0.1842\n",
            "Epoch 18/50\n",
            "40/40 [==============================] - 0s 2ms/step - loss: 0.1276 - val_loss: 0.1854\n",
            "Epoch 19/50\n",
            "40/40 [==============================] - 0s 2ms/step - loss: 0.1260 - val_loss: 0.1828\n",
            "Epoch 20/50\n",
            "40/40 [==============================] - 0s 2ms/step - loss: 0.1253 - val_loss: 0.1846\n",
            "Epoch 21/50\n",
            "40/40 [==============================] - 0s 2ms/step - loss: 0.1242 - val_loss: 0.1883\n",
            "Epoch 22/50\n",
            "40/40 [==============================] - 0s 2ms/step - loss: 0.1215 - val_loss: 0.1792\n",
            "Epoch 23/50\n",
            "40/40 [==============================] - 0s 2ms/step - loss: 0.1212 - val_loss: 0.1788\n",
            "Epoch 24/50\n",
            "40/40 [==============================] - 0s 2ms/step - loss: 0.1202 - val_loss: 0.1842\n",
            "Epoch 25/50\n",
            "40/40 [==============================] - 0s 2ms/step - loss: 0.1201 - val_loss: 0.1804\n",
            "Epoch 26/50\n",
            "40/40 [==============================] - 0s 2ms/step - loss: 0.1189 - val_loss: 0.1795\n",
            "Epoch 27/50\n",
            "40/40 [==============================] - 0s 2ms/step - loss: 0.1188 - val_loss: 0.1811\n",
            "Epoch 28/50\n",
            "40/40 [==============================] - 0s 2ms/step - loss: 0.1169 - val_loss: 0.1773\n",
            "Epoch 29/50\n",
            "40/40 [==============================] - 0s 2ms/step - loss: 0.1171 - val_loss: 0.1795\n",
            "Epoch 30/50\n",
            "40/40 [==============================] - 0s 2ms/step - loss: 0.1163 - val_loss: 0.1766\n",
            "Epoch 31/50\n",
            "40/40 [==============================] - 0s 2ms/step - loss: 0.1154 - val_loss: 0.1775\n",
            "Epoch 32/50\n",
            "40/40 [==============================] - 0s 2ms/step - loss: 0.1166 - val_loss: 0.1791\n",
            "Epoch 33/50\n",
            "40/40 [==============================] - 0s 2ms/step - loss: 0.1150 - val_loss: 0.1791\n",
            "Epoch 34/50\n",
            "40/40 [==============================] - 0s 2ms/step - loss: 0.1152 - val_loss: 0.1748\n",
            "Epoch 35/50\n",
            "40/40 [==============================] - 0s 2ms/step - loss: 0.1127 - val_loss: 0.1759\n",
            "Epoch 36/50\n",
            "40/40 [==============================] - 0s 2ms/step - loss: 0.1121 - val_loss: 0.1751\n",
            "Epoch 37/50\n",
            "40/40 [==============================] - 0s 2ms/step - loss: 0.1115 - val_loss: 0.1740\n",
            "Epoch 38/50\n",
            "40/40 [==============================] - 0s 2ms/step - loss: 0.1122 - val_loss: 0.1767\n",
            "Epoch 39/50\n",
            "40/40 [==============================] - 0s 2ms/step - loss: 0.1118 - val_loss: 0.1723\n",
            "Epoch 40/50\n",
            "40/40 [==============================] - 0s 2ms/step - loss: 0.1109 - val_loss: 0.1751\n",
            "Epoch 41/50\n",
            "40/40 [==============================] - 0s 2ms/step - loss: 0.1100 - val_loss: 0.1742\n",
            "Epoch 42/50\n",
            "40/40 [==============================] - 0s 2ms/step - loss: 0.1105 - val_loss: 0.1768\n",
            "Epoch 43/50\n",
            "40/40 [==============================] - 0s 2ms/step - loss: 0.1112 - val_loss: 0.1677\n",
            "Epoch 44/50\n",
            "40/40 [==============================] - 0s 3ms/step - loss: 0.1102 - val_loss: 0.1697\n",
            "Epoch 45/50\n",
            "40/40 [==============================] - 0s 2ms/step - loss: 0.1093 - val_loss: 0.1717\n",
            "Epoch 46/50\n",
            "40/40 [==============================] - 0s 2ms/step - loss: 0.1083 - val_loss: 0.1693\n",
            "Epoch 47/50\n",
            "40/40 [==============================] - 0s 2ms/step - loss: 0.1083 - val_loss: 0.1689\n",
            "Epoch 48/50\n",
            "40/40 [==============================] - 0s 2ms/step - loss: 0.1079 - val_loss: 0.1696\n",
            "Epoch 49/50\n",
            "40/40 [==============================] - 0s 2ms/step - loss: 0.1070 - val_loss: 0.1712\n",
            "Epoch 50/50\n",
            "40/40 [==============================] - 0s 2ms/step - loss: 0.1075 - val_loss: 0.1661\n"
          ],
          "name": "stdout"
        },
        {
          "output_type": "execute_result",
          "data": {
            "text/plain": [
              "<tensorflow.python.keras.callbacks.History at 0x7f6a8f6daa58>"
            ]
          },
          "metadata": {
            "tags": []
          },
          "execution_count": 218
        }
      ]
    },
    {
      "cell_type": "code",
      "metadata": {
        "id": "H8z5ZRwPwssa",
        "outputId": "267a6dbf-bde0-4bf4-dd88-2f86a35945e4",
        "colab": {
          "base_uri": "https://localhost:8080/",
          "height": 124
        }
      },
      "source": [
        "prediksi(feature_test2, label_test2, model_b2)"
      ],
      "execution_count": null,
      "outputs": [
        {
          "output_type": "stream",
          "text": [
            "WARNING:tensorflow:6 out of the last 11 calls to <function Model.make_predict_function.<locals>.predict_function at 0x7f6a8978a1e0> triggered tf.function retracing. Tracing is expensive and the excessive number of tracings could be due to (1) creating @tf.function repeatedly in a loop, (2) passing tensors with different shapes, (3) passing Python objects instead of tensors. For (1), please define your @tf.function outside of the loop. For (2), @tf.function has experimental_relax_shapes=True option that relaxes argument shapes that can avoid unnecessary retracing. For (3), please refer to https://www.tensorflow.org/tutorials/customization/performance#python_or_tensor_args and https://www.tensorflow.org/api_docs/python/tf/function for  more details.\n",
            "MSE \t\t: 0.166\n",
            "MAE \t\t: 0.305\n",
            "r2 score \t: 0.834\n",
            "RMSE \t\t: 0.408\n"
          ],
          "name": "stdout"
        }
      ]
    },
    {
      "cell_type": "markdown",
      "metadata": {
        "id": "UituiYk7yogj"
      },
      "source": [
        "### Deeper Model"
      ]
    },
    {
      "cell_type": "code",
      "metadata": {
        "id": "Gv74Nlgtyrzp",
        "outputId": "05889775-8889-4040-9a61-fb8a76a53762",
        "colab": {
          "base_uri": "https://localhost:8080/"
        }
      },
      "source": [
        "model_d2, history_d2 = deeper_model(feature_train2, label_train2, feature_test2, \n",
        "                                    label_test2, jumlah_feature)\n",
        "history_d2"
      ],
      "execution_count": null,
      "outputs": [
        {
          "output_type": "stream",
          "text": [
            "Epoch 1/50\n",
            "40/40 [==============================] - 0s 4ms/step - loss: 0.9838 - val_loss: 0.9684\n",
            "Epoch 2/50\n",
            "40/40 [==============================] - 0s 2ms/step - loss: 0.8866 - val_loss: 0.7835\n",
            "Epoch 3/50\n",
            "40/40 [==============================] - 0s 2ms/step - loss: 0.5945 - val_loss: 0.4309\n",
            "Epoch 4/50\n",
            "40/40 [==============================] - 0s 2ms/step - loss: 0.2782 - val_loss: 0.2568\n",
            "Epoch 5/50\n",
            "40/40 [==============================] - 0s 2ms/step - loss: 0.2064 - val_loss: 0.2403\n",
            "Epoch 6/50\n",
            "40/40 [==============================] - 0s 2ms/step - loss: 0.1918 - val_loss: 0.2261\n",
            "Epoch 7/50\n",
            "40/40 [==============================] - 0s 2ms/step - loss: 0.1805 - val_loss: 0.2157\n",
            "Epoch 8/50\n",
            "40/40 [==============================] - 0s 2ms/step - loss: 0.1715 - val_loss: 0.2073\n",
            "Epoch 9/50\n",
            "40/40 [==============================] - 0s 2ms/step - loss: 0.1655 - val_loss: 0.2008\n",
            "Epoch 10/50\n",
            "40/40 [==============================] - 0s 2ms/step - loss: 0.1576 - val_loss: 0.2009\n",
            "Epoch 11/50\n",
            "40/40 [==============================] - 0s 2ms/step - loss: 0.1501 - val_loss: 0.1924\n",
            "Epoch 12/50\n",
            "40/40 [==============================] - 0s 2ms/step - loss: 0.1454 - val_loss: 0.1922\n",
            "Epoch 13/50\n",
            "40/40 [==============================] - 0s 2ms/step - loss: 0.1404 - val_loss: 0.1898\n",
            "Epoch 14/50\n",
            "40/40 [==============================] - 0s 2ms/step - loss: 0.1370 - val_loss: 0.1870\n",
            "Epoch 15/50\n",
            "40/40 [==============================] - 0s 2ms/step - loss: 0.1327 - val_loss: 0.1891\n",
            "Epoch 16/50\n",
            "40/40 [==============================] - 0s 2ms/step - loss: 0.1307 - val_loss: 0.1847\n",
            "Epoch 17/50\n",
            "40/40 [==============================] - 0s 2ms/step - loss: 0.1279 - val_loss: 0.1805\n",
            "Epoch 18/50\n",
            "40/40 [==============================] - 0s 2ms/step - loss: 0.1257 - val_loss: 0.1826\n",
            "Epoch 19/50\n",
            "40/40 [==============================] - 0s 2ms/step - loss: 0.1235 - val_loss: 0.1790\n",
            "Epoch 20/50\n",
            "40/40 [==============================] - 0s 2ms/step - loss: 0.1221 - val_loss: 0.1810\n",
            "Epoch 21/50\n",
            "40/40 [==============================] - 0s 2ms/step - loss: 0.1215 - val_loss: 0.1808\n",
            "Epoch 22/50\n",
            "40/40 [==============================] - 0s 2ms/step - loss: 0.1200 - val_loss: 0.1751\n",
            "Epoch 23/50\n",
            "40/40 [==============================] - 0s 2ms/step - loss: 0.1202 - val_loss: 0.1775\n",
            "Epoch 24/50\n",
            "40/40 [==============================] - 0s 2ms/step - loss: 0.1186 - val_loss: 0.1752\n",
            "Epoch 25/50\n",
            "40/40 [==============================] - 0s 2ms/step - loss: 0.1175 - val_loss: 0.1812\n",
            "Epoch 26/50\n",
            "40/40 [==============================] - 0s 2ms/step - loss: 0.1174 - val_loss: 0.1710\n",
            "Epoch 27/50\n",
            "40/40 [==============================] - 0s 2ms/step - loss: 0.1179 - val_loss: 0.1754\n",
            "Epoch 28/50\n",
            "40/40 [==============================] - 0s 2ms/step - loss: 0.1164 - val_loss: 0.1797\n",
            "Epoch 29/50\n",
            "40/40 [==============================] - 0s 2ms/step - loss: 0.1168 - val_loss: 0.1756\n",
            "Epoch 30/50\n",
            "40/40 [==============================] - 0s 2ms/step - loss: 0.1154 - val_loss: 0.1748\n",
            "Epoch 31/50\n",
            "40/40 [==============================] - 0s 2ms/step - loss: 0.1142 - val_loss: 0.1775\n",
            "Epoch 32/50\n",
            "40/40 [==============================] - 0s 2ms/step - loss: 0.1139 - val_loss: 0.1681\n",
            "Epoch 33/50\n",
            "40/40 [==============================] - 0s 2ms/step - loss: 0.1172 - val_loss: 0.1770\n",
            "Epoch 34/50\n",
            "40/40 [==============================] - 0s 2ms/step - loss: 0.1141 - val_loss: 0.1755\n",
            "Epoch 35/50\n",
            "40/40 [==============================] - 0s 2ms/step - loss: 0.1127 - val_loss: 0.1725\n",
            "Epoch 36/50\n",
            "40/40 [==============================] - 0s 2ms/step - loss: 0.1120 - val_loss: 0.1692\n",
            "Epoch 37/50\n",
            "40/40 [==============================] - 0s 2ms/step - loss: 0.1133 - val_loss: 0.1777\n",
            "Epoch 38/50\n",
            "40/40 [==============================] - 0s 2ms/step - loss: 0.1126 - val_loss: 0.1714\n",
            "Epoch 39/50\n",
            "40/40 [==============================] - 0s 2ms/step - loss: 0.1112 - val_loss: 0.1735\n",
            "Epoch 40/50\n",
            "40/40 [==============================] - 0s 2ms/step - loss: 0.1101 - val_loss: 0.1720\n",
            "Epoch 41/50\n",
            "40/40 [==============================] - 0s 2ms/step - loss: 0.1104 - val_loss: 0.1691\n",
            "Epoch 42/50\n",
            "40/40 [==============================] - 0s 2ms/step - loss: 0.1108 - val_loss: 0.1687\n",
            "Epoch 43/50\n",
            "40/40 [==============================] - 0s 2ms/step - loss: 0.1112 - val_loss: 0.1768\n",
            "Epoch 44/50\n",
            "40/40 [==============================] - 0s 2ms/step - loss: 0.1096 - val_loss: 0.1747\n",
            "Epoch 45/50\n",
            "40/40 [==============================] - 0s 2ms/step - loss: 0.1090 - val_loss: 0.1715\n",
            "Epoch 46/50\n",
            "40/40 [==============================] - 0s 2ms/step - loss: 0.1093 - val_loss: 0.1706\n",
            "Epoch 47/50\n",
            "40/40 [==============================] - 0s 2ms/step - loss: 0.1084 - val_loss: 0.1709\n",
            "Epoch 48/50\n",
            "40/40 [==============================] - 0s 2ms/step - loss: 0.1080 - val_loss: 0.1711\n",
            "Epoch 49/50\n",
            "40/40 [==============================] - 0s 2ms/step - loss: 0.1074 - val_loss: 0.1699\n",
            "Epoch 50/50\n",
            "40/40 [==============================] - 0s 2ms/step - loss: 0.1077 - val_loss: 0.1714\n"
          ],
          "name": "stdout"
        },
        {
          "output_type": "execute_result",
          "data": {
            "text/plain": [
              "<tensorflow.python.keras.callbacks.History at 0x7f6a83cf75f8>"
            ]
          },
          "metadata": {
            "tags": []
          },
          "execution_count": 220
        }
      ]
    },
    {
      "cell_type": "code",
      "metadata": {
        "id": "LmXMBkKSy7sS",
        "outputId": "cf161058-3abd-4806-ebb9-46fed6b1df6a",
        "colab": {
          "base_uri": "https://localhost:8080/"
        }
      },
      "source": [
        "prediksi(feature_test2, label_test2, model_d2)"
      ],
      "execution_count": null,
      "outputs": [
        {
          "output_type": "stream",
          "text": [
            "WARNING:tensorflow:6 out of the last 12 calls to <function Model.make_predict_function.<locals>.predict_function at 0x7f6a8986fa60> triggered tf.function retracing. Tracing is expensive and the excessive number of tracings could be due to (1) creating @tf.function repeatedly in a loop, (2) passing tensors with different shapes, (3) passing Python objects instead of tensors. For (1), please define your @tf.function outside of the loop. For (2), @tf.function has experimental_relax_shapes=True option that relaxes argument shapes that can avoid unnecessary retracing. For (3), please refer to https://www.tensorflow.org/tutorials/customization/performance#python_or_tensor_args and https://www.tensorflow.org/api_docs/python/tf/function for  more details.\n",
            "MSE \t\t: 0.171\n",
            "MAE \t\t: 0.310\n",
            "r2 score \t: 0.829\n",
            "RMSE \t\t: 0.414\n"
          ],
          "name": "stdout"
        }
      ]
    },
    {
      "cell_type": "markdown",
      "metadata": {
        "id": "cNAJCDLLzTAp"
      },
      "source": [
        "### Wider Model"
      ]
    },
    {
      "cell_type": "code",
      "metadata": {
        "id": "fEjdyybdzVFb",
        "outputId": "dd3d1f78-4e65-41f6-8008-be8e0bb49268",
        "colab": {
          "base_uri": "https://localhost:8080/",
          "height": 1000
        }
      },
      "source": [
        "model_w2, history_w2 = wider_model(feature_train2, label_train2, feature_test2, \n",
        "                                   label_test2, jumlah_feature)\n",
        "history_w2"
      ],
      "execution_count": null,
      "outputs": [
        {
          "output_type": "stream",
          "text": [
            "Epoch 1/100\n",
            "40/40 [==============================] - 0s 4ms/step - loss: 0.9135 - val_loss: 0.8283\n",
            "Epoch 2/100\n",
            "40/40 [==============================] - 0s 2ms/step - loss: 0.6726 - val_loss: 0.5255\n",
            "Epoch 3/100\n",
            "40/40 [==============================] - 0s 2ms/step - loss: 0.3790 - val_loss: 0.3125\n",
            "Epoch 4/100\n",
            "40/40 [==============================] - 0s 2ms/step - loss: 0.2499 - val_loss: 0.2681\n",
            "Epoch 5/100\n",
            "40/40 [==============================] - 0s 2ms/step - loss: 0.2156 - val_loss: 0.2491\n",
            "Epoch 6/100\n",
            "40/40 [==============================] - 0s 2ms/step - loss: 0.1945 - val_loss: 0.2307\n",
            "Epoch 7/100\n",
            "40/40 [==============================] - 0s 2ms/step - loss: 0.1793 - val_loss: 0.2184\n",
            "Epoch 8/100\n",
            "40/40 [==============================] - 0s 2ms/step - loss: 0.1644 - val_loss: 0.2049\n",
            "Epoch 9/100\n",
            "40/40 [==============================] - 0s 2ms/step - loss: 0.1544 - val_loss: 0.2019\n",
            "Epoch 10/100\n",
            "40/40 [==============================] - 0s 2ms/step - loss: 0.1457 - val_loss: 0.1946\n",
            "Epoch 11/100\n",
            "40/40 [==============================] - 0s 2ms/step - loss: 0.1399 - val_loss: 0.1897\n",
            "Epoch 12/100\n",
            "40/40 [==============================] - 0s 2ms/step - loss: 0.1368 - val_loss: 0.1915\n",
            "Epoch 13/100\n",
            "40/40 [==============================] - 0s 2ms/step - loss: 0.1322 - val_loss: 0.1868\n",
            "Epoch 14/100\n",
            "40/40 [==============================] - 0s 2ms/step - loss: 0.1305 - val_loss: 0.1815\n",
            "Epoch 15/100\n",
            "40/40 [==============================] - 0s 2ms/step - loss: 0.1271 - val_loss: 0.1845\n",
            "Epoch 16/100\n",
            "40/40 [==============================] - 0s 2ms/step - loss: 0.1242 - val_loss: 0.1818\n",
            "Epoch 17/100\n",
            "40/40 [==============================] - 0s 2ms/step - loss: 0.1229 - val_loss: 0.1808\n",
            "Epoch 18/100\n",
            "40/40 [==============================] - 0s 2ms/step - loss: 0.1222 - val_loss: 0.1799\n",
            "Epoch 19/100\n",
            "40/40 [==============================] - 0s 2ms/step - loss: 0.1210 - val_loss: 0.1764\n",
            "Epoch 20/100\n",
            "40/40 [==============================] - 0s 2ms/step - loss: 0.1183 - val_loss: 0.1770\n",
            "Epoch 21/100\n",
            "40/40 [==============================] - 0s 2ms/step - loss: 0.1165 - val_loss: 0.1757\n",
            "Epoch 22/100\n",
            "40/40 [==============================] - 0s 2ms/step - loss: 0.1158 - val_loss: 0.1756\n",
            "Epoch 23/100\n",
            "40/40 [==============================] - 0s 2ms/step - loss: 0.1148 - val_loss: 0.1750\n",
            "Epoch 24/100\n",
            "40/40 [==============================] - 0s 2ms/step - loss: 0.1147 - val_loss: 0.1724\n",
            "Epoch 25/100\n",
            "40/40 [==============================] - 0s 2ms/step - loss: 0.1134 - val_loss: 0.1746\n",
            "Epoch 26/100\n",
            "40/40 [==============================] - 0s 2ms/step - loss: 0.1124 - val_loss: 0.1705\n",
            "Epoch 27/100\n",
            "40/40 [==============================] - 0s 2ms/step - loss: 0.1123 - val_loss: 0.1757\n",
            "Epoch 28/100\n",
            "40/40 [==============================] - 0s 2ms/step - loss: 0.1109 - val_loss: 0.1690\n",
            "Epoch 29/100\n",
            "40/40 [==============================] - 0s 2ms/step - loss: 0.1120 - val_loss: 0.1763\n",
            "Epoch 30/100\n",
            "40/40 [==============================] - 0s 2ms/step - loss: 0.1100 - val_loss: 0.1697\n",
            "Epoch 31/100\n",
            "40/40 [==============================] - 0s 2ms/step - loss: 0.1091 - val_loss: 0.1661\n",
            "Epoch 32/100\n",
            "40/40 [==============================] - 0s 2ms/step - loss: 0.1090 - val_loss: 0.1665\n",
            "Epoch 33/100\n",
            "40/40 [==============================] - 0s 2ms/step - loss: 0.1083 - val_loss: 0.1650\n",
            "Epoch 34/100\n",
            "40/40 [==============================] - 0s 2ms/step - loss: 0.1076 - val_loss: 0.1718\n",
            "Epoch 35/100\n",
            "40/40 [==============================] - 0s 2ms/step - loss: 0.1079 - val_loss: 0.1695\n",
            "Epoch 36/100\n",
            "40/40 [==============================] - 0s 2ms/step - loss: 0.1077 - val_loss: 0.1640\n",
            "Epoch 37/100\n",
            "40/40 [==============================] - 0s 2ms/step - loss: 0.1075 - val_loss: 0.1709\n",
            "Epoch 38/100\n",
            "40/40 [==============================] - 0s 2ms/step - loss: 0.1057 - val_loss: 0.1683\n",
            "Epoch 39/100\n",
            "40/40 [==============================] - 0s 2ms/step - loss: 0.1044 - val_loss: 0.1650\n",
            "Epoch 40/100\n",
            "40/40 [==============================] - 0s 2ms/step - loss: 0.1050 - val_loss: 0.1680\n",
            "Epoch 41/100\n",
            "40/40 [==============================] - 0s 2ms/step - loss: 0.1048 - val_loss: 0.1630\n",
            "Epoch 42/100\n",
            "40/40 [==============================] - 0s 2ms/step - loss: 0.1063 - val_loss: 0.1670\n",
            "Epoch 43/100\n",
            "40/40 [==============================] - 0s 2ms/step - loss: 0.1041 - val_loss: 0.1661\n",
            "Epoch 44/100\n",
            "40/40 [==============================] - 0s 2ms/step - loss: 0.1040 - val_loss: 0.1691\n",
            "Epoch 45/100\n",
            "40/40 [==============================] - 0s 2ms/step - loss: 0.1032 - val_loss: 0.1629\n",
            "Epoch 46/100\n",
            "40/40 [==============================] - 0s 2ms/step - loss: 0.1025 - val_loss: 0.1643\n",
            "Epoch 47/100\n",
            "40/40 [==============================] - 0s 2ms/step - loss: 0.1030 - val_loss: 0.1656\n",
            "Epoch 48/100\n",
            "40/40 [==============================] - 0s 2ms/step - loss: 0.1045 - val_loss: 0.1625\n",
            "Epoch 49/100\n",
            "40/40 [==============================] - 0s 2ms/step - loss: 0.1027 - val_loss: 0.1604\n",
            "Epoch 50/100\n",
            "40/40 [==============================] - 0s 2ms/step - loss: 0.1018 - val_loss: 0.1695\n",
            "Epoch 51/100\n",
            "40/40 [==============================] - 0s 2ms/step - loss: 0.1027 - val_loss: 0.1607\n",
            "Epoch 52/100\n",
            "40/40 [==============================] - 0s 2ms/step - loss: 0.1011 - val_loss: 0.1634\n",
            "Epoch 53/100\n",
            "40/40 [==============================] - 0s 2ms/step - loss: 0.1017 - val_loss: 0.1638\n",
            "Epoch 54/100\n",
            "40/40 [==============================] - 0s 2ms/step - loss: 0.1016 - val_loss: 0.1639\n",
            "Epoch 55/100\n",
            "40/40 [==============================] - 0s 2ms/step - loss: 0.1017 - val_loss: 0.1669\n",
            "Epoch 56/100\n",
            "40/40 [==============================] - 0s 2ms/step - loss: 0.1012 - val_loss: 0.1640\n",
            "Epoch 57/100\n",
            "40/40 [==============================] - 0s 2ms/step - loss: 0.1013 - val_loss: 0.1651\n",
            "Epoch 58/100\n",
            "40/40 [==============================] - 0s 2ms/step - loss: 0.1003 - val_loss: 0.1631\n",
            "Epoch 59/100\n",
            "40/40 [==============================] - 0s 2ms/step - loss: 0.0995 - val_loss: 0.1593\n",
            "Epoch 60/100\n",
            "40/40 [==============================] - 0s 2ms/step - loss: 0.0998 - val_loss: 0.1683\n",
            "Epoch 61/100\n",
            "40/40 [==============================] - 0s 2ms/step - loss: 0.1002 - val_loss: 0.1619\n",
            "Epoch 62/100\n",
            "40/40 [==============================] - 0s 2ms/step - loss: 0.0992 - val_loss: 0.1612\n",
            "Epoch 63/100\n",
            "40/40 [==============================] - 0s 2ms/step - loss: 0.1002 - val_loss: 0.1594\n",
            "Epoch 64/100\n",
            "40/40 [==============================] - 0s 2ms/step - loss: 0.0991 - val_loss: 0.1592\n",
            "Epoch 65/100\n",
            "40/40 [==============================] - 0s 2ms/step - loss: 0.1001 - val_loss: 0.1699\n",
            "Epoch 66/100\n",
            "40/40 [==============================] - 0s 2ms/step - loss: 0.0992 - val_loss: 0.1579\n",
            "Epoch 67/100\n",
            "40/40 [==============================] - 0s 2ms/step - loss: 0.0988 - val_loss: 0.1617\n",
            "Epoch 68/100\n",
            "40/40 [==============================] - 0s 2ms/step - loss: 0.0984 - val_loss: 0.1590\n",
            "Epoch 69/100\n",
            "40/40 [==============================] - 0s 2ms/step - loss: 0.0992 - val_loss: 0.1569\n",
            "Epoch 70/100\n",
            "40/40 [==============================] - 0s 2ms/step - loss: 0.0988 - val_loss: 0.1588\n",
            "Epoch 71/100\n",
            "40/40 [==============================] - 0s 2ms/step - loss: 0.0982 - val_loss: 0.1658\n",
            "Epoch 72/100\n",
            "40/40 [==============================] - 0s 2ms/step - loss: 0.0986 - val_loss: 0.1547\n",
            "Epoch 73/100\n",
            "40/40 [==============================] - 0s 2ms/step - loss: 0.0990 - val_loss: 0.1554\n",
            "Epoch 74/100\n",
            "40/40 [==============================] - 0s 2ms/step - loss: 0.0981 - val_loss: 0.1657\n",
            "Epoch 75/100\n",
            "40/40 [==============================] - 0s 2ms/step - loss: 0.0974 - val_loss: 0.1542\n",
            "Epoch 76/100\n",
            "40/40 [==============================] - 0s 2ms/step - loss: 0.0977 - val_loss: 0.1617\n",
            "Epoch 77/100\n",
            "40/40 [==============================] - 0s 2ms/step - loss: 0.0965 - val_loss: 0.1604\n",
            "Epoch 78/100\n",
            "40/40 [==============================] - 0s 2ms/step - loss: 0.0973 - val_loss: 0.1622\n",
            "Epoch 79/100\n",
            "40/40 [==============================] - 0s 2ms/step - loss: 0.0970 - val_loss: 0.1578\n",
            "Epoch 80/100\n",
            "40/40 [==============================] - 0s 2ms/step - loss: 0.0970 - val_loss: 0.1588\n",
            "Epoch 81/100\n",
            "40/40 [==============================] - 0s 2ms/step - loss: 0.0965 - val_loss: 0.1572\n",
            "Epoch 82/100\n",
            "40/40 [==============================] - 0s 2ms/step - loss: 0.0974 - val_loss: 0.1573\n",
            "Epoch 83/100\n",
            "40/40 [==============================] - 0s 2ms/step - loss: 0.0968 - val_loss: 0.1636\n",
            "Epoch 84/100\n",
            "40/40 [==============================] - 0s 2ms/step - loss: 0.0967 - val_loss: 0.1540\n",
            "Epoch 85/100\n",
            "40/40 [==============================] - 0s 2ms/step - loss: 0.0970 - val_loss: 0.1603\n",
            "Epoch 86/100\n",
            "40/40 [==============================] - 0s 2ms/step - loss: 0.0964 - val_loss: 0.1605\n",
            "Epoch 87/100\n",
            "40/40 [==============================] - 0s 2ms/step - loss: 0.0954 - val_loss: 0.1580\n",
            "Epoch 88/100\n",
            "40/40 [==============================] - 0s 2ms/step - loss: 0.0966 - val_loss: 0.1540\n",
            "Epoch 89/100\n",
            "40/40 [==============================] - 0s 2ms/step - loss: 0.0961 - val_loss: 0.1598\n",
            "Epoch 90/100\n",
            "40/40 [==============================] - 0s 2ms/step - loss: 0.0960 - val_loss: 0.1623\n",
            "Epoch 91/100\n",
            "40/40 [==============================] - 0s 2ms/step - loss: 0.0954 - val_loss: 0.1593\n",
            "Epoch 92/100\n",
            "40/40 [==============================] - 0s 2ms/step - loss: 0.0959 - val_loss: 0.1600\n",
            "Epoch 93/100\n",
            "40/40 [==============================] - 0s 2ms/step - loss: 0.0951 - val_loss: 0.1574\n",
            "Epoch 94/100\n",
            "40/40 [==============================] - 0s 2ms/step - loss: 0.0947 - val_loss: 0.1577\n",
            "Epoch 95/100\n",
            "40/40 [==============================] - 0s 2ms/step - loss: 0.0945 - val_loss: 0.1585\n",
            "Epoch 96/100\n",
            "40/40 [==============================] - 0s 2ms/step - loss: 0.0950 - val_loss: 0.1524\n",
            "Epoch 97/100\n",
            "40/40 [==============================] - 0s 2ms/step - loss: 0.0948 - val_loss: 0.1573\n",
            "Epoch 98/100\n",
            "40/40 [==============================] - 0s 2ms/step - loss: 0.0940 - val_loss: 0.1562\n",
            "Epoch 99/100\n",
            "40/40 [==============================] - 0s 2ms/step - loss: 0.0942 - val_loss: 0.1576\n",
            "Epoch 100/100\n",
            "40/40 [==============================] - 0s 2ms/step - loss: 0.0941 - val_loss: 0.1590\n"
          ],
          "name": "stdout"
        },
        {
          "output_type": "execute_result",
          "data": {
            "text/plain": [
              "<tensorflow.python.keras.callbacks.History at 0x7f6a83ba9128>"
            ]
          },
          "metadata": {
            "tags": []
          },
          "execution_count": 222
        }
      ]
    },
    {
      "cell_type": "code",
      "metadata": {
        "id": "iEjvV0NSzgej",
        "outputId": "c896a561-94f6-4ce6-df35-553ae075f90e",
        "colab": {
          "base_uri": "https://localhost:8080/",
          "height": 124
        }
      },
      "source": [
        "prediksi(feature_test2, label_test2, model_w2)"
      ],
      "execution_count": null,
      "outputs": [
        {
          "output_type": "stream",
          "text": [
            "WARNING:tensorflow:5 out of the last 11 calls to <function Model.make_predict_function.<locals>.predict_function at 0x7f6a83a92488> triggered tf.function retracing. Tracing is expensive and the excessive number of tracings could be due to (1) creating @tf.function repeatedly in a loop, (2) passing tensors with different shapes, (3) passing Python objects instead of tensors. For (1), please define your @tf.function outside of the loop. For (2), @tf.function has experimental_relax_shapes=True option that relaxes argument shapes that can avoid unnecessary retracing. For (3), please refer to https://www.tensorflow.org/tutorials/customization/performance#python_or_tensor_args and https://www.tensorflow.org/api_docs/python/tf/function for  more details.\n",
            "MSE \t\t: 0.159\n",
            "MAE \t\t: 0.303\n",
            "r2 score \t: 0.842\n",
            "RMSE \t\t: 0.399\n"
          ],
          "name": "stdout"
        }
      ]
    },
    {
      "cell_type": "markdown",
      "metadata": {
        "id": "dRROGwjD__KN"
      },
      "source": [
        "# Dataset Bottle"
      ]
    },
    {
      "cell_type": "code",
      "metadata": {
        "id": "LHvNiG-O7x-V",
        "outputId": "8c31c393-ed49-4c0f-b3f1-557bd931f4bf",
        "colab": {
          "base_uri": "https://localhost:8080/",
          "height": 34
        }
      },
      "source": [
        "from google.colab import drive\n",
        "drive.mount('/content/drive')"
      ],
      "execution_count": 1,
      "outputs": [
        {
          "output_type": "stream",
          "text": [
            "Mounted at /content/drive\n"
          ],
          "name": "stdout"
        }
      ]
    },
    {
      "cell_type": "code",
      "metadata": {
        "id": "huYVvguBACgr"
      },
      "source": [
        "zip_path = '/content/drive/My\\ Drive/abc/bottle-updated.csv.zip'\n",
        "\n",
        "!cp {zip_path} /content/\n",
        "\n",
        "!cd /content/\n",
        "\n",
        "!unzip -q /content/bottle-updated.csv.zip -d /content\n",
        "\n",
        "!rm /content/bottle-updated.csv.zip"
      ],
      "execution_count": 11,
      "outputs": []
    },
    {
      "cell_type": "code",
      "metadata": {
        "id": "9tge8tODBKuE",
        "outputId": "a630556e-62ac-47c2-8f4e-6a91f11207d9",
        "colab": {
          "base_uri": "https://localhost:8080/",
          "height": 202
        }
      },
      "source": [
        "dataset3 = pd.read_csv('bottle-updated.csv')\n",
        "dataset3 = dataset3.drop(['Unnamed: 0'], axis=1)\n",
        "dataset3.head()"
      ],
      "execution_count": 12,
      "outputs": [
        {
          "output_type": "execute_result",
          "data": {
            "text/html": [
              "<div>\n",
              "<style scoped>\n",
              "    .dataframe tbody tr th:only-of-type {\n",
              "        vertical-align: middle;\n",
              "    }\n",
              "\n",
              "    .dataframe tbody tr th {\n",
              "        vertical-align: top;\n",
              "    }\n",
              "\n",
              "    .dataframe thead th {\n",
              "        text-align: right;\n",
              "    }\n",
              "</style>\n",
              "<table border=\"1\" class=\"dataframe\">\n",
              "  <thead>\n",
              "    <tr style=\"text-align: right;\">\n",
              "      <th></th>\n",
              "      <th>Depthm</th>\n",
              "      <th>T_degC</th>\n",
              "      <th>Salnty</th>\n",
              "    </tr>\n",
              "  </thead>\n",
              "  <tbody>\n",
              "    <tr>\n",
              "      <th>0</th>\n",
              "      <td>0</td>\n",
              "      <td>10.50</td>\n",
              "      <td>33.440</td>\n",
              "    </tr>\n",
              "    <tr>\n",
              "      <th>1</th>\n",
              "      <td>8</td>\n",
              "      <td>10.46</td>\n",
              "      <td>33.440</td>\n",
              "    </tr>\n",
              "    <tr>\n",
              "      <th>2</th>\n",
              "      <td>10</td>\n",
              "      <td>10.46</td>\n",
              "      <td>33.437</td>\n",
              "    </tr>\n",
              "    <tr>\n",
              "      <th>3</th>\n",
              "      <td>19</td>\n",
              "      <td>10.45</td>\n",
              "      <td>33.420</td>\n",
              "    </tr>\n",
              "    <tr>\n",
              "      <th>4</th>\n",
              "      <td>20</td>\n",
              "      <td>10.45</td>\n",
              "      <td>33.421</td>\n",
              "    </tr>\n",
              "  </tbody>\n",
              "</table>\n",
              "</div>"
            ],
            "text/plain": [
              "   Depthm  T_degC  Salnty\n",
              "0       0   10.50  33.440\n",
              "1       8   10.46  33.440\n",
              "2      10   10.46  33.437\n",
              "3      19   10.45  33.420\n",
              "4      20   10.45  33.421"
            ]
          },
          "metadata": {
            "tags": []
          },
          "execution_count": 12
        }
      ]
    },
    {
      "cell_type": "markdown",
      "metadata": {
        "id": "nvOI2q5qGa8p"
      },
      "source": [
        "### EDA"
      ]
    },
    {
      "cell_type": "code",
      "metadata": {
        "id": "GX2-3ncBBbCr",
        "outputId": "74987292-b599-4268-d486-ba80b4d7aa5d",
        "colab": {
          "base_uri": "https://localhost:8080/"
        }
      },
      "source": [
        "dataset3.info()"
      ],
      "execution_count": null,
      "outputs": [
        {
          "output_type": "stream",
          "text": [
            "<class 'pandas.core.frame.DataFrame'>\n",
            "RangeIndex: 864863 entries, 0 to 864862\n",
            "Data columns (total 3 columns):\n",
            " #   Column  Non-Null Count   Dtype  \n",
            "---  ------  --------------   -----  \n",
            " 0   Depthm  864863 non-null  int64  \n",
            " 1   T_degC  853900 non-null  float64\n",
            " 2   Salnty  817509 non-null  float64\n",
            "dtypes: float64(2), int64(1)\n",
            "memory usage: 19.8 MB\n"
          ],
          "name": "stdout"
        }
      ]
    },
    {
      "cell_type": "code",
      "metadata": {
        "id": "nhlaIY4RBd2h",
        "outputId": "1c1ccf81-df96-4df9-ee2a-d59400f088ae",
        "colab": {
          "base_uri": "https://localhost:8080/"
        }
      },
      "source": [
        "dataset3.isnull().sum()"
      ],
      "execution_count": null,
      "outputs": [
        {
          "output_type": "execute_result",
          "data": {
            "text/plain": [
              "Depthm        0\n",
              "T_degC    10963\n",
              "Salnty    47354\n",
              "dtype: int64"
            ]
          },
          "metadata": {
            "tags": []
          },
          "execution_count": 14
        }
      ]
    },
    {
      "cell_type": "code",
      "metadata": {
        "id": "7_NmWcA_B8RA",
        "outputId": "b3411b4f-7014-40e8-ac53-1c8450116db9",
        "colab": {
          "base_uri": "https://localhost:8080/"
        }
      },
      "source": [
        "dataset3.describe().transpose()"
      ],
      "execution_count": null,
      "outputs": [
        {
          "output_type": "execute_result",
          "data": {
            "text/html": [
              "<div>\n",
              "<style scoped>\n",
              "    .dataframe tbody tr th:only-of-type {\n",
              "        vertical-align: middle;\n",
              "    }\n",
              "\n",
              "    .dataframe tbody tr th {\n",
              "        vertical-align: top;\n",
              "    }\n",
              "\n",
              "    .dataframe thead th {\n",
              "        text-align: right;\n",
              "    }\n",
              "</style>\n",
              "<table border=\"1\" class=\"dataframe\">\n",
              "  <thead>\n",
              "    <tr style=\"text-align: right;\">\n",
              "      <th></th>\n",
              "      <th>count</th>\n",
              "      <th>mean</th>\n",
              "      <th>std</th>\n",
              "      <th>min</th>\n",
              "      <th>25%</th>\n",
              "      <th>50%</th>\n",
              "      <th>75%</th>\n",
              "      <th>max</th>\n",
              "    </tr>\n",
              "  </thead>\n",
              "  <tbody>\n",
              "    <tr>\n",
              "      <th>Depthm</th>\n",
              "      <td>864863.0</td>\n",
              "      <td>226.831951</td>\n",
              "      <td>316.050259</td>\n",
              "      <td>0.000</td>\n",
              "      <td>46.000</td>\n",
              "      <td>125.000</td>\n",
              "      <td>300.0000</td>\n",
              "      <td>5351.000</td>\n",
              "    </tr>\n",
              "    <tr>\n",
              "      <th>T_degC</th>\n",
              "      <td>853900.0</td>\n",
              "      <td>10.799677</td>\n",
              "      <td>4.243825</td>\n",
              "      <td>1.440</td>\n",
              "      <td>7.680</td>\n",
              "      <td>10.060</td>\n",
              "      <td>13.8800</td>\n",
              "      <td>31.140</td>\n",
              "    </tr>\n",
              "    <tr>\n",
              "      <th>Salnty</th>\n",
              "      <td>817509.0</td>\n",
              "      <td>33.840350</td>\n",
              "      <td>0.461843</td>\n",
              "      <td>28.431</td>\n",
              "      <td>33.488</td>\n",
              "      <td>33.863</td>\n",
              "      <td>34.1969</td>\n",
              "      <td>37.034</td>\n",
              "    </tr>\n",
              "  </tbody>\n",
              "</table>\n",
              "</div>"
            ],
            "text/plain": [
              "           count        mean         std  ...      50%       75%       max\n",
              "Depthm  864863.0  226.831951  316.050259  ...  125.000  300.0000  5351.000\n",
              "T_degC  853900.0   10.799677    4.243825  ...   10.060   13.8800    31.140\n",
              "Salnty  817509.0   33.840350    0.461843  ...   33.863   34.1969    37.034\n",
              "\n",
              "[3 rows x 8 columns]"
            ]
          },
          "metadata": {
            "tags": []
          },
          "execution_count": 15
        }
      ]
    },
    {
      "cell_type": "code",
      "metadata": {
        "id": "j5DNIZujCBCB",
        "outputId": "c082a4db-6c50-494c-bd29-9d271b6ba07d",
        "colab": {
          "base_uri": "https://localhost:8080/"
        }
      },
      "source": [
        "histogram(dataset3)"
      ],
      "execution_count": null,
      "outputs": [
        {
          "output_type": "display_data",
          "data": {
            "image/png": "[encoded data removed]",
            "text/plain": [
              "<Figure size 1296x1584 with 4 Axes>"
            ]
          },
          "metadata": {
            "tags": [],
            "needs_background": "light"
          }
        }
      ]
    },
    {
      "cell_type": "code",
      "metadata": {
        "id": "qhReqhCLCPno"
      },
      "source": [
        "dataset3['T_degC'] = dataset3['T_degC'].fillna(dataset3['T_degC'].mean())"
      ],
      "execution_count": null,
      "outputs": []
    },
    {
      "cell_type": "code",
      "metadata": {
        "id": "i-ORaPqsEqD6"
      },
      "source": [
        "dataset3.dropna(subset=['Salnty'], axis=0, inplace=True)"
      ],
      "execution_count": null,
      "outputs": []
    },
    {
      "cell_type": "code",
      "metadata": {
        "id": "tYtv_8roF6CK",
        "outputId": "9ec72e44-9369-4c69-af86-ff403bc247c1",
        "colab": {
          "base_uri": "https://localhost:8080/"
        }
      },
      "source": [
        "dataset3.info()"
      ],
      "execution_count": null,
      "outputs": [
        {
          "output_type": "stream",
          "text": [
            "<class 'pandas.core.frame.DataFrame'>\n",
            "Int64Index: 817509 entries, 0 to 864862\n",
            "Data columns (total 3 columns):\n",
            " #   Column  Non-Null Count   Dtype  \n",
            "---  ------  --------------   -----  \n",
            " 0   Depthm  817509 non-null  int64  \n",
            " 1   T_degC  817509 non-null  float64\n",
            " 2   Salnty  817509 non-null  float64\n",
            "dtypes: float64(2), int64(1)\n",
            "memory usage: 24.9 MB\n"
          ],
          "name": "stdout"
        }
      ]
    },
    {
      "cell_type": "code",
      "metadata": {
        "id": "q1xJcdfqF8AQ",
        "outputId": "e055683e-ad91-4577-9f7e-3bc11a2100d9",
        "colab": {
          "base_uri": "https://localhost:8080/"
        }
      },
      "source": [
        "histogram(dataset3)"
      ],
      "execution_count": null,
      "outputs": [
        {
          "output_type": "display_data",
          "data": {
            "image/png": "[encoded data removed]",
            "text/plain": [
              "<Figure size 1296x1584 with 4 Axes>"
            ]
          },
          "metadata": {
            "tags": [],
            "needs_background": "light"
          }
        }
      ]
    },
    {
      "cell_type": "code",
      "metadata": {
        "id": "qaRKkk2GGPEb",
        "outputId": "d18a1fef-5c29-4f7b-d387-f99f4ae80a1d",
        "colab": {
          "base_uri": "https://localhost:8080/"
        }
      },
      "source": [
        "heatmap(dataset3)"
      ],
      "execution_count": null,
      "outputs": [
        {
          "output_type": "display_data",
          "data": {
            "image/png": "[encoded data removed]",
            "text/plain": [
              "<Figure size 1440x1440 with 2 Axes>"
            ]
          },
          "metadata": {
            "tags": [],
            "needs_background": "light"
          }
        }
      ]
    },
    {
      "cell_type": "markdown",
      "metadata": {
        "id": "SBhBuuSeGdxA"
      },
      "source": [
        "### Feature Engineering"
      ]
    },
    {
      "cell_type": "code",
      "metadata": {
        "id": "CStbJle_GdX4"
      },
      "source": [
        "features3 = dataset3.drop(['Salnty'], axis=1)\n",
        "label3 = dataset3['Salnty']"
      ],
      "execution_count": 13,
      "outputs": []
    },
    {
      "cell_type": "code",
      "metadata": {
        "id": "cM4lj-nrGpQA"
      },
      "source": [
        "# fungsi scalling\n",
        "feature_train3, feature_test3, label_train3, label_test3 = scalling(features3, label3, 0.25)"
      ],
      "execution_count": 14,
      "outputs": []
    },
    {
      "cell_type": "markdown",
      "metadata": {
        "id": "NbyLzIwHHTVP"
      },
      "source": [
        "### Linear Regression"
      ]
    },
    {
      "cell_type": "code",
      "metadata": {
        "id": "HSFiDEonHObt",
        "outputId": "96f05558-2dfa-4e51-de97-1b41073eef7d",
        "colab": {
          "base_uri": "https://localhost:8080/",
          "height": 86
        }
      },
      "source": [
        "linreg(feature_train3, label_train3, feature_test3, label_test3)"
      ],
      "execution_count": null,
      "outputs": [
        {
          "output_type": "stream",
          "text": [
            "MSE \t\t: 0.644\n",
            "MAE \t\t: 0.560\n",
            "r2 score \t: 0.354\n",
            "RMSE \t\t: 0.802\n"
          ],
          "name": "stdout"
        }
      ]
    },
    {
      "cell_type": "markdown",
      "metadata": {
        "id": "a725kUznH8Z2"
      },
      "source": [
        "### Baseline Model"
      ]
    },
    {
      "cell_type": "code",
      "metadata": {
        "id": "OXzDrW4WHiig",
        "outputId": "6bcdca82-40e8-4959-fc28-c1d29cc7f1a2",
        "colab": {
          "base_uri": "https://localhost:8080/",
          "height": 1000
        }
      },
      "source": [
        "jumlah_feature = 2\n",
        "\n",
        "model_b3, history_b3 = bl_model(feature_train3, label_train3, feature_test3, label_test3, jumlah_feature)\n",
        "history_b3"
      ],
      "execution_count": null,
      "outputs": [
        {
          "output_type": "stream",
          "text": [
            "Epoch 1/50\n",
            "76642/76642 [==============================] - 146s 2ms/step - loss: 0.3530 - val_loss: 0.3348\n",
            "Epoch 2/50\n",
            "76642/76642 [==============================] - 146s 2ms/step - loss: 0.3397 - val_loss: 0.3344\n",
            "Epoch 3/50\n",
            "76642/76642 [==============================] - 146s 2ms/step - loss: 0.3391 - val_loss: 0.3325\n",
            "Epoch 4/50\n",
            "76642/76642 [==============================] - 146s 2ms/step - loss: 0.3386 - val_loss: 0.3301\n",
            "Epoch 5/50\n",
            "76642/76642 [==============================] - 145s 2ms/step - loss: 0.3372 - val_loss: 0.3262\n",
            "Epoch 6/50\n",
            "76642/76642 [==============================] - 145s 2ms/step - loss: 0.3190 - val_loss: 0.3198\n",
            "Epoch 7/50\n",
            "76642/76642 [==============================] - 144s 2ms/step - loss: 0.3123 - val_loss: 0.3066\n",
            "Epoch 8/50\n",
            "76642/76642 [==============================] - 145s 2ms/step - loss: 0.3116 - val_loss: 0.3045\n",
            "Epoch 9/50\n",
            "76642/76642 [==============================] - 145s 2ms/step - loss: 0.3114 - val_loss: 0.3055\n",
            "Epoch 10/50\n",
            "76642/76642 [==============================] - 146s 2ms/step - loss: 0.3111 - val_loss: 0.3055\n",
            "Epoch 11/50\n",
            "76642/76642 [==============================] - 144s 2ms/step - loss: 0.3112 - val_loss: 0.3058\n",
            "Epoch 12/50\n",
            "76642/76642 [==============================] - 144s 2ms/step - loss: 0.3112 - val_loss: 0.3414\n",
            "Epoch 13/50\n",
            "76642/76642 [==============================] - 145s 2ms/step - loss: 0.3112 - val_loss: 0.3056\n",
            "Epoch 14/50\n",
            "76642/76642 [==============================] - 144s 2ms/step - loss: 0.3108 - val_loss: 0.3039\n",
            "Epoch 15/50\n",
            "76642/76642 [==============================] - 144s 2ms/step - loss: 0.3098 - val_loss: 0.3031\n",
            "Epoch 16/50\n",
            "76642/76642 [==============================] - 145s 2ms/step - loss: 0.3091 - val_loss: 0.3089\n",
            "Epoch 17/50\n",
            "76642/76642 [==============================] - 146s 2ms/step - loss: 0.3083 - val_loss: 0.3046\n",
            "Epoch 18/50\n",
            "76642/76642 [==============================] - 145s 2ms/step - loss: 0.3078 - val_loss: 0.3012\n",
            "Epoch 19/50\n",
            "76642/76642 [==============================] - 145s 2ms/step - loss: 0.3075 - val_loss: 0.3056\n",
            "Epoch 20/50\n",
            "76642/76642 [==============================] - 144s 2ms/step - loss: 0.3073 - val_loss: 0.3023\n",
            "Epoch 21/50\n",
            "76642/76642 [==============================] - 144s 2ms/step - loss: 0.3072 - val_loss: 0.3037\n",
            "Epoch 22/50\n",
            "76642/76642 [==============================] - 144s 2ms/step - loss: 0.3052 - val_loss: 0.3006\n",
            "Epoch 23/50\n",
            "76642/76642 [==============================] - 145s 2ms/step - loss: 0.3028 - val_loss: 0.2973\n",
            "Epoch 24/50\n",
            "76642/76642 [==============================] - 145s 2ms/step - loss: 0.3026 - val_loss: 0.2979\n",
            "Epoch 25/50\n",
            "76642/76642 [==============================] - 146s 2ms/step - loss: 0.3025 - val_loss: 0.2974\n",
            "Epoch 26/50\n",
            "76642/76642 [==============================] - 145s 2ms/step - loss: 0.3027 - val_loss: 0.3068\n",
            "Epoch 27/50\n",
            "76642/76642 [==============================] - 144s 2ms/step - loss: 0.3026 - val_loss: 0.3009\n",
            "Epoch 28/50\n",
            "76642/76642 [==============================] - 145s 2ms/step - loss: 0.3025 - val_loss: 0.2961\n",
            "Epoch 29/50\n",
            "76642/76642 [==============================] - 144s 2ms/step - loss: 0.3026 - val_loss: 0.2997\n",
            "Epoch 30/50\n",
            "76642/76642 [==============================] - 146s 2ms/step - loss: 0.3025 - val_loss: 0.2962\n",
            "Epoch 31/50\n",
            "76642/76642 [==============================] - 146s 2ms/step - loss: 0.3026 - val_loss: 0.2977\n",
            "Epoch 32/50\n",
            "76642/76642 [==============================] - 145s 2ms/step - loss: 0.3023 - val_loss: 0.2967\n",
            "Epoch 33/50\n",
            "76642/76642 [==============================] - 145s 2ms/step - loss: 0.3024 - val_loss: 0.2976\n",
            "Epoch 34/50\n",
            "76642/76642 [==============================] - 146s 2ms/step - loss: 0.3024 - val_loss: 0.2964\n",
            "Epoch 35/50\n",
            "76642/76642 [==============================] - 145s 2ms/step - loss: 0.3024 - val_loss: 0.2963\n",
            "Epoch 36/50\n",
            "76642/76642 [==============================] - 145s 2ms/step - loss: 0.3025 - val_loss: 0.3075\n",
            "Epoch 37/50\n",
            "76642/76642 [==============================] - 145s 2ms/step - loss: 0.3025 - val_loss: 0.2990\n",
            "Epoch 38/50\n",
            "76642/76642 [==============================] - 146s 2ms/step - loss: 0.3024 - val_loss: 0.2988\n",
            "Epoch 39/50\n",
            "76642/76642 [==============================] - 145s 2ms/step - loss: 0.3024 - val_loss: 0.2995\n",
            "Epoch 40/50\n",
            "76642/76642 [==============================] - 146s 2ms/step - loss: 0.3025 - val_loss: 0.3003\n",
            "Epoch 41/50\n",
            "76642/76642 [==============================] - 144s 2ms/step - loss: 0.3024 - val_loss: 0.2984\n",
            "Epoch 42/50\n",
            "76642/76642 [==============================] - 144s 2ms/step - loss: 0.3024 - val_loss: 0.2974\n",
            "Epoch 43/50\n",
            "76642/76642 [==============================] - 145s 2ms/step - loss: 0.3024 - val_loss: 0.2968\n",
            "Epoch 44/50\n",
            "76642/76642 [==============================] - 145s 2ms/step - loss: 0.3023 - val_loss: 0.3020\n",
            "Epoch 45/50\n",
            "76642/76642 [==============================] - 146s 2ms/step - loss: 0.3024 - val_loss: 0.2976\n",
            "Epoch 46/50\n",
            "76642/76642 [==============================] - 144s 2ms/step - loss: 0.3024 - val_loss: 0.2969\n",
            "Epoch 47/50\n",
            "76642/76642 [==============================] - 145s 2ms/step - loss: 0.3023 - val_loss: 0.2984\n",
            "Epoch 48/50\n",
            "76642/76642 [==============================] - 144s 2ms/step - loss: 0.3024 - val_loss: 0.2967\n",
            "Epoch 49/50\n",
            "76642/76642 [==============================] - 145s 2ms/step - loss: 0.3024 - val_loss: 0.3084\n",
            "Epoch 50/50\n",
            "76642/76642 [==============================] - 144s 2ms/step - loss: 0.3023 - val_loss: 0.3096\n"
          ],
          "name": "stdout"
        },
        {
          "output_type": "execute_result",
          "data": {
            "text/plain": [
              "<tensorflow.python.keras.callbacks.History at 0x7f6a8f469b70>"
            ]
          },
          "metadata": {
            "tags": []
          },
          "execution_count": 238
        }
      ]
    },
    {
      "cell_type": "code",
      "metadata": {
        "id": "S36kp_p4eQgc",
        "outputId": "a66f351b-7028-4b2f-a19f-4a0509998e74",
        "colab": {
          "base_uri": "https://localhost:8080/",
          "height": 124
        }
      },
      "source": [
        "prediksi(feature_test3, label_test3, model_b3)"
      ],
      "execution_count": null,
      "outputs": [
        {
          "output_type": "stream",
          "text": [
            "WARNING:tensorflow:5 out of the last 12 calls to <function Model.make_predict_function.<locals>.predict_function at 0x7f6aaa3a5378> triggered tf.function retracing. Tracing is expensive and the excessive number of tracings could be due to (1) creating @tf.function repeatedly in a loop, (2) passing tensors with different shapes, (3) passing Python objects instead of tensors. For (1), please define your @tf.function outside of the loop. For (2), @tf.function has experimental_relax_shapes=True option that relaxes argument shapes that can avoid unnecessary retracing. For (3), please refer to https://www.tensorflow.org/tutorials/customization/performance#python_or_tensor_args and https://www.tensorflow.org/api_docs/python/tf/function for  more details.\n",
            "MSE \t\t: 0.310\n",
            "MAE \t\t: 0.358\n",
            "r2 score \t: 0.689\n",
            "RMSE \t\t: 0.556\n"
          ],
          "name": "stdout"
        }
      ]
    },
    {
      "cell_type": "markdown",
      "metadata": {
        "id": "gAFPJpdeecZL"
      },
      "source": [
        "### Deeper Model"
      ]
    },
    {
      "cell_type": "code",
      "metadata": {
        "id": "4zEiFYyaIw8C",
        "outputId": "f3728e60-1bdd-4af2-bec3-934d49af4c8b",
        "colab": {
          "base_uri": "https://localhost:8080/",
          "height": 1000
        }
      },
      "source": [
        "jumlah_feature = 2\n",
        "model_d3, history_d3 = deeper_model(feature_train3, label_train3, feature_test3, label_test3, jumlah_feature)\n",
        "history_d3"
      ],
      "execution_count": null,
      "outputs": [
        {
          "output_type": "stream",
          "text": [
            "Epoch 1/50\n",
            "76642/76642 [==============================] - 210s 3ms/step - loss: 0.3142 - val_loss: 0.2982\n",
            "Epoch 2/50\n",
            "76642/76642 [==============================] - 185s 2ms/step - loss: 0.3033 - val_loss: 0.2977\n",
            "Epoch 3/50\n",
            "76642/76642 [==============================] - 209s 3ms/step - loss: 0.3021 - val_loss: 0.3004\n",
            "Epoch 4/50\n",
            "76642/76642 [==============================] - 203s 3ms/step - loss: 0.3014 - val_loss: 0.2962\n",
            "Epoch 5/50\n",
            "76642/76642 [==============================] - 196s 3ms/step - loss: 0.3010 - val_loss: 0.2975\n",
            "Epoch 6/50\n",
            "76642/76642 [==============================] - 186s 2ms/step - loss: 0.3006 - val_loss: 0.2964\n",
            "Epoch 7/50\n",
            "76642/76642 [==============================] - 193s 3ms/step - loss: 0.3004 - val_loss: 0.2985\n",
            "Epoch 8/50\n",
            "76642/76642 [==============================] - 187s 2ms/step - loss: 0.3002 - val_loss: 0.2991\n",
            "Epoch 9/50\n",
            "76642/76642 [==============================] - 183s 2ms/step - loss: 0.2999 - val_loss: 0.2969\n",
            "Epoch 10/50\n",
            "76642/76642 [==============================] - 146s 2ms/step - loss: 0.2998 - val_loss: 0.3013\n",
            "Epoch 11/50\n",
            "76642/76642 [==============================] - 144s 2ms/step - loss: 0.2995 - val_loss: 0.2941\n",
            "Epoch 12/50\n",
            "76642/76642 [==============================] - 145s 2ms/step - loss: 0.2993 - val_loss: 0.2940\n",
            "Epoch 13/50\n",
            "76642/76642 [==============================] - 145s 2ms/step - loss: 0.2990 - val_loss: 0.2984\n",
            "Epoch 14/50\n",
            "76642/76642 [==============================] - 144s 2ms/step - loss: 0.2985 - val_loss: 0.2938\n",
            "Epoch 15/50\n",
            "76642/76642 [==============================] - 144s 2ms/step - loss: 0.2985 - val_loss: 0.2945\n",
            "Epoch 16/50\n",
            "76642/76642 [==============================] - 145s 2ms/step - loss: 0.2983 - val_loss: 0.2930\n",
            "Epoch 17/50\n",
            "76642/76642 [==============================] - 145s 2ms/step - loss: 0.2982 - val_loss: 0.2935\n",
            "Epoch 18/50\n",
            "76642/76642 [==============================] - 145s 2ms/step - loss: 0.2982 - val_loss: 0.2942\n",
            "Epoch 19/50\n",
            "76642/76642 [==============================] - 152s 2ms/step - loss: 0.2981 - val_loss: 0.2940\n",
            "Epoch 20/50\n",
            "76642/76642 [==============================] - 175s 2ms/step - loss: 0.2980 - val_loss: 0.2941\n",
            "Epoch 21/50\n",
            "76642/76642 [==============================] - 162s 2ms/step - loss: 0.2980 - val_loss: 0.2944\n",
            "Epoch 22/50\n",
            "76642/76642 [==============================] - 152s 2ms/step - loss: 0.2979 - val_loss: 0.2956\n",
            "Epoch 23/50\n",
            "76642/76642 [==============================] - 150s 2ms/step - loss: 0.2979 - val_loss: 0.2940\n",
            "Epoch 24/50\n",
            "76642/76642 [==============================] - 155s 2ms/step - loss: 0.2979 - val_loss: 0.2935\n",
            "Epoch 25/50\n",
            "76642/76642 [==============================] - 179s 2ms/step - loss: 0.2978 - val_loss: 0.2939\n",
            "Epoch 26/50\n",
            "76642/76642 [==============================] - 186s 2ms/step - loss: 0.2978 - val_loss: 0.2968\n",
            "Epoch 27/50\n",
            "76642/76642 [==============================] - 180s 2ms/step - loss: 0.2977 - val_loss: 0.2946\n",
            "Epoch 28/50\n",
            "76642/76642 [==============================] - 146s 2ms/step - loss: 0.2979 - val_loss: 0.2928\n",
            "Epoch 29/50\n",
            "76642/76642 [==============================] - 144s 2ms/step - loss: 0.2977 - val_loss: 0.2977\n",
            "Epoch 30/50\n",
            "76642/76642 [==============================] - 145s 2ms/step - loss: 0.2978 - val_loss: 0.2962\n",
            "Epoch 31/50\n",
            "76642/76642 [==============================] - 144s 2ms/step - loss: 0.2978 - val_loss: 0.2945\n",
            "Epoch 32/50\n",
            "76642/76642 [==============================] - 145s 2ms/step - loss: 0.2977 - val_loss: 0.2931\n",
            "Epoch 33/50\n",
            "76642/76642 [==============================] - 144s 2ms/step - loss: 0.2977 - val_loss: 0.2948\n",
            "Epoch 34/50\n",
            "76642/76642 [==============================] - 145s 2ms/step - loss: 0.2977 - val_loss: 0.2947\n",
            "Epoch 35/50\n",
            "76642/76642 [==============================] - 144s 2ms/step - loss: 0.2977 - val_loss: 0.2932\n",
            "Epoch 36/50\n",
            "76642/76642 [==============================] - 146s 2ms/step - loss: 0.2976 - val_loss: 0.2942\n",
            "Epoch 37/50\n",
            "76642/76642 [==============================] - 154s 2ms/step - loss: 0.2977 - val_loss: 0.2929\n",
            "Epoch 38/50\n",
            "76642/76642 [==============================] - 157s 2ms/step - loss: 0.2977 - val_loss: 0.2943\n",
            "Epoch 39/50\n",
            "76642/76642 [==============================] - 154s 2ms/step - loss: 0.2978 - val_loss: 0.2961\n",
            "Epoch 40/50\n",
            "76642/76642 [==============================] - 157s 2ms/step - loss: 0.2977 - val_loss: 0.2932\n",
            "Epoch 41/50\n",
            "76642/76642 [==============================] - 154s 2ms/step - loss: 0.2977 - val_loss: 0.2951\n",
            "Epoch 42/50\n",
            "76642/76642 [==============================] - 149s 2ms/step - loss: 0.2977 - val_loss: 0.2947\n",
            "Epoch 43/50\n",
            "76642/76642 [==============================] - 146s 2ms/step - loss: 0.2977 - val_loss: 0.2947\n",
            "Epoch 44/50\n",
            "76642/76642 [==============================] - 145s 2ms/step - loss: 0.2976 - val_loss: 0.2941\n",
            "Epoch 45/50\n",
            "76642/76642 [==============================] - 144s 2ms/step - loss: 0.2976 - val_loss: 0.2933\n",
            "Epoch 46/50\n",
            "76642/76642 [==============================] - 145s 2ms/step - loss: 0.2976 - val_loss: 0.2975\n",
            "Epoch 47/50\n",
            "76642/76642 [==============================] - 144s 2ms/step - loss: 0.2976 - val_loss: 0.2943\n",
            "Epoch 48/50\n",
            "76642/76642 [==============================] - 145s 2ms/step - loss: 0.2976 - val_loss: 0.2927\n",
            "Epoch 49/50\n",
            "76642/76642 [==============================] - 148s 2ms/step - loss: 0.2975 - val_loss: 0.2945\n",
            "Epoch 50/50\n",
            "76642/76642 [==============================] - 152s 2ms/step - loss: 0.2977 - val_loss: 0.2935\n"
          ],
          "name": "stdout"
        },
        {
          "output_type": "execute_result",
          "data": {
            "text/plain": [
              "<tensorflow.python.keras.callbacks.History at 0x7fd85bd240b8>"
            ]
          },
          "metadata": {
            "tags": []
          },
          "execution_count": 25
        }
      ]
    },
    {
      "cell_type": "code",
      "metadata": {
        "id": "utSRPhU_eRBw",
        "outputId": "d011a7fd-1845-4747-8920-8e79d9fbe0b2",
        "colab": {
          "base_uri": "https://localhost:8080/",
          "height": 86
        }
      },
      "source": [
        "prediksi(feature_test3, label_test3, model_d3)"
      ],
      "execution_count": null,
      "outputs": [
        {
          "output_type": "stream",
          "text": [
            "MSE \t\t: 0.294\n",
            "MAE \t\t: 0.349\n",
            "r2 score \t: 0.705\n",
            "RMSE \t\t: 0.542\n"
          ],
          "name": "stdout"
        }
      ]
    },
    {
      "cell_type": "markdown",
      "metadata": {
        "id": "sm2UAoJvefHH"
      },
      "source": [
        "### Wider Model"
      ]
    },
    {
      "cell_type": "code",
      "metadata": {
        "id": "VYDkpxF-JFVi"
      },
      "source": [
        "jumlah_feature = 2\n",
        "model_w3, history_w3 = wider_model(feature_train3, label_train3, feature_test3, label_test3, jumlah_feature)\n",
        "history_w3"
      ],
      "execution_count": null,
      "outputs": []
    },
    {
      "cell_type": "code",
      "metadata": {
        "id": "Li5N7NgteRcP"
      },
      "source": [
        "prediksi(feature_test3, label_test3, model_w3)"
      ],
      "execution_count": null,
      "outputs": []
    },
    {
      "cell_type": "markdown",
      "metadata": {
        "id": "K2RWCwYNXFRW"
      },
      "source": [
        "# Kesimpulan:\n",
        "- **Auto** : hasil prediksi diperoleh linearregression (r2_score = 44%, mse = 0.39), baseline model (r2_score = 50%, mse = 0.35), deeper model (r2_score = 35%, mse = 0.46), dan wider model (r2_score = 23%, mse = 0.54). Pada kasus ini dengan paramter default, Prediksi terbaik yaitu baseline model.\n",
        "- **Auto MPG** : hasil prediksi diperoleh linearregression (r2_score = 79%, mse = 0.21), baseline model (r2_score = 83%, mse = 0.16), deeper model (r2_score = 82%, mse = 0.17), dan wider model (r2_score = 84%, mse = 0.15). Pada kasus ini dengan paramter default, Prediksi terbaik yaitu wider model.\n",
        "- **Bottle** : hasil prediksi diperoleh linearregression (r2_score = 35%, mse = 0.64), baseline model (r2_score = 68%, mse = 0.31), deeper model (r2_score = 70%, mse = 0.29), dan wider model (r2_score = 71%, mse = 0.28). Pada kasus ini dengan paramter default, Prediksi terbaik yaitu wider model. Model deeplearning prediksinya lebih bagus dibanding model ML linear regression.\n",
        "- Secara keseluruhan hasil prediksi model tergantung terhadap data, ada pada suatu kasus hasil prdiksi deep learning lebih bagus dibandingkan ML sederhana dan begitu pun sebaliknya."
      ]
    }
  ]
}