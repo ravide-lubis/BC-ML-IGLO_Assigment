{
  "nbformat": 4,
  "nbformat_minor": 0,
  "metadata": {
    "colab": {
      "name": "Assignment_3_ravide.ipynb",
      "provenance": [],
      "collapsed_sections": []
    },
    "kernelspec": {
      "name": "python3",
      "display_name": "Python 3"
    },
    "accelerator": "GPU"
  },
  "cells": [
    {
      "cell_type": "markdown",
      "metadata": {
        "id": "knD-K87NUhBN"
      },
      "source": [
        "# Assignments 3\n",
        "\n",
        "\n",
        "1.   Membuat function `get_students_averages()` untuk mendapatkan nilai rata-rata ujian untuk masing-masing student dari array `array_of_dictionaries`. Function menerima 1 parameter:\n",
        "\n",
        "  *   `dictionary_list` (array of dictionaries)\n",
        "\n",
        "  Lalu, function akan menjalankan function `print()` yang menghasilkan output seperti berikut:\n",
        "\n",
        "    > Pelajar Budi dengan umur 10 mendapatkan nilai rata-rata 95.67  \n",
        "    > Pelajar Charlie dengan umur 12 mendapatkan nilai rata-rata 95.0\n",
        "\n",
        "\n",
        "2.   Membuat function `get_students_min_score()` untuk mendapatkan nilai ujian terkecil untuk masing-masing student dari array `array_of_dictionaries`. Function menerima 1 parameter:\n",
        "\n",
        "  *   `dictionary_list` (array of dictionaries)\n",
        "\n",
        "  Lalu, function akan menjalankan function `print()` yang menghasilkan output seperti berikut:\n",
        "  \n",
        "    > Pelajar Budi dengan umur 10 mendapatkan nilai terkecil 89.0\n",
        "    > Pelajar Charlie dengan umur 12 mendapatkan nilai terkecil 90.0\n",
        "\n",
        "3.   Membuat function `get_students_max_score()` untuk mendapatkan nilai ujian terbesar untuk masing-masing student dari array `array_of_dictionaries`. Function menerima 1 parameter:\n",
        "\n",
        "  *   `dictionary_list` (array of dictionaries)\n",
        "\n",
        "  Lalu, function akan menjalankan function `print()` yang menghasilkan output seperti berikut:\n",
        "  \n",
        "    > Pelajar Budi dengan umur 10 mendapatkan nilai terbesar 89.0\n",
        "    > Pelajar Charlie dengan umur 12 mendapatkan nilai terbesar 100.0\n",
        "\n",
        "4.   Membuat function `get_max_score_by_student()` untuk mendapatkan nilai ujian terbesar untuk suatu student dari array `array_of_dictionaries`. Function menerima 2 parameter:\n",
        "\n",
        "  *   `dictionary_list` (array of dictionaries)\n",
        "  *   `student_name` (nama pelajar yang ingin dicari nilai terbesarnya)\n",
        "\n",
        "  Lalu, function akan menjalankan function `print()` yang menghasilkan output seperti berikut ketika function `get_max_score_by_student(dictionary_sample, \"Charlie\")` dijalankan:\n",
        "\n",
        "  > Pelajar Charlie dengan umur 12 mendapatkan nilai terbesar 100.0\n",
        "\n",
        "5. Membuat function get_all_time_max_avg_score() untuk mendapatkan nilai rata-rata ujian terbesar dari semua pelajar. Function menerima 1 parameter:\n",
        "\n",
        "  *   `dictionary_list` (array of dictionaries)\n",
        "\n",
        "  Lalu, function akan menjalankan function `print()` yang menghasilkan output seperti berikut:\n",
        "\n",
        "  > Pelajar Budi dengan umur 10 mendapatkan nilai rata-rata terbesar, yaitu 95.67\n",
        "\n",
        "6. Membuat function add_student() untuk menambahkan seorang pelajar ke array dictionary yang sudah ada. Function menerima 2 parameter:\n",
        "  \n",
        "  * `dictionary_list` (array of dictionaries)\n",
        "  * `student_dictionary` (dictionary student yang akan dimasukan ke array)\n",
        "\n",
        "  Lalu, function akan memberikan return value dictionary baru yang sudah ditambahkan dengan student_dictionary yang diberikan di parameter.\n",
        "\n",
        "  Sehingga, ketika kode ini dijalankan \n",
        "\n",
        "  `updated_dictionary = add_student(array_of_dictionaries, {\n",
        "    \"name\": \"Doddy\",\n",
        "    \"age\": 13,\n",
        "    \"test_scores\": [100.0, 100.0, 100.0]\n",
        "  })`\n",
        "  \n",
        "  `print(updated_dictionary)`\n",
        "\n",
        "  Maka, sistem akan mengeluarkan isi list yang sudah ditambahkan dengan dictionary baru."
      ]
    },
    {
      "cell_type": "code",
      "metadata": {
        "id": "wEfxloA7UY3U"
      },
      "source": [
        "array_of_dictionaries = [{\n",
        "    \"name\": \"Budi\",\n",
        "    \"age\": 10,\n",
        "    \"test_scores\": [100.0, 98.0, 89.0]\n",
        "},\n",
        "{\n",
        "    \"name\": \"Charlie\",\n",
        "    \"age\": 12,\n",
        "    \"test_scores\": [90.0, 100.0]\n",
        "}]"
      ],
      "execution_count": null,
      "outputs": []
    },
    {
      "cell_type": "code",
      "metadata": {
        "id": "w3OlEot2VIbV",
        "outputId": "3b546cb1-b0b4-4baa-8d7a-8b691d708fc4",
        "colab": {
          "base_uri": "https://localhost:8080/",
          "height": 50
        }
      },
      "source": [
        "# Jawaban No. 1:\n",
        "def get_students_averages(dictionary_list):\n",
        "  for attribute in dictionary_list:\n",
        "    for key in attribute.keys():\n",
        "      if key == 'test_scores':\n",
        "        nama  = attribute['name']\n",
        "        umur = attribute['age']\n",
        "        nilai = attribute['test_scores']\n",
        "        print('Pelajar ' + nama + ' dengan umur ' + str(umur) + ' memmiliki nilai rata-rata ' + str(sum(nilai)/len(nilai)))\n",
        "\n",
        "get_students_averages(array_of_dictionaries)"
      ],
      "execution_count": null,
      "outputs": [
        {
          "output_type": "stream",
          "text": [
            "Pelajar Budi dengan umur 10 memmiliki nilai rata-rata 95.66666666666667\n",
            "Pelajar Charlie dengan umur 12 memmiliki nilai rata-rata 95.0\n"
          ],
          "name": "stdout"
        }
      ]
    },
    {
      "cell_type": "code",
      "metadata": {
        "id": "1tVo-g78LuZA",
        "outputId": "0a33d028-5093-495a-d16d-17e2341b4505",
        "colab": {
          "base_uri": "https://localhost:8080/",
          "height": 50
        }
      },
      "source": [
        "# Jawaban No. 2:\n",
        "def get_students_min_score(dictionary_list):\n",
        "  for attribute in dictionary_list:\n",
        "    for key in attribute.keys():\n",
        "      if key == 'test_scores':\n",
        "        nama  = attribute['name']\n",
        "        umur = attribute['age']\n",
        "        nilai = attribute['test_scores']\n",
        "        print('Pelajar ' + nama + ' dengan umur ' + str(umur) + ' memmiliki nilai terkecil ' + str(min(nilai)))\n",
        "\n",
        "get_students_min_score(array_of_dictionaries)"
      ],
      "execution_count": null,
      "outputs": [
        {
          "output_type": "stream",
          "text": [
            "Pelajar Budi dengan umur 10 memmiliki nilai terkecil 89.0\n",
            "Pelajar Charlie dengan umur 12 memmiliki nilai terkecil 90.0\n"
          ],
          "name": "stdout"
        }
      ]
    },
    {
      "cell_type": "code",
      "metadata": {
        "id": "x5sSsCoDMXzO",
        "outputId": "91a5794d-e0c0-4afa-fbeb-be4867901bd3",
        "colab": {
          "base_uri": "https://localhost:8080/",
          "height": 50
        }
      },
      "source": [
        "# Jawaban No. 3:\n",
        "def get_students_max_score(dictionary_list):\n",
        "  for attribute in dictionary_list:\n",
        "    for key in attribute.keys():\n",
        "      if key == 'test_scores':\n",
        "        nama  = attribute['name']\n",
        "        umur = attribute['age']\n",
        "        nilai = attribute['test_scores']\n",
        "        print('Pelajar ' + nama + ' dengan umur ' + str(umur) + ' memmiliki nilai terbesar ' + str(max(nilai)))\n",
        "\n",
        "get_students_max_score(array_of_dictionaries)"
      ],
      "execution_count": null,
      "outputs": [
        {
          "output_type": "stream",
          "text": [
            "Pelajar Budi dengan umur 10 memmiliki nilai terbesar 100.0\n",
            "Pelajar Charlie dengan umur 12 memmiliki nilai terbesar 100.0\n"
          ],
          "name": "stdout"
        }
      ]
    },
    {
      "cell_type": "code",
      "metadata": {
        "id": "JffNFB27MnM8",
        "outputId": "a141fce5-9723-4a50-d67d-18d09754d4be",
        "colab": {
          "base_uri": "https://localhost:8080/",
          "height": 33
        }
      },
      "source": [
        "# Jawaban No. 4:\n",
        "def get_max_score_by_student(dictionary_list, name):\n",
        "  for attribute in dictionary_list:\n",
        "    for key in attribute.keys():\n",
        "      if attribute[key] == name:\n",
        "        nama  = attribute['name']\n",
        "        umur = attribute['age']\n",
        "        nilai = attribute['test_scores']\n",
        "        print('Pelajar ' + nama + ' dengan umur ' + str(umur) + ' memmiliki nilai terbesar ' + str(max(nilai)))\n",
        "\n",
        "get_max_score_by_student(array_of_dictionaries, 'Charlie')"
      ],
      "execution_count": null,
      "outputs": [
        {
          "output_type": "stream",
          "text": [
            "Pelajar Charlie dengan umur 12 memmiliki nilai terbesar 100.0\n"
          ],
          "name": "stdout"
        }
      ]
    },
    {
      "cell_type": "code",
      "metadata": {
        "id": "-QhVhd69Msqs",
        "outputId": "b0d93690-5c19-45ad-cf46-8e600ef09a9e",
        "colab": {
          "base_uri": "https://localhost:8080/",
          "height": 33
        }
      },
      "source": [
        "# Jawaban No. 5:\n",
        "nilai_avg_all = []\n",
        "\n",
        "def get_all_time_max_avg_score(dictionary_list):\n",
        "  for attribute in dictionary_list:\n",
        "    for key in attribute.keys():\n",
        "      if key == 'test_scores':\n",
        "        nama  = attribute['name']\n",
        "        umur = attribute['age']\n",
        "        nilai = attribute['test_scores']\n",
        "        nilai_avg = sum(nilai) / len(nilai)\n",
        "        nilai_avg_all.append(nilai_avg)\n",
        "        if nilai_avg == max(nilai_avg_all):\n",
        "          print('Pelajar ' + nama + ' dengan umur ' + str(umur) + ' mendapat nilai rata-rata terbesar, yaitu ' + str(nilai_avg))\n",
        "\n",
        "get_all_time_max_avg_score(array_of_dictionaries)"
      ],
      "execution_count": null,
      "outputs": [
        {
          "output_type": "stream",
          "text": [
            "Pelajar Budi dengan umur 10 mendapat nilai rata-rata terbesar, yaitu 95.66666666666667\n"
          ],
          "name": "stdout"
        }
      ]
    },
    {
      "cell_type": "code",
      "metadata": {
        "id": "vRvYPxmgMvAT",
        "outputId": "d8eeddd3-9c26-4adf-f0cf-2be2f1512ddc",
        "colab": {
          "base_uri": "https://localhost:8080/",
          "height": 53
        }
      },
      "source": [
        "# Jawaban No. 6:\n",
        "def add_student(dictionary_list, student_dictionary):\n",
        "  return dictionary_list + [student_dictionary]\n",
        "\n",
        "student_baru = {\"name\": \"Doddy\", \"age\": 13, \"test_scores\": [100.0, 100.0, 100.0]}\n",
        "update_dictionary = add_student(array_of_dictionaries, student_baru)\n",
        "print(update_dictionary)"
      ],
      "execution_count": null,
      "outputs": [
        {
          "output_type": "stream",
          "text": [
            "[{'name': 'Budi', 'age': 10, 'test_scores': [100.0, 98.0, 89.0]}, {'name': 'Charlie', 'age': 12, 'test_scores': [90.0, 100.0]}, {'name': 'Doddy', 'age': 13, 'test_scores': [100.0, 100.0, 100.0]}]\n"
          ],
          "name": "stdout"
        }
      ]
    }
  ]
}