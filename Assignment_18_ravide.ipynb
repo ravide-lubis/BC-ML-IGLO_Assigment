{
  "nbformat": 4,
  "nbformat_minor": 0,
  "metadata": {
    "colab": {
      "name": "Assigment_18_ravide_fix.ipynb",
      "provenance": [],
      "collapsed_sections": []
    },
    "kernelspec": {
      "name": "python3",
      "display_name": "Python 3"
    }
  },
  "cells": [
    {
      "cell_type": "markdown",
      "metadata": {
        "id": "CFoTyZkKc1Fg"
      },
      "source": [
        "# Menyimpan model Scikit Learn"
      ]
    },
    {
      "cell_type": "code",
      "metadata": {
        "id": "zPOrYxGSOk3X"
      },
      "source": [
        "import os\n",
        "import pandas as pd\n",
        "import numpy as np\n",
        "import matplotlib.pyplot as plt\n",
        "import seaborn as sb"
      ],
      "execution_count": 3,
      "outputs": []
    },
    {
      "cell_type": "code",
      "metadata": {
        "id": "LQUDUJLDPZ0z",
        "outputId": "e834ac47-22f3-460e-e485-d0230c17ab9a",
        "colab": {
          "base_uri": "https://localhost:8080/",
          "height": 202
        }
      },
      "source": [
        "# membaca dataset\n",
        "dataset = pd.read_csv('drive/My Drive/Datasets/iris.csv')\n",
        "dataset.head()"
      ],
      "execution_count": 4,
      "outputs": [
        {
          "output_type": "execute_result",
          "data": {
            "text/html": [
              "<div>\n",
              "<style scoped>\n",
              "    .dataframe tbody tr th:only-of-type {\n",
              "        vertical-align: middle;\n",
              "    }\n",
              "\n",
              "    .dataframe tbody tr th {\n",
              "        vertical-align: top;\n",
              "    }\n",
              "\n",
              "    .dataframe thead th {\n",
              "        text-align: right;\n",
              "    }\n",
              "</style>\n",
              "<table border=\"1\" class=\"dataframe\">\n",
              "  <thead>\n",
              "    <tr style=\"text-align: right;\">\n",
              "      <th></th>\n",
              "      <th>Id</th>\n",
              "      <th>SepalLengthCm</th>\n",
              "      <th>SepalWidthCm</th>\n",
              "      <th>PetalLengthCm</th>\n",
              "      <th>PetalWidthCm</th>\n",
              "      <th>Species</th>\n",
              "    </tr>\n",
              "  </thead>\n",
              "  <tbody>\n",
              "    <tr>\n",
              "      <th>0</th>\n",
              "      <td>1</td>\n",
              "      <td>5.1</td>\n",
              "      <td>3.5</td>\n",
              "      <td>1.4</td>\n",
              "      <td>0.2</td>\n",
              "      <td>Iris-setosa</td>\n",
              "    </tr>\n",
              "    <tr>\n",
              "      <th>1</th>\n",
              "      <td>2</td>\n",
              "      <td>4.9</td>\n",
              "      <td>3.0</td>\n",
              "      <td>1.4</td>\n",
              "      <td>0.2</td>\n",
              "      <td>Iris-setosa</td>\n",
              "    </tr>\n",
              "    <tr>\n",
              "      <th>2</th>\n",
              "      <td>3</td>\n",
              "      <td>4.7</td>\n",
              "      <td>3.2</td>\n",
              "      <td>1.3</td>\n",
              "      <td>0.2</td>\n",
              "      <td>Iris-setosa</td>\n",
              "    </tr>\n",
              "    <tr>\n",
              "      <th>3</th>\n",
              "      <td>4</td>\n",
              "      <td>4.6</td>\n",
              "      <td>3.1</td>\n",
              "      <td>1.5</td>\n",
              "      <td>0.2</td>\n",
              "      <td>Iris-setosa</td>\n",
              "    </tr>\n",
              "    <tr>\n",
              "      <th>4</th>\n",
              "      <td>5</td>\n",
              "      <td>5.0</td>\n",
              "      <td>3.6</td>\n",
              "      <td>1.4</td>\n",
              "      <td>0.2</td>\n",
              "      <td>Iris-setosa</td>\n",
              "    </tr>\n",
              "  </tbody>\n",
              "</table>\n",
              "</div>"
            ],
            "text/plain": [
              "   Id  SepalLengthCm  SepalWidthCm  PetalLengthCm  PetalWidthCm      Species\n",
              "0   1            5.1           3.5            1.4           0.2  Iris-setosa\n",
              "1   2            4.9           3.0            1.4           0.2  Iris-setosa\n",
              "2   3            4.7           3.2            1.3           0.2  Iris-setosa\n",
              "3   4            4.6           3.1            1.5           0.2  Iris-setosa\n",
              "4   5            5.0           3.6            1.4           0.2  Iris-setosa"
            ]
          },
          "metadata": {
            "tags": []
          },
          "execution_count": 4
        }
      ]
    },
    {
      "cell_type": "code",
      "metadata": {
        "id": "i0NIk-1x-W2K",
        "outputId": "68ea3e8a-2862-45e7-daed-0323e36ce3f0",
        "colab": {
          "base_uri": "https://localhost:8080/",
          "height": 294
        }
      },
      "source": [
        "dataset.describe()"
      ],
      "execution_count": 5,
      "outputs": [
        {
          "output_type": "execute_result",
          "data": {
            "text/html": [
              "<div>\n",
              "<style scoped>\n",
              "    .dataframe tbody tr th:only-of-type {\n",
              "        vertical-align: middle;\n",
              "    }\n",
              "\n",
              "    .dataframe tbody tr th {\n",
              "        vertical-align: top;\n",
              "    }\n",
              "\n",
              "    .dataframe thead th {\n",
              "        text-align: right;\n",
              "    }\n",
              "</style>\n",
              "<table border=\"1\" class=\"dataframe\">\n",
              "  <thead>\n",
              "    <tr style=\"text-align: right;\">\n",
              "      <th></th>\n",
              "      <th>Id</th>\n",
              "      <th>SepalLengthCm</th>\n",
              "      <th>SepalWidthCm</th>\n",
              "      <th>PetalLengthCm</th>\n",
              "      <th>PetalWidthCm</th>\n",
              "    </tr>\n",
              "  </thead>\n",
              "  <tbody>\n",
              "    <tr>\n",
              "      <th>count</th>\n",
              "      <td>150.000000</td>\n",
              "      <td>150.000000</td>\n",
              "      <td>150.000000</td>\n",
              "      <td>150.000000</td>\n",
              "      <td>150.000000</td>\n",
              "    </tr>\n",
              "    <tr>\n",
              "      <th>mean</th>\n",
              "      <td>75.500000</td>\n",
              "      <td>5.843333</td>\n",
              "      <td>3.054000</td>\n",
              "      <td>3.758667</td>\n",
              "      <td>1.198667</td>\n",
              "    </tr>\n",
              "    <tr>\n",
              "      <th>std</th>\n",
              "      <td>43.445368</td>\n",
              "      <td>0.828066</td>\n",
              "      <td>0.433594</td>\n",
              "      <td>1.764420</td>\n",
              "      <td>0.763161</td>\n",
              "    </tr>\n",
              "    <tr>\n",
              "      <th>min</th>\n",
              "      <td>1.000000</td>\n",
              "      <td>4.300000</td>\n",
              "      <td>2.000000</td>\n",
              "      <td>1.000000</td>\n",
              "      <td>0.100000</td>\n",
              "    </tr>\n",
              "    <tr>\n",
              "      <th>25%</th>\n",
              "      <td>38.250000</td>\n",
              "      <td>5.100000</td>\n",
              "      <td>2.800000</td>\n",
              "      <td>1.600000</td>\n",
              "      <td>0.300000</td>\n",
              "    </tr>\n",
              "    <tr>\n",
              "      <th>50%</th>\n",
              "      <td>75.500000</td>\n",
              "      <td>5.800000</td>\n",
              "      <td>3.000000</td>\n",
              "      <td>4.350000</td>\n",
              "      <td>1.300000</td>\n",
              "    </tr>\n",
              "    <tr>\n",
              "      <th>75%</th>\n",
              "      <td>112.750000</td>\n",
              "      <td>6.400000</td>\n",
              "      <td>3.300000</td>\n",
              "      <td>5.100000</td>\n",
              "      <td>1.800000</td>\n",
              "    </tr>\n",
              "    <tr>\n",
              "      <th>max</th>\n",
              "      <td>150.000000</td>\n",
              "      <td>7.900000</td>\n",
              "      <td>4.400000</td>\n",
              "      <td>6.900000</td>\n",
              "      <td>2.500000</td>\n",
              "    </tr>\n",
              "  </tbody>\n",
              "</table>\n",
              "</div>"
            ],
            "text/plain": [
              "               Id  SepalLengthCm  SepalWidthCm  PetalLengthCm  PetalWidthCm\n",
              "count  150.000000     150.000000    150.000000     150.000000    150.000000\n",
              "mean    75.500000       5.843333      3.054000       3.758667      1.198667\n",
              "std     43.445368       0.828066      0.433594       1.764420      0.763161\n",
              "min      1.000000       4.300000      2.000000       1.000000      0.100000\n",
              "25%     38.250000       5.100000      2.800000       1.600000      0.300000\n",
              "50%     75.500000       5.800000      3.000000       4.350000      1.300000\n",
              "75%    112.750000       6.400000      3.300000       5.100000      1.800000\n",
              "max    150.000000       7.900000      4.400000       6.900000      2.500000"
            ]
          },
          "metadata": {
            "tags": []
          },
          "execution_count": 5
        }
      ]
    },
    {
      "cell_type": "code",
      "metadata": {
        "id": "VHMFzzMXPZ0Q"
      },
      "source": [
        "# membagi dataset features dan label\n",
        "features = dataset.drop(['Id', 'Species'], axis=1)\n",
        "label = dataset['Species']"
      ],
      "execution_count": 6,
      "outputs": []
    },
    {
      "cell_type": "code",
      "metadata": {
        "id": "B8zy2mabSSN_",
        "outputId": "1b20cdac-3b57-4f6a-cf37-15a05602f203",
        "colab": {
          "base_uri": "https://localhost:8080/"
        }
      },
      "source": [
        "col = features.columns\n",
        "col"
      ],
      "execution_count": 7,
      "outputs": [
        {
          "output_type": "execute_result",
          "data": {
            "text/plain": [
              "Index(['SepalLengthCm', 'SepalWidthCm', 'PetalLengthCm', 'PetalWidthCm'], dtype='object')"
            ]
          },
          "metadata": {
            "tags": []
          },
          "execution_count": 7
        }
      ]
    },
    {
      "cell_type": "code",
      "metadata": {
        "id": "Vdc1tw1kSi9n"
      },
      "source": [
        "# bagi dta training dan data testing\n",
        "from sklearn.model_selection import train_test_split\n",
        "feature_train, feature_test, label_train, label_test = train_test_split(features, label, test_size=0.15, random_state=10)"
      ],
      "execution_count": 8,
      "outputs": []
    },
    {
      "cell_type": "markdown",
      "metadata": {
        "id": "nzKnXYUUc_L_"
      },
      "source": [
        "# Melatih dan Evaluasi Model"
      ]
    },
    {
      "cell_type": "code",
      "metadata": {
        "id": "HrR8DabxtqBg",
        "outputId": "5d90bd12-4e94-4705-c29a-96b3f33e35cf",
        "colab": {
          "base_uri": "https://localhost:8080/"
        }
      },
      "source": [
        "from sklearn.preprocessing import PowerTransformer\n",
        "from sklearn.pipeline import Pipeline\n",
        "from sklearn.linear_model import LogisticRegression\n",
        "\n",
        "pipeline = Pipeline([('scaler', PowerTransformer(method='yeo-johnson')), ('model', LogisticRegression())])\n",
        "pipeline.fit(feature_train, label_train)"
      ],
      "execution_count": 9,
      "outputs": [
        {
          "output_type": "execute_result",
          "data": {
            "text/plain": [
              "Pipeline(memory=None,\n",
              "         steps=[('scaler',\n",
              "                 PowerTransformer(copy=True, method='yeo-johnson',\n",
              "                                  standardize=True)),\n",
              "                ('model',\n",
              "                 LogisticRegression(C=1.0, class_weight=None, dual=False,\n",
              "                                    fit_intercept=True, intercept_scaling=1,\n",
              "                                    l1_ratio=None, max_iter=100,\n",
              "                                    multi_class='auto', n_jobs=None,\n",
              "                                    penalty='l2', random_state=None,\n",
              "                                    solver='lbfgs', tol=0.0001, verbose=0,\n",
              "                                    warm_start=False))],\n",
              "         verbose=False)"
            ]
          },
          "metadata": {
            "tags": []
          },
          "execution_count": 9
        }
      ]
    },
    {
      "cell_type": "code",
      "metadata": {
        "id": "PnbN4-S1ber0"
      },
      "source": [
        "# memprediksi data test\n",
        "test_pred = pipeline.predict(feature_test)"
      ],
      "execution_count": 10,
      "outputs": []
    },
    {
      "cell_type": "code",
      "metadata": {
        "id": "2au3KgKQbwIW",
        "outputId": "17603c98-2824-4b16-9b21-c18ed14934e0",
        "colab": {
          "base_uri": "https://localhost:8080/"
        }
      },
      "source": [
        "# evaluasi model\n",
        "from sklearn.metrics import classification_report\n",
        "print(classification_report(label_test, test_pred))"
      ],
      "execution_count": 11,
      "outputs": [
        {
          "output_type": "stream",
          "text": [
            "                 precision    recall  f1-score   support\n",
            "\n",
            "    Iris-setosa       1.00      1.00      1.00         8\n",
            "Iris-versicolor       1.00      1.00      1.00         9\n",
            " Iris-virginica       1.00      1.00      1.00         6\n",
            "\n",
            "       accuracy                           1.00        23\n",
            "      macro avg       1.00      1.00      1.00        23\n",
            "   weighted avg       1.00      1.00      1.00        23\n",
            "\n"
          ],
          "name": "stdout"
        }
      ]
    },
    {
      "cell_type": "markdown",
      "metadata": {
        "id": "KbyriwA7dDMu"
      },
      "source": [
        "# Menyimpan Model Hasil Training"
      ]
    },
    {
      "cell_type": "code",
      "metadata": {
        "id": "2shm_YtRcYvU"
      },
      "source": [
        "import pickle"
      ],
      "execution_count": 12,
      "outputs": []
    },
    {
      "cell_type": "code",
      "metadata": {
        "id": "ifNAvjuxdprv"
      },
      "source": [
        "nama_file = 'model.pkl'\n",
        "pickle.dump(pipeline, open(nama_file, 'wb'))"
      ],
      "execution_count": 13,
      "outputs": []
    },
    {
      "cell_type": "markdown",
      "metadata": {
        "id": "UEEC7L4md9HP"
      },
      "source": [
        "# Loading Model Hasil Training"
      ]
    },
    {
      "cell_type": "code",
      "metadata": {
        "id": "_gOVm2xteGK-"
      },
      "source": [
        "load_model = pickle.load(open(nama_file, 'rb'))"
      ],
      "execution_count": 14,
      "outputs": []
    },
    {
      "cell_type": "code",
      "metadata": {
        "id": "WIcbmPdUeQMj"
      },
      "source": [
        "label_pred_loaded = load_model.predict(feature_test)"
      ],
      "execution_count": 15,
      "outputs": []
    },
    {
      "cell_type": "code",
      "metadata": {
        "id": "u85R6BBeehSp",
        "outputId": "26f38c3a-88aa-41ce-80ef-ee2d453f927d",
        "colab": {
          "base_uri": "https://localhost:8080/"
        }
      },
      "source": [
        "# evaluasi model\n",
        "from sklearn.metrics import classification_report\n",
        "print(classification_report(label_test, label_pred_loaded))"
      ],
      "execution_count": 16,
      "outputs": [
        {
          "output_type": "stream",
          "text": [
            "                 precision    recall  f1-score   support\n",
            "\n",
            "    Iris-setosa       1.00      1.00      1.00         8\n",
            "Iris-versicolor       1.00      1.00      1.00         9\n",
            " Iris-virginica       1.00      1.00      1.00         6\n",
            "\n",
            "       accuracy                           1.00        23\n",
            "      macro avg       1.00      1.00      1.00        23\n",
            "   weighted avg       1.00      1.00      1.00        23\n",
            "\n"
          ],
          "name": "stdout"
        }
      ]
    },
    {
      "cell_type": "code",
      "metadata": {
        "id": "ScFog21Ie1M4",
        "outputId": "8caff05d-b0e5-4608-e602-e53d51c6a9c0",
        "colab": {
          "base_uri": "https://localhost:8080/",
          "height": 754
        }
      },
      "source": [
        "# menampilkan feature data test yang akan diprediksi\n",
        "feature_test_df = pd.DataFrame(feature_test, columns=col)\n",
        "feature_test_df.reset_index(drop=['index'], inplace=True)\n",
        "feature_test_df"
      ],
      "execution_count": 51,
      "outputs": [
        {
          "output_type": "execute_result",
          "data": {
            "text/html": [
              "<div>\n",
              "<style scoped>\n",
              "    .dataframe tbody tr th:only-of-type {\n",
              "        vertical-align: middle;\n",
              "    }\n",
              "\n",
              "    .dataframe tbody tr th {\n",
              "        vertical-align: top;\n",
              "    }\n",
              "\n",
              "    .dataframe thead th {\n",
              "        text-align: right;\n",
              "    }\n",
              "</style>\n",
              "<table border=\"1\" class=\"dataframe\">\n",
              "  <thead>\n",
              "    <tr style=\"text-align: right;\">\n",
              "      <th></th>\n",
              "      <th>SepalLengthCm</th>\n",
              "      <th>SepalWidthCm</th>\n",
              "      <th>PetalLengthCm</th>\n",
              "      <th>PetalWidthCm</th>\n",
              "    </tr>\n",
              "  </thead>\n",
              "  <tbody>\n",
              "    <tr>\n",
              "      <th>0</th>\n",
              "      <td>6.3</td>\n",
              "      <td>2.3</td>\n",
              "      <td>4.4</td>\n",
              "      <td>1.3</td>\n",
              "    </tr>\n",
              "    <tr>\n",
              "      <th>1</th>\n",
              "      <td>6.4</td>\n",
              "      <td>2.7</td>\n",
              "      <td>5.3</td>\n",
              "      <td>1.9</td>\n",
              "    </tr>\n",
              "    <tr>\n",
              "      <th>2</th>\n",
              "      <td>5.4</td>\n",
              "      <td>3.7</td>\n",
              "      <td>1.5</td>\n",
              "      <td>0.2</td>\n",
              "    </tr>\n",
              "    <tr>\n",
              "      <th>3</th>\n",
              "      <td>6.1</td>\n",
              "      <td>3.0</td>\n",
              "      <td>4.6</td>\n",
              "      <td>1.4</td>\n",
              "    </tr>\n",
              "    <tr>\n",
              "      <th>4</th>\n",
              "      <td>5.0</td>\n",
              "      <td>3.3</td>\n",
              "      <td>1.4</td>\n",
              "      <td>0.2</td>\n",
              "    </tr>\n",
              "    <tr>\n",
              "      <th>5</th>\n",
              "      <td>5.0</td>\n",
              "      <td>2.0</td>\n",
              "      <td>3.5</td>\n",
              "      <td>1.0</td>\n",
              "    </tr>\n",
              "    <tr>\n",
              "      <th>6</th>\n",
              "      <td>6.3</td>\n",
              "      <td>2.5</td>\n",
              "      <td>4.9</td>\n",
              "      <td>1.5</td>\n",
              "    </tr>\n",
              "    <tr>\n",
              "      <th>7</th>\n",
              "      <td>5.8</td>\n",
              "      <td>2.7</td>\n",
              "      <td>4.1</td>\n",
              "      <td>1.0</td>\n",
              "    </tr>\n",
              "    <tr>\n",
              "      <th>8</th>\n",
              "      <td>5.1</td>\n",
              "      <td>3.4</td>\n",
              "      <td>1.5</td>\n",
              "      <td>0.2</td>\n",
              "    </tr>\n",
              "    <tr>\n",
              "      <th>9</th>\n",
              "      <td>5.7</td>\n",
              "      <td>2.8</td>\n",
              "      <td>4.5</td>\n",
              "      <td>1.3</td>\n",
              "    </tr>\n",
              "    <tr>\n",
              "      <th>10</th>\n",
              "      <td>5.6</td>\n",
              "      <td>3.0</td>\n",
              "      <td>4.5</td>\n",
              "      <td>1.5</td>\n",
              "    </tr>\n",
              "    <tr>\n",
              "      <th>11</th>\n",
              "      <td>5.8</td>\n",
              "      <td>2.7</td>\n",
              "      <td>5.1</td>\n",
              "      <td>1.9</td>\n",
              "    </tr>\n",
              "    <tr>\n",
              "      <th>12</th>\n",
              "      <td>5.5</td>\n",
              "      <td>2.3</td>\n",
              "      <td>4.0</td>\n",
              "      <td>1.3</td>\n",
              "    </tr>\n",
              "    <tr>\n",
              "      <th>13</th>\n",
              "      <td>4.9</td>\n",
              "      <td>3.0</td>\n",
              "      <td>1.4</td>\n",
              "      <td>0.2</td>\n",
              "    </tr>\n",
              "    <tr>\n",
              "      <th>14</th>\n",
              "      <td>5.1</td>\n",
              "      <td>3.8</td>\n",
              "      <td>1.5</td>\n",
              "      <td>0.3</td>\n",
              "    </tr>\n",
              "    <tr>\n",
              "      <th>15</th>\n",
              "      <td>6.8</td>\n",
              "      <td>3.0</td>\n",
              "      <td>5.5</td>\n",
              "      <td>2.1</td>\n",
              "    </tr>\n",
              "    <tr>\n",
              "      <th>16</th>\n",
              "      <td>6.0</td>\n",
              "      <td>3.4</td>\n",
              "      <td>4.5</td>\n",
              "      <td>1.6</td>\n",
              "    </tr>\n",
              "    <tr>\n",
              "      <th>17</th>\n",
              "      <td>4.4</td>\n",
              "      <td>3.0</td>\n",
              "      <td>1.3</td>\n",
              "      <td>0.2</td>\n",
              "    </tr>\n",
              "    <tr>\n",
              "      <th>18</th>\n",
              "      <td>5.1</td>\n",
              "      <td>3.7</td>\n",
              "      <td>1.5</td>\n",
              "      <td>0.4</td>\n",
              "    </tr>\n",
              "    <tr>\n",
              "      <th>19</th>\n",
              "      <td>5.0</td>\n",
              "      <td>3.2</td>\n",
              "      <td>1.2</td>\n",
              "      <td>0.2</td>\n",
              "    </tr>\n",
              "    <tr>\n",
              "      <th>20</th>\n",
              "      <td>7.1</td>\n",
              "      <td>3.0</td>\n",
              "      <td>5.9</td>\n",
              "      <td>2.1</td>\n",
              "    </tr>\n",
              "    <tr>\n",
              "      <th>21</th>\n",
              "      <td>6.4</td>\n",
              "      <td>2.8</td>\n",
              "      <td>5.6</td>\n",
              "      <td>2.2</td>\n",
              "    </tr>\n",
              "    <tr>\n",
              "      <th>22</th>\n",
              "      <td>6.2</td>\n",
              "      <td>2.8</td>\n",
              "      <td>4.8</td>\n",
              "      <td>1.8</td>\n",
              "    </tr>\n",
              "  </tbody>\n",
              "</table>\n",
              "</div>"
            ],
            "text/plain": [
              "    SepalLengthCm  SepalWidthCm  PetalLengthCm  PetalWidthCm\n",
              "0             6.3           2.3            4.4           1.3\n",
              "1             6.4           2.7            5.3           1.9\n",
              "2             5.4           3.7            1.5           0.2\n",
              "3             6.1           3.0            4.6           1.4\n",
              "4             5.0           3.3            1.4           0.2\n",
              "5             5.0           2.0            3.5           1.0\n",
              "6             6.3           2.5            4.9           1.5\n",
              "7             5.8           2.7            4.1           1.0\n",
              "8             5.1           3.4            1.5           0.2\n",
              "9             5.7           2.8            4.5           1.3\n",
              "10            5.6           3.0            4.5           1.5\n",
              "11            5.8           2.7            5.1           1.9\n",
              "12            5.5           2.3            4.0           1.3\n",
              "13            4.9           3.0            1.4           0.2\n",
              "14            5.1           3.8            1.5           0.3\n",
              "15            6.8           3.0            5.5           2.1\n",
              "16            6.0           3.4            4.5           1.6\n",
              "17            4.4           3.0            1.3           0.2\n",
              "18            5.1           3.7            1.5           0.4\n",
              "19            5.0           3.2            1.2           0.2\n",
              "20            7.1           3.0            5.9           2.1\n",
              "21            6.4           2.8            5.6           2.2\n",
              "22            6.2           2.8            4.8           1.8"
            ]
          },
          "metadata": {
            "tags": []
          },
          "execution_count": 51
        }
      ]
    },
    {
      "cell_type": "code",
      "metadata": {
        "id": "6fQ9nWWPvb8P",
        "outputId": "edd516f0-c8f9-4f4e-ce13-d4ae6b8efb7c",
        "colab": {
          "base_uri": "https://localhost:8080/"
        }
      },
      "source": [
        "feature_test_df.shape"
      ],
      "execution_count": 20,
      "outputs": [
        {
          "output_type": "execute_result",
          "data": {
            "text/plain": [
              "(23, 4)"
            ]
          },
          "metadata": {
            "tags": []
          },
          "execution_count": 20
        }
      ]
    },
    {
      "cell_type": "markdown",
      "metadata": {
        "id": "e-3fu9-EfMml"
      },
      "source": [
        "# Contoh Prediksi"
      ]
    },
    {
      "cell_type": "code",
      "metadata": {
        "id": "bf9dTJrMe3PV",
        "outputId": "50dc12b0-0997-4065-9038-795007cce910",
        "colab": {
          "base_uri": "https://localhost:8080/"
        }
      },
      "source": [
        "# memprediksi label dari masing-masing data feture_test\n",
        "test_data = feature_test_df.values\n",
        "\n",
        "hasil_pred = []\n",
        "\n",
        "for i in range(len(test_data)):\n",
        "  pred_example = load_model.predict(test_data[[i]])\n",
        "  hasil_pred.append(pred_example)\n",
        "  print('{}. hasil prediksi: {}'.format(i, pred_example))"
      ],
      "execution_count": 18,
      "outputs": [
        {
          "output_type": "stream",
          "text": [
            "0. hasil prediksi: ['Iris-versicolor']\n",
            "1. hasil prediksi: ['Iris-virginica']\n",
            "2. hasil prediksi: ['Iris-setosa']\n",
            "3. hasil prediksi: ['Iris-versicolor']\n",
            "4. hasil prediksi: ['Iris-setosa']\n",
            "5. hasil prediksi: ['Iris-versicolor']\n",
            "6. hasil prediksi: ['Iris-versicolor']\n",
            "7. hasil prediksi: ['Iris-versicolor']\n",
            "8. hasil prediksi: ['Iris-setosa']\n",
            "9. hasil prediksi: ['Iris-versicolor']\n",
            "10. hasil prediksi: ['Iris-versicolor']\n",
            "11. hasil prediksi: ['Iris-virginica']\n",
            "12. hasil prediksi: ['Iris-versicolor']\n",
            "13. hasil prediksi: ['Iris-setosa']\n",
            "14. hasil prediksi: ['Iris-setosa']\n",
            "15. hasil prediksi: ['Iris-virginica']\n",
            "16. hasil prediksi: ['Iris-versicolor']\n",
            "17. hasil prediksi: ['Iris-setosa']\n",
            "18. hasil prediksi: ['Iris-setosa']\n",
            "19. hasil prediksi: ['Iris-setosa']\n",
            "20. hasil prediksi: ['Iris-virginica']\n",
            "21. hasil prediksi: ['Iris-virginica']\n",
            "22. hasil prediksi: ['Iris-virginica']\n"
          ],
          "name": "stdout"
        }
      ]
    },
    {
      "cell_type": "code",
      "metadata": {
        "id": "yoYicWKqj5I-",
        "outputId": "bd450763-fbb0-4734-f5bc-e10b0a1ed718",
        "colab": {
          "base_uri": "https://localhost:8080/",
          "height": 754
        }
      },
      "source": [
        "# membuat hasil prediksi dalam bentuk dataframe\n",
        "prediksi_df = pd.DataFrame(hasil_pred, columns=['Hasil Prediksi'])\n",
        "\n",
        "# menggabungkan dataframe feature test dan hasil prediksinya\n",
        "result = pd.concat([feature_test_df, prediksi_df], axis=1, sort=False)\n",
        "result"
      ],
      "execution_count": 52,
      "outputs": [
        {
          "output_type": "execute_result",
          "data": {
            "text/html": [
              "<div>\n",
              "<style scoped>\n",
              "    .dataframe tbody tr th:only-of-type {\n",
              "        vertical-align: middle;\n",
              "    }\n",
              "\n",
              "    .dataframe tbody tr th {\n",
              "        vertical-align: top;\n",
              "    }\n",
              "\n",
              "    .dataframe thead th {\n",
              "        text-align: right;\n",
              "    }\n",
              "</style>\n",
              "<table border=\"1\" class=\"dataframe\">\n",
              "  <thead>\n",
              "    <tr style=\"text-align: right;\">\n",
              "      <th></th>\n",
              "      <th>SepalLengthCm</th>\n",
              "      <th>SepalWidthCm</th>\n",
              "      <th>PetalLengthCm</th>\n",
              "      <th>PetalWidthCm</th>\n",
              "      <th>Hasil Prediksi</th>\n",
              "    </tr>\n",
              "  </thead>\n",
              "  <tbody>\n",
              "    <tr>\n",
              "      <th>0</th>\n",
              "      <td>6.3</td>\n",
              "      <td>2.3</td>\n",
              "      <td>4.4</td>\n",
              "      <td>1.3</td>\n",
              "      <td>Iris-versicolor</td>\n",
              "    </tr>\n",
              "    <tr>\n",
              "      <th>1</th>\n",
              "      <td>6.4</td>\n",
              "      <td>2.7</td>\n",
              "      <td>5.3</td>\n",
              "      <td>1.9</td>\n",
              "      <td>Iris-virginica</td>\n",
              "    </tr>\n",
              "    <tr>\n",
              "      <th>2</th>\n",
              "      <td>5.4</td>\n",
              "      <td>3.7</td>\n",
              "      <td>1.5</td>\n",
              "      <td>0.2</td>\n",
              "      <td>Iris-setosa</td>\n",
              "    </tr>\n",
              "    <tr>\n",
              "      <th>3</th>\n",
              "      <td>6.1</td>\n",
              "      <td>3.0</td>\n",
              "      <td>4.6</td>\n",
              "      <td>1.4</td>\n",
              "      <td>Iris-versicolor</td>\n",
              "    </tr>\n",
              "    <tr>\n",
              "      <th>4</th>\n",
              "      <td>5.0</td>\n",
              "      <td>3.3</td>\n",
              "      <td>1.4</td>\n",
              "      <td>0.2</td>\n",
              "      <td>Iris-setosa</td>\n",
              "    </tr>\n",
              "    <tr>\n",
              "      <th>5</th>\n",
              "      <td>5.0</td>\n",
              "      <td>2.0</td>\n",
              "      <td>3.5</td>\n",
              "      <td>1.0</td>\n",
              "      <td>Iris-versicolor</td>\n",
              "    </tr>\n",
              "    <tr>\n",
              "      <th>6</th>\n",
              "      <td>6.3</td>\n",
              "      <td>2.5</td>\n",
              "      <td>4.9</td>\n",
              "      <td>1.5</td>\n",
              "      <td>Iris-versicolor</td>\n",
              "    </tr>\n",
              "    <tr>\n",
              "      <th>7</th>\n",
              "      <td>5.8</td>\n",
              "      <td>2.7</td>\n",
              "      <td>4.1</td>\n",
              "      <td>1.0</td>\n",
              "      <td>Iris-versicolor</td>\n",
              "    </tr>\n",
              "    <tr>\n",
              "      <th>8</th>\n",
              "      <td>5.1</td>\n",
              "      <td>3.4</td>\n",
              "      <td>1.5</td>\n",
              "      <td>0.2</td>\n",
              "      <td>Iris-setosa</td>\n",
              "    </tr>\n",
              "    <tr>\n",
              "      <th>9</th>\n",
              "      <td>5.7</td>\n",
              "      <td>2.8</td>\n",
              "      <td>4.5</td>\n",
              "      <td>1.3</td>\n",
              "      <td>Iris-versicolor</td>\n",
              "    </tr>\n",
              "    <tr>\n",
              "      <th>10</th>\n",
              "      <td>5.6</td>\n",
              "      <td>3.0</td>\n",
              "      <td>4.5</td>\n",
              "      <td>1.5</td>\n",
              "      <td>Iris-versicolor</td>\n",
              "    </tr>\n",
              "    <tr>\n",
              "      <th>11</th>\n",
              "      <td>5.8</td>\n",
              "      <td>2.7</td>\n",
              "      <td>5.1</td>\n",
              "      <td>1.9</td>\n",
              "      <td>Iris-virginica</td>\n",
              "    </tr>\n",
              "    <tr>\n",
              "      <th>12</th>\n",
              "      <td>5.5</td>\n",
              "      <td>2.3</td>\n",
              "      <td>4.0</td>\n",
              "      <td>1.3</td>\n",
              "      <td>Iris-versicolor</td>\n",
              "    </tr>\n",
              "    <tr>\n",
              "      <th>13</th>\n",
              "      <td>4.9</td>\n",
              "      <td>3.0</td>\n",
              "      <td>1.4</td>\n",
              "      <td>0.2</td>\n",
              "      <td>Iris-setosa</td>\n",
              "    </tr>\n",
              "    <tr>\n",
              "      <th>14</th>\n",
              "      <td>5.1</td>\n",
              "      <td>3.8</td>\n",
              "      <td>1.5</td>\n",
              "      <td>0.3</td>\n",
              "      <td>Iris-setosa</td>\n",
              "    </tr>\n",
              "    <tr>\n",
              "      <th>15</th>\n",
              "      <td>6.8</td>\n",
              "      <td>3.0</td>\n",
              "      <td>5.5</td>\n",
              "      <td>2.1</td>\n",
              "      <td>Iris-virginica</td>\n",
              "    </tr>\n",
              "    <tr>\n",
              "      <th>16</th>\n",
              "      <td>6.0</td>\n",
              "      <td>3.4</td>\n",
              "      <td>4.5</td>\n",
              "      <td>1.6</td>\n",
              "      <td>Iris-versicolor</td>\n",
              "    </tr>\n",
              "    <tr>\n",
              "      <th>17</th>\n",
              "      <td>4.4</td>\n",
              "      <td>3.0</td>\n",
              "      <td>1.3</td>\n",
              "      <td>0.2</td>\n",
              "      <td>Iris-setosa</td>\n",
              "    </tr>\n",
              "    <tr>\n",
              "      <th>18</th>\n",
              "      <td>5.1</td>\n",
              "      <td>3.7</td>\n",
              "      <td>1.5</td>\n",
              "      <td>0.4</td>\n",
              "      <td>Iris-setosa</td>\n",
              "    </tr>\n",
              "    <tr>\n",
              "      <th>19</th>\n",
              "      <td>5.0</td>\n",
              "      <td>3.2</td>\n",
              "      <td>1.2</td>\n",
              "      <td>0.2</td>\n",
              "      <td>Iris-setosa</td>\n",
              "    </tr>\n",
              "    <tr>\n",
              "      <th>20</th>\n",
              "      <td>7.1</td>\n",
              "      <td>3.0</td>\n",
              "      <td>5.9</td>\n",
              "      <td>2.1</td>\n",
              "      <td>Iris-virginica</td>\n",
              "    </tr>\n",
              "    <tr>\n",
              "      <th>21</th>\n",
              "      <td>6.4</td>\n",
              "      <td>2.8</td>\n",
              "      <td>5.6</td>\n",
              "      <td>2.2</td>\n",
              "      <td>Iris-virginica</td>\n",
              "    </tr>\n",
              "    <tr>\n",
              "      <th>22</th>\n",
              "      <td>6.2</td>\n",
              "      <td>2.8</td>\n",
              "      <td>4.8</td>\n",
              "      <td>1.8</td>\n",
              "      <td>Iris-virginica</td>\n",
              "    </tr>\n",
              "  </tbody>\n",
              "</table>\n",
              "</div>"
            ],
            "text/plain": [
              "    SepalLengthCm  SepalWidthCm  PetalLengthCm  PetalWidthCm   Hasil Prediksi\n",
              "0             6.3           2.3            4.4           1.3  Iris-versicolor\n",
              "1             6.4           2.7            5.3           1.9   Iris-virginica\n",
              "2             5.4           3.7            1.5           0.2      Iris-setosa\n",
              "3             6.1           3.0            4.6           1.4  Iris-versicolor\n",
              "4             5.0           3.3            1.4           0.2      Iris-setosa\n",
              "5             5.0           2.0            3.5           1.0  Iris-versicolor\n",
              "6             6.3           2.5            4.9           1.5  Iris-versicolor\n",
              "7             5.8           2.7            4.1           1.0  Iris-versicolor\n",
              "8             5.1           3.4            1.5           0.2      Iris-setosa\n",
              "9             5.7           2.8            4.5           1.3  Iris-versicolor\n",
              "10            5.6           3.0            4.5           1.5  Iris-versicolor\n",
              "11            5.8           2.7            5.1           1.9   Iris-virginica\n",
              "12            5.5           2.3            4.0           1.3  Iris-versicolor\n",
              "13            4.9           3.0            1.4           0.2      Iris-setosa\n",
              "14            5.1           3.8            1.5           0.3      Iris-setosa\n",
              "15            6.8           3.0            5.5           2.1   Iris-virginica\n",
              "16            6.0           3.4            4.5           1.6  Iris-versicolor\n",
              "17            4.4           3.0            1.3           0.2      Iris-setosa\n",
              "18            5.1           3.7            1.5           0.4      Iris-setosa\n",
              "19            5.0           3.2            1.2           0.2      Iris-setosa\n",
              "20            7.1           3.0            5.9           2.1   Iris-virginica\n",
              "21            6.4           2.8            5.6           2.2   Iris-virginica\n",
              "22            6.2           2.8            4.8           1.8   Iris-virginica"
            ]
          },
          "metadata": {
            "tags": []
          },
          "execution_count": 52
        }
      ]
    },
    {
      "cell_type": "markdown",
      "metadata": {
        "id": "AvSLHQVTxZDI"
      },
      "source": [
        "# WEB Service"
      ]
    },
    {
      "cell_type": "code",
      "metadata": {
        "id": "X-dC12TfwjVA",
        "outputId": "e64c1afc-9869-4729-e1cb-9732a5279b2b",
        "colab": {
          "base_uri": "https://localhost:8080/"
        }
      },
      "source": [
        "!pip install flask-ngrok"
      ],
      "execution_count": 38,
      "outputs": [
        {
          "output_type": "stream",
          "text": [
            "Collecting flask-ngrok\n",
            "  Downloading https://files.pythonhosted.org/packages/af/6c/f54cb686ad1129e27d125d182f90f52b32f284e6c8df58c1bae54fa1adbc/flask_ngrok-0.0.25-py3-none-any.whl\n",
            "Requirement already satisfied: Flask>=0.8 in /usr/local/lib/python3.6/dist-packages (from flask-ngrok) (1.1.2)\n",
            "Requirement already satisfied: requests in /usr/local/lib/python3.6/dist-packages (from flask-ngrok) (2.23.0)\n",
            "Requirement already satisfied: click>=5.1 in /usr/local/lib/python3.6/dist-packages (from Flask>=0.8->flask-ngrok) (7.1.2)\n",
            "Requirement already satisfied: Werkzeug>=0.15 in /usr/local/lib/python3.6/dist-packages (from Flask>=0.8->flask-ngrok) (1.0.1)\n",
            "Requirement already satisfied: itsdangerous>=0.24 in /usr/local/lib/python3.6/dist-packages (from Flask>=0.8->flask-ngrok) (1.1.0)\n",
            "Requirement already satisfied: Jinja2>=2.10.1 in /usr/local/lib/python3.6/dist-packages (from Flask>=0.8->flask-ngrok) (2.11.2)\n",
            "Requirement already satisfied: certifi>=2017.4.17 in /usr/local/lib/python3.6/dist-packages (from requests->flask-ngrok) (2020.6.20)\n",
            "Requirement already satisfied: chardet<4,>=3.0.2 in /usr/local/lib/python3.6/dist-packages (from requests->flask-ngrok) (3.0.4)\n",
            "Requirement already satisfied: urllib3!=1.25.0,!=1.25.1,<1.26,>=1.21.1 in /usr/local/lib/python3.6/dist-packages (from requests->flask-ngrok) (1.24.3)\n",
            "Requirement already satisfied: idna<3,>=2.5 in /usr/local/lib/python3.6/dist-packages (from requests->flask-ngrok) (2.10)\n",
            "Requirement already satisfied: MarkupSafe>=0.23 in /usr/local/lib/python3.6/dist-packages (from Jinja2>=2.10.1->Flask>=0.8->flask-ngrok) (1.1.1)\n",
            "Installing collected packages: flask-ngrok\n",
            "Successfully installed flask-ngrok-0.0.25\n"
          ],
          "name": "stdout"
        }
      ]
    },
    {
      "cell_type": "code",
      "metadata": {
        "id": "0E_cSYwNwn0B"
      },
      "source": [
        "from flask_ngrok import run_with_ngrok\n",
        "from flask import Flask\n",
        "from flask import jsonify, request"
      ],
      "execution_count": 39,
      "outputs": []
    },
    {
      "cell_type": "code",
      "metadata": {
        "id": "xACdKXeswq03"
      },
      "source": [
        "app = Flask(__name__) # Membuat sebuah object Flask\n",
        "\n",
        "@app.route(\"/home\")\n",
        "def home():\n",
        "    return \"<h1>Running Flask on Google Colab!</h1>\""
      ],
      "execution_count": 40,
      "outputs": []
    },
    {
      "cell_type": "code",
      "metadata": {
        "id": "sDETJQyWwqzs"
      },
      "source": [
        "@app.route('/classify', methods=['POST'])\n",
        "def classification():\n",
        "  sepal_width = float(request.json['sepal_width'])\n",
        "  sepal_length = float(request.json['sepal_length'])\n",
        "  petal_length = float(request.json['petal_length'])\n",
        "  petal_width = float(request.json['petal_width'])\n",
        "\n",
        "  filename = 'model.pkl'\n",
        "  loaded_model = pickle.load(open(filename, 'rb'))\n",
        "\n",
        "  data_test = [[sepal_length, sepal_width, petal_length, petal_width]]\n",
        "\n",
        "  prediction_example = loaded_model.predict(data_test)\n",
        "\n",
        "  return jsonify({\n",
        "      \"output\": prediction_example[0]\n",
        "  })"
      ],
      "execution_count": 41,
      "outputs": []
    },
    {
      "cell_type": "code",
      "metadata": {
        "id": "KHRRCNBLw-wY",
        "outputId": "405a77d5-d74a-44f8-f282-7fcadb9eb4b2",
        "colab": {
          "base_uri": "https://localhost:8080/"
        }
      },
      "source": [
        "run_with_ngrok(app)\n",
        "\n",
        "app.run()"
      ],
      "execution_count": 42,
      "outputs": [
        {
          "output_type": "stream",
          "text": [
            " * Serving Flask app \"__main__\" (lazy loading)\n",
            " * Environment: production\n",
            "\u001b[31m   WARNING: This is a development server. Do not use it in a production deployment.\u001b[0m\n",
            "\u001b[2m   Use a production WSGI server instead.\u001b[0m\n",
            " * Debug mode: off\n"
          ],
          "name": "stdout"
        },
        {
          "output_type": "stream",
          "text": [
            " * Running on http://127.0.0.1:5000/ (Press CTRL+C to quit)\n"
          ],
          "name": "stderr"
        },
        {
          "output_type": "stream",
          "text": [
            " * Running on http://24fbd6705d46.ngrok.io\n",
            " * Traffic stats available on http://127.0.0.1:4040\n"
          ],
          "name": "stdout"
        },
        {
          "output_type": "stream",
          "text": [
            "127.0.0.1 - - [07/Oct/2020 02:16:46] \"\u001b[37mPOST /classify HTTP/1.1\u001b[0m\" 200 -\n"
          ],
          "name": "stderr"
        }
      ]
    },
    {
      "cell_type": "markdown",
      "metadata": {
        "id": "jZ4Vr-aLC6Zp"
      },
      "source": [
        "Hasil prediksi di Imsomnia"
      ]
    },
    {
      "cell_type": "markdown",
      "metadata": {
        "id": "hBxxXsUNA9Bk"
      },
      "source": [
        "![prediksi1.PNG](data:image/png;base64,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)"
      ]
    },
    {
      "cell_type": "code",
      "metadata": {
        "id": "-ol7196JA_8P",
        "outputId": "781b7204-9dc6-42eb-f91b-4efe62793d77",
        "colab": {
          "base_uri": "https://localhost:8080/",
          "height": 202
        }
      },
      "source": [
        "# melihat hasil prediksi tanpa web server dari data testing\n",
        "result.head()"
      ],
      "execution_count": 53,
      "outputs": [
        {
          "output_type": "execute_result",
          "data": {
            "text/html": [
              "<div>\n",
              "<style scoped>\n",
              "    .dataframe tbody tr th:only-of-type {\n",
              "        vertical-align: middle;\n",
              "    }\n",
              "\n",
              "    .dataframe tbody tr th {\n",
              "        vertical-align: top;\n",
              "    }\n",
              "\n",
              "    .dataframe thead th {\n",
              "        text-align: right;\n",
              "    }\n",
              "</style>\n",
              "<table border=\"1\" class=\"dataframe\">\n",
              "  <thead>\n",
              "    <tr style=\"text-align: right;\">\n",
              "      <th></th>\n",
              "      <th>SepalLengthCm</th>\n",
              "      <th>SepalWidthCm</th>\n",
              "      <th>PetalLengthCm</th>\n",
              "      <th>PetalWidthCm</th>\n",
              "      <th>Hasil Prediksi</th>\n",
              "    </tr>\n",
              "  </thead>\n",
              "  <tbody>\n",
              "    <tr>\n",
              "      <th>0</th>\n",
              "      <td>6.3</td>\n",
              "      <td>2.3</td>\n",
              "      <td>4.4</td>\n",
              "      <td>1.3</td>\n",
              "      <td>Iris-versicolor</td>\n",
              "    </tr>\n",
              "    <tr>\n",
              "      <th>1</th>\n",
              "      <td>6.4</td>\n",
              "      <td>2.7</td>\n",
              "      <td>5.3</td>\n",
              "      <td>1.9</td>\n",
              "      <td>Iris-virginica</td>\n",
              "    </tr>\n",
              "    <tr>\n",
              "      <th>2</th>\n",
              "      <td>5.4</td>\n",
              "      <td>3.7</td>\n",
              "      <td>1.5</td>\n",
              "      <td>0.2</td>\n",
              "      <td>Iris-setosa</td>\n",
              "    </tr>\n",
              "    <tr>\n",
              "      <th>3</th>\n",
              "      <td>6.1</td>\n",
              "      <td>3.0</td>\n",
              "      <td>4.6</td>\n",
              "      <td>1.4</td>\n",
              "      <td>Iris-versicolor</td>\n",
              "    </tr>\n",
              "    <tr>\n",
              "      <th>4</th>\n",
              "      <td>5.0</td>\n",
              "      <td>3.3</td>\n",
              "      <td>1.4</td>\n",
              "      <td>0.2</td>\n",
              "      <td>Iris-setosa</td>\n",
              "    </tr>\n",
              "  </tbody>\n",
              "</table>\n",
              "</div>"
            ],
            "text/plain": [
              "   SepalLengthCm  SepalWidthCm  PetalLengthCm  PetalWidthCm   Hasil Prediksi\n",
              "0            6.3           2.3            4.4           1.3  Iris-versicolor\n",
              "1            6.4           2.7            5.3           1.9   Iris-virginica\n",
              "2            5.4           3.7            1.5           0.2      Iris-setosa\n",
              "3            6.1           3.0            4.6           1.4  Iris-versicolor\n",
              "4            5.0           3.3            1.4           0.2      Iris-setosa"
            ]
          },
          "metadata": {
            "tags": []
          },
          "execution_count": 53
        }
      ]
    },
    {
      "cell_type": "markdown",
      "metadata": {
        "id": "gb86qZsBC-1F"
      },
      "source": [
        "- Dilihat dari hasil prediksi melalui web service atau app Imsomnia, hasil prediksinya sudah tepat dapat dilihat dari hasil prediksi data testing pada tabel **result** diatas.\n",
        "- Berarti model ML sudah dapat diteraplkan untuk data real, namun terlebih dahulu harus dilakukan scalling yang sama dengan data training agar mendapatkan prediksi yang terbaik."
      ]
    }
  ]
}