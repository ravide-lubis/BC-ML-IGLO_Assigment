{
  "nbformat": 4,
  "nbformat_minor": 0,
  "metadata": {
    "colab": {
      "name": "Asssigment_10_ravide.ipynb",
      "provenance": [],
      "collapsed_sections": [
        "dosUH0Pf4JIs"
      ]
    },
    "kernelspec": {
      "name": "python3",
      "display_name": "Python 3"
    }
  },
  "cells": [
    {
      "cell_type": "markdown",
      "metadata": {
        "id": "k0Od6SmV0ge2",
        "colab_type": "text"
      },
      "source": [
        "# Assignment 10\n",
        "\n",
        "1. Tunjukan scatter plot untuk kombinasi 2 feature ini:\n",
        "  - SepalLengthCm dan PetalLengthCm\n",
        "  - SepalWidthCm dan PetalWidthCm\n",
        "  - SepalLengthCm dan PetalWidthCm\n",
        "\n",
        "2. Untuk dataset **customer**\n",
        "  - Cari nilai k yang paling optimal menggunakan Elbow method\n",
        "  - Buat scatter plot untuk kombinasi 2 feature ini:\n",
        "    - Age dan Annual Income\n",
        "    - Annual Income dan Spending Score\n",
        "    - Age dan Spending Score"
      ]
    },
    {
      "cell_type": "markdown",
      "metadata": {
        "id": "dosUH0Pf4JIs",
        "colab_type": "text"
      },
      "source": [
        "# No. 1"
      ]
    },
    {
      "cell_type": "code",
      "metadata": {
        "id": "Hfjv3hL_xIuj",
        "colab_type": "code",
        "colab": {}
      },
      "source": [
        "import pandas as pd\n",
        "import numpy as np\n",
        "import matplotlib.pyplot as plt"
      ],
      "execution_count": 81,
      "outputs": []
    },
    {
      "cell_type": "code",
      "metadata": {
        "id": "O5-mXQzBxZ3T",
        "colab_type": "code",
        "colab": {
          "base_uri": "https://localhost:8080/",
          "height": 202
        },
        "outputId": "d77120c6-17a7-4b6b-a61d-bf1902ec4399"
      },
      "source": [
        "filename_a = '/content/drive/My Drive/Datasets/iris.csv'\n",
        "\n",
        "dataset_a = pd.read_csv(filename_a)\n",
        "\n",
        "dataset_a.head()"
      ],
      "execution_count": 82,
      "outputs": [
        {
          "output_type": "execute_result",
          "data": {
            "text/html": [
              "<div>\n",
              "<style scoped>\n",
              "    .dataframe tbody tr th:only-of-type {\n",
              "        vertical-align: middle;\n",
              "    }\n",
              "\n",
              "    .dataframe tbody tr th {\n",
              "        vertical-align: top;\n",
              "    }\n",
              "\n",
              "    .dataframe thead th {\n",
              "        text-align: right;\n",
              "    }\n",
              "</style>\n",
              "<table border=\"1\" class=\"dataframe\">\n",
              "  <thead>\n",
              "    <tr style=\"text-align: right;\">\n",
              "      <th></th>\n",
              "      <th>Id</th>\n",
              "      <th>SepalLengthCm</th>\n",
              "      <th>SepalWidthCm</th>\n",
              "      <th>PetalLengthCm</th>\n",
              "      <th>PetalWidthCm</th>\n",
              "      <th>Species</th>\n",
              "    </tr>\n",
              "  </thead>\n",
              "  <tbody>\n",
              "    <tr>\n",
              "      <th>0</th>\n",
              "      <td>1</td>\n",
              "      <td>5.1</td>\n",
              "      <td>3.5</td>\n",
              "      <td>1.4</td>\n",
              "      <td>0.2</td>\n",
              "      <td>Iris-setosa</td>\n",
              "    </tr>\n",
              "    <tr>\n",
              "      <th>1</th>\n",
              "      <td>2</td>\n",
              "      <td>4.9</td>\n",
              "      <td>3.0</td>\n",
              "      <td>1.4</td>\n",
              "      <td>0.2</td>\n",
              "      <td>Iris-setosa</td>\n",
              "    </tr>\n",
              "    <tr>\n",
              "      <th>2</th>\n",
              "      <td>3</td>\n",
              "      <td>4.7</td>\n",
              "      <td>3.2</td>\n",
              "      <td>1.3</td>\n",
              "      <td>0.2</td>\n",
              "      <td>Iris-setosa</td>\n",
              "    </tr>\n",
              "    <tr>\n",
              "      <th>3</th>\n",
              "      <td>4</td>\n",
              "      <td>4.6</td>\n",
              "      <td>3.1</td>\n",
              "      <td>1.5</td>\n",
              "      <td>0.2</td>\n",
              "      <td>Iris-setosa</td>\n",
              "    </tr>\n",
              "    <tr>\n",
              "      <th>4</th>\n",
              "      <td>5</td>\n",
              "      <td>5.0</td>\n",
              "      <td>3.6</td>\n",
              "      <td>1.4</td>\n",
              "      <td>0.2</td>\n",
              "      <td>Iris-setosa</td>\n",
              "    </tr>\n",
              "  </tbody>\n",
              "</table>\n",
              "</div>"
            ],
            "text/plain": [
              "   Id  SepalLengthCm  SepalWidthCm  PetalLengthCm  PetalWidthCm      Species\n",
              "0   1            5.1           3.5            1.4           0.2  Iris-setosa\n",
              "1   2            4.9           3.0            1.4           0.2  Iris-setosa\n",
              "2   3            4.7           3.2            1.3           0.2  Iris-setosa\n",
              "3   4            4.6           3.1            1.5           0.2  Iris-setosa\n",
              "4   5            5.0           3.6            1.4           0.2  Iris-setosa"
            ]
          },
          "metadata": {
            "tags": []
          },
          "execution_count": 82
        }
      ]
    },
    {
      "cell_type": "code",
      "metadata": {
        "id": "2zt74cspx4m3",
        "colab_type": "code",
        "colab": {
          "base_uri": "https://localhost:8080/",
          "height": 202
        },
        "outputId": "8c5f7fd9-abf4-4e45-9016-8be4e54528d0"
      },
      "source": [
        "dataset_a = dataset_a.drop(['Id', 'Species'], axis=1)\n",
        "\n",
        "dataset_a.head()"
      ],
      "execution_count": 83,
      "outputs": [
        {
          "output_type": "execute_result",
          "data": {
            "text/html": [
              "<div>\n",
              "<style scoped>\n",
              "    .dataframe tbody tr th:only-of-type {\n",
              "        vertical-align: middle;\n",
              "    }\n",
              "\n",
              "    .dataframe tbody tr th {\n",
              "        vertical-align: top;\n",
              "    }\n",
              "\n",
              "    .dataframe thead th {\n",
              "        text-align: right;\n",
              "    }\n",
              "</style>\n",
              "<table border=\"1\" class=\"dataframe\">\n",
              "  <thead>\n",
              "    <tr style=\"text-align: right;\">\n",
              "      <th></th>\n",
              "      <th>SepalLengthCm</th>\n",
              "      <th>SepalWidthCm</th>\n",
              "      <th>PetalLengthCm</th>\n",
              "      <th>PetalWidthCm</th>\n",
              "    </tr>\n",
              "  </thead>\n",
              "  <tbody>\n",
              "    <tr>\n",
              "      <th>0</th>\n",
              "      <td>5.1</td>\n",
              "      <td>3.5</td>\n",
              "      <td>1.4</td>\n",
              "      <td>0.2</td>\n",
              "    </tr>\n",
              "    <tr>\n",
              "      <th>1</th>\n",
              "      <td>4.9</td>\n",
              "      <td>3.0</td>\n",
              "      <td>1.4</td>\n",
              "      <td>0.2</td>\n",
              "    </tr>\n",
              "    <tr>\n",
              "      <th>2</th>\n",
              "      <td>4.7</td>\n",
              "      <td>3.2</td>\n",
              "      <td>1.3</td>\n",
              "      <td>0.2</td>\n",
              "    </tr>\n",
              "    <tr>\n",
              "      <th>3</th>\n",
              "      <td>4.6</td>\n",
              "      <td>3.1</td>\n",
              "      <td>1.5</td>\n",
              "      <td>0.2</td>\n",
              "    </tr>\n",
              "    <tr>\n",
              "      <th>4</th>\n",
              "      <td>5.0</td>\n",
              "      <td>3.6</td>\n",
              "      <td>1.4</td>\n",
              "      <td>0.2</td>\n",
              "    </tr>\n",
              "  </tbody>\n",
              "</table>\n",
              "</div>"
            ],
            "text/plain": [
              "   SepalLengthCm  SepalWidthCm  PetalLengthCm  PetalWidthCm\n",
              "0            5.1           3.5            1.4           0.2\n",
              "1            4.9           3.0            1.4           0.2\n",
              "2            4.7           3.2            1.3           0.2\n",
              "3            4.6           3.1            1.5           0.2\n",
              "4            5.0           3.6            1.4           0.2"
            ]
          },
          "metadata": {
            "tags": []
          },
          "execution_count": 83
        }
      ]
    },
    {
      "cell_type": "code",
      "metadata": {
        "id": "0vXBF1lCyFAB",
        "colab_type": "code",
        "colab": {
          "base_uri": "https://localhost:8080/",
          "height": 34
        },
        "outputId": "e858da65-de78-45e3-b76d-b490098d89d3"
      },
      "source": [
        "from sklearn.cluster import KMeans\n",
        "\n",
        "wcss = []\n",
        "\n",
        "for i in range(1,10):\n",
        "  kmeans = KMeans(n_clusters=i, random_state=10)\n",
        "  kmeans.fit(dataset_a)\n",
        "  wcss.append(kmeans.inertia_)\n",
        "\n",
        "print(wcss)"
      ],
      "execution_count": 84,
      "outputs": [
        {
          "output_type": "stream",
          "text": [
            "[680.8244, 152.36870647733906, 78.94084142614602, 57.31787321428571, 46.53558205128205, 38.93873974358974, 34.198464618714624, 30.23652404612931, 28.115534535639803]\n"
          ],
          "name": "stdout"
        }
      ]
    },
    {
      "cell_type": "code",
      "metadata": {
        "id": "ih-_LjIpy0ND",
        "colab_type": "code",
        "colab": {
          "base_uri": "https://localhost:8080/",
          "height": 294
        },
        "outputId": "ff5fd02f-1119-41c9-98bd-25761d6ca062"
      },
      "source": [
        "plt.plot(range(1,10), wcss)\n",
        "plt.title('Elbow Method')\n",
        "plt.xlabel('Cluster')\n",
        "plt.ylabel('Inertia')\n",
        "plt.show()"
      ],
      "execution_count": 85,
      "outputs": [
        {
          "output_type": "display_data",
          "data": {
            "image/png": "[encoded data removed]",
            "text/plain": [
              "<Figure size 432x288 with 1 Axes>"
            ]
          },
          "metadata": {
            "tags": [],
            "needs_background": "light"
          }
        }
      ]
    },
    {
      "cell_type": "code",
      "metadata": {
        "id": "T1DhvraOzU6n",
        "colab_type": "code",
        "colab": {
          "base_uri": "https://localhost:8080/",
          "height": 69
        },
        "outputId": "78513f9e-25b1-4a5e-be80-9ccf5d594b69"
      },
      "source": [
        "model = KMeans(n_clusters=3, random_state=10)\n",
        "model.fit(dataset_a)"
      ],
      "execution_count": 86,
      "outputs": [
        {
          "output_type": "execute_result",
          "data": {
            "text/plain": [
              "KMeans(algorithm='auto', copy_x=True, init='k-means++', max_iter=300,\n",
              "       n_clusters=3, n_init=10, n_jobs=None, precompute_distances='auto',\n",
              "       random_state=10, tol=0.0001, verbose=0)"
            ]
          },
          "metadata": {
            "tags": []
          },
          "execution_count": 86
        }
      ]
    },
    {
      "cell_type": "code",
      "metadata": {
        "id": "Cyh-0fRDzkye",
        "colab_type": "code",
        "colab": {
          "base_uri": "https://localhost:8080/",
          "height": 138
        },
        "outputId": "7aa18f1a-3207-4069-a58e-0858f1c56546"
      },
      "source": [
        "model.labels_"
      ],
      "execution_count": 87,
      "outputs": [
        {
          "output_type": "execute_result",
          "data": {
            "text/plain": [
              "array([1, 1, 1, 1, 1, 1, 1, 1, 1, 1, 1, 1, 1, 1, 1, 1, 1, 1, 1, 1, 1, 1,\n",
              "       1, 1, 1, 1, 1, 1, 1, 1, 1, 1, 1, 1, 1, 1, 1, 1, 1, 1, 1, 1, 1, 1,\n",
              "       1, 1, 1, 1, 1, 1, 0, 0, 2, 0, 0, 0, 0, 0, 0, 0, 0, 0, 0, 0, 0, 0,\n",
              "       0, 0, 0, 0, 0, 0, 0, 0, 0, 0, 0, 2, 0, 0, 0, 0, 0, 0, 0, 0, 0, 0,\n",
              "       0, 0, 0, 0, 0, 0, 0, 0, 0, 0, 0, 0, 2, 0, 2, 2, 2, 2, 0, 2, 2, 2,\n",
              "       2, 2, 2, 0, 0, 2, 2, 2, 2, 0, 2, 0, 2, 0, 2, 2, 0, 0, 2, 2, 2, 2,\n",
              "       2, 0, 2, 2, 2, 2, 0, 2, 2, 2, 0, 2, 2, 2, 0, 2, 2, 0], dtype=int32)"
            ]
          },
          "metadata": {
            "tags": []
          },
          "execution_count": 87
        }
      ]
    },
    {
      "cell_type": "code",
      "metadata": {
        "id": "ZNKA2xd-zyF-",
        "colab_type": "code",
        "colab": {
          "base_uri": "https://localhost:8080/",
          "height": 69
        },
        "outputId": "a9218028-4cfd-4e40-a820-20bcee603540"
      },
      "source": [
        "model.cluster_centers_"
      ],
      "execution_count": 88,
      "outputs": [
        {
          "output_type": "execute_result",
          "data": {
            "text/plain": [
              "array([[5.9016129 , 2.7483871 , 4.39354839, 1.43387097],\n",
              "       [5.006     , 3.418     , 1.464     , 0.244     ],\n",
              "       [6.85      , 3.07368421, 5.74210526, 2.07105263]])"
            ]
          },
          "metadata": {
            "tags": []
          },
          "execution_count": 88
        }
      ]
    },
    {
      "cell_type": "code",
      "metadata": {
        "id": "qXWjNuXMz3AJ",
        "colab_type": "code",
        "colab": {}
      },
      "source": [
        "y_kmeans = kmeans.predict(dataset_a)"
      ],
      "execution_count": 89,
      "outputs": []
    },
    {
      "cell_type": "markdown",
      "metadata": {
        "id": "u9m0v9kY0oqW",
        "colab_type": "text"
      },
      "source": [
        "# Jawaban No. 1"
      ]
    },
    {
      "cell_type": "code",
      "metadata": {
        "id": "horQWoIM0rid",
        "colab_type": "code",
        "colab": {
          "base_uri": "https://localhost:8080/",
          "height": 278
        },
        "outputId": "e6030730-bfdc-48c9-d238-c6266d089d95"
      },
      "source": [
        "# Scatter plot SepalLengthCm dan PetalLenghtCm\n",
        "plt.scatter(dataset_a.values[y_kmeans == 0, 0], dataset_a.values[y_kmeans == 0, 2], s=100, c='red', label ='Cluster 1')\n",
        "plt.scatter(dataset_a.values[y_kmeans == 1, 0], dataset_a.values[y_kmeans == 1, 2], s=100, c='blue', label ='Cluster 2')\n",
        "plt.scatter(dataset_a.values[y_kmeans == 2, 0], dataset_a.values[y_kmeans == 2, 2], s=100, c='green', label ='Cluster 3')\n",
        "plt.scatter(model.cluster_centers_[:, 0], model.cluster_centers_[:, 2], s=50, c='black', label = 'Centroids')\n",
        "plt.xlabel('Sepal Length (cm)')\n",
        "plt.ylabel('Petal Length (cm)')\n",
        "plt.show()"
      ],
      "execution_count": 92,
      "outputs": [
        {
          "output_type": "display_data",
          "data": {
            "image/png": "[encoded data removed]",
            "text/plain": [
              "<Figure size 432x288 with 1 Axes>"
            ]
          },
          "metadata": {
            "tags": [],
            "needs_background": "light"
          }
        }
      ]
    },
    {
      "cell_type": "code",
      "metadata": {
        "id": "ASt-Tlzz1Ng-",
        "colab_type": "code",
        "colab": {
          "base_uri": "https://localhost:8080/",
          "height": 278
        },
        "outputId": "c07c0527-2350-4ab1-bd18-8aa6b92d7c81"
      },
      "source": [
        "# Scatter plot SepalWidthCm dan PetalWidthCm\n",
        "plt.scatter(dataset_a.values[y_kmeans == 0, 1], dataset_a.values[y_kmeans == 0, 3], s=100, c='red', label = 'Claster 1')\n",
        "plt.scatter(dataset_a.values[y_kmeans == 1, 1], dataset_a.values[y_kmeans == 1, 3], s=100, c='blue', label = 'Claster 2')\n",
        "plt.scatter(dataset_a.values[y_kmeans == 2, 1], dataset_a.values[y_kmeans == 2, 3], s=100, c='green', label = 'Claster 3')\n",
        "plt.scatter(model.cluster_centers_[:, 1], model.cluster_centers_[:, 3], s=50, c='black', label = 'Centroids')\n",
        "plt.xlabel('Sepal Width (cm)')\n",
        "plt.ylabel('Petal Width (cm)')\n",
        "plt.show()"
      ],
      "execution_count": 93,
      "outputs": [
        {
          "output_type": "display_data",
          "data": {
            "image/png": "[encoded data removed]",
            "text/plain": [
              "<Figure size 432x288 with 1 Axes>"
            ]
          },
          "metadata": {
            "tags": [],
            "needs_background": "light"
          }
        }
      ]
    },
    {
      "cell_type": "code",
      "metadata": {
        "id": "l3QOOQDD3Q01",
        "colab_type": "code",
        "colab": {
          "base_uri": "https://localhost:8080/",
          "height": 278
        },
        "outputId": "d9e0a092-ca1e-41d6-e76f-166ca91329e4"
      },
      "source": [
        "# Scatter plot SepalLengthCm dan PetalWidthCm\n",
        "plt.scatter(dataset_a.values[y_kmeans == 0, 0], dataset_a.values[y_kmeans == 0, 3], s=100, c='red', label = 'Claster 1')\n",
        "plt.scatter(dataset_a.values[y_kmeans == 1, 0], dataset_a.values[y_kmeans == 1, 3], s=100, c='blue', label = 'Claster 2')\n",
        "plt.scatter(dataset_a.values[y_kmeans == 2, 0], dataset_a.values[y_kmeans == 2, 3], s=100, c='green', label = 'Claster 3')\n",
        "plt.scatter(model.cluster_centers_[:, 0], model.cluster_centers_[:, 3], s=50, c='black', label = 'Centroids')\n",
        "plt.xlabel('Sepal Length (cm)')\n",
        "plt.ylabel('Petal Width (cm)')\n",
        "plt.show()"
      ],
      "execution_count": 94,
      "outputs": [
        {
          "output_type": "display_data",
          "data": {
            "image/png": "[encoded data removed]",
            "text/plain": [
              "<Figure size 432x288 with 1 Axes>"
            ]
          },
          "metadata": {
            "tags": [],
            "needs_background": "light"
          }
        }
      ]
    },
    {
      "cell_type": "markdown",
      "metadata": {
        "id": "x92BomIo3mxh",
        "colab_type": "text"
      },
      "source": [
        "# No. 2"
      ]
    },
    {
      "cell_type": "code",
      "metadata": {
        "id": "tMCOXWi03qrL",
        "colab_type": "code",
        "colab": {
          "base_uri": "https://localhost:8080/",
          "height": 202
        },
        "outputId": "0496b66a-2d6e-4436-8a78-7452f4d02fca"
      },
      "source": [
        "filename_b = '/content/drive/My Drive/Datasets/customer.csv'\n",
        "\n",
        "dataset_b = pd.read_csv(filename_b)\n",
        "\n",
        "dataset_b.head()"
      ],
      "execution_count": 95,
      "outputs": [
        {
          "output_type": "execute_result",
          "data": {
            "text/html": [
              "<div>\n",
              "<style scoped>\n",
              "    .dataframe tbody tr th:only-of-type {\n",
              "        vertical-align: middle;\n",
              "    }\n",
              "\n",
              "    .dataframe tbody tr th {\n",
              "        vertical-align: top;\n",
              "    }\n",
              "\n",
              "    .dataframe thead th {\n",
              "        text-align: right;\n",
              "    }\n",
              "</style>\n",
              "<table border=\"1\" class=\"dataframe\">\n",
              "  <thead>\n",
              "    <tr style=\"text-align: right;\">\n",
              "      <th></th>\n",
              "      <th>CustomerID</th>\n",
              "      <th>Genre</th>\n",
              "      <th>Age</th>\n",
              "      <th>Annual Income (k$)</th>\n",
              "      <th>Spending Score (1-100)</th>\n",
              "    </tr>\n",
              "  </thead>\n",
              "  <tbody>\n",
              "    <tr>\n",
              "      <th>0</th>\n",
              "      <td>1</td>\n",
              "      <td>Male</td>\n",
              "      <td>19</td>\n",
              "      <td>15</td>\n",
              "      <td>39</td>\n",
              "    </tr>\n",
              "    <tr>\n",
              "      <th>1</th>\n",
              "      <td>2</td>\n",
              "      <td>Male</td>\n",
              "      <td>21</td>\n",
              "      <td>15</td>\n",
              "      <td>81</td>\n",
              "    </tr>\n",
              "    <tr>\n",
              "      <th>2</th>\n",
              "      <td>3</td>\n",
              "      <td>Female</td>\n",
              "      <td>20</td>\n",
              "      <td>16</td>\n",
              "      <td>6</td>\n",
              "    </tr>\n",
              "    <tr>\n",
              "      <th>3</th>\n",
              "      <td>4</td>\n",
              "      <td>Female</td>\n",
              "      <td>23</td>\n",
              "      <td>16</td>\n",
              "      <td>77</td>\n",
              "    </tr>\n",
              "    <tr>\n",
              "      <th>4</th>\n",
              "      <td>5</td>\n",
              "      <td>Female</td>\n",
              "      <td>31</td>\n",
              "      <td>17</td>\n",
              "      <td>40</td>\n",
              "    </tr>\n",
              "  </tbody>\n",
              "</table>\n",
              "</div>"
            ],
            "text/plain": [
              "   CustomerID   Genre  Age  Annual Income (k$)  Spending Score (1-100)\n",
              "0           1    Male   19                  15                      39\n",
              "1           2    Male   21                  15                      81\n",
              "2           3  Female   20                  16                       6\n",
              "3           4  Female   23                  16                      77\n",
              "4           5  Female   31                  17                      40"
            ]
          },
          "metadata": {
            "tags": []
          },
          "execution_count": 95
        }
      ]
    },
    {
      "cell_type": "code",
      "metadata": {
        "id": "cK1fcJ986LMV",
        "colab_type": "code",
        "colab": {
          "base_uri": "https://localhost:8080/",
          "height": 202
        },
        "outputId": "7078301f-4bc1-46c0-bbf6-09c3b512a49e"
      },
      "source": [
        "# menghapus dataset yang tidak diperlukan\n",
        "dataset_b = dataset_b.drop(['CustomerID', 'Genre'], axis=1)\n",
        "\n",
        "dataset_b.head()"
      ],
      "execution_count": 96,
      "outputs": [
        {
          "output_type": "execute_result",
          "data": {
            "text/html": [
              "<div>\n",
              "<style scoped>\n",
              "    .dataframe tbody tr th:only-of-type {\n",
              "        vertical-align: middle;\n",
              "    }\n",
              "\n",
              "    .dataframe tbody tr th {\n",
              "        vertical-align: top;\n",
              "    }\n",
              "\n",
              "    .dataframe thead th {\n",
              "        text-align: right;\n",
              "    }\n",
              "</style>\n",
              "<table border=\"1\" class=\"dataframe\">\n",
              "  <thead>\n",
              "    <tr style=\"text-align: right;\">\n",
              "      <th></th>\n",
              "      <th>Age</th>\n",
              "      <th>Annual Income (k$)</th>\n",
              "      <th>Spending Score (1-100)</th>\n",
              "    </tr>\n",
              "  </thead>\n",
              "  <tbody>\n",
              "    <tr>\n",
              "      <th>0</th>\n",
              "      <td>19</td>\n",
              "      <td>15</td>\n",
              "      <td>39</td>\n",
              "    </tr>\n",
              "    <tr>\n",
              "      <th>1</th>\n",
              "      <td>21</td>\n",
              "      <td>15</td>\n",
              "      <td>81</td>\n",
              "    </tr>\n",
              "    <tr>\n",
              "      <th>2</th>\n",
              "      <td>20</td>\n",
              "      <td>16</td>\n",
              "      <td>6</td>\n",
              "    </tr>\n",
              "    <tr>\n",
              "      <th>3</th>\n",
              "      <td>23</td>\n",
              "      <td>16</td>\n",
              "      <td>77</td>\n",
              "    </tr>\n",
              "    <tr>\n",
              "      <th>4</th>\n",
              "      <td>31</td>\n",
              "      <td>17</td>\n",
              "      <td>40</td>\n",
              "    </tr>\n",
              "  </tbody>\n",
              "</table>\n",
              "</div>"
            ],
            "text/plain": [
              "   Age  Annual Income (k$)  Spending Score (1-100)\n",
              "0   19                  15                      39\n",
              "1   21                  15                      81\n",
              "2   20                  16                       6\n",
              "3   23                  16                      77\n",
              "4   31                  17                      40"
            ]
          },
          "metadata": {
            "tags": []
          },
          "execution_count": 96
        }
      ]
    },
    {
      "cell_type": "code",
      "metadata": {
        "id": "iTbHvzH16V87",
        "colab_type": "code",
        "colab": {
          "base_uri": "https://localhost:8080/",
          "height": 54
        },
        "outputId": "fc5855b3-cb4a-4f19-a5e5-f4a5c1e88186"
      },
      "source": [
        "from sklearn.cluster import KMeans\n",
        "\n",
        "# mencari nilai inertia dari setiap cluster\n",
        "wcss = []\n",
        "\n",
        "for i in range(1,20):\n",
        "  kmeans = KMeans(n_clusters=i, random_state=10)\n",
        "  kmeans.fit(dataset_b)\n",
        "  wcss.append(kmeans.inertia_)\n",
        "\n",
        "print(wcss)"
      ],
      "execution_count": 97,
      "outputs": [
        {
          "output_type": "stream",
          "text": [
            "[308812.78, 212840.16982097185, 143342.751571706, 104366.15145556198, 75350.77917248776, 58300.44332159069, 51116.986944634315, 45311.17012435781, 41270.137865897545, 37051.184000559384, 34174.55217264217, 31986.521003811, 29657.799523624522, 27709.966304773658, 26253.569992648252, 24669.22394887721, 23169.962585240846, 21964.336034798536, 20757.475908997934]\n"
          ],
          "name": "stdout"
        }
      ]
    },
    {
      "cell_type": "code",
      "metadata": {
        "id": "YuR63aMn6vNb",
        "colab_type": "code",
        "colab": {
          "base_uri": "https://localhost:8080/",
          "height": 404
        },
        "outputId": "cd0b2629-c429-414b-d6ea-813aa8949be4"
      },
      "source": [
        "# menentukan metode elbow untu mencari nilai k\n",
        "plt.figure(figsize=(10, 6))\n",
        "plt.plot(range(1,20), wcss)\n",
        "plt.title('Elbow Method')\n",
        "plt.xlabel('Cluster')\n",
        "plt.ylabel('Inertia')\n",
        "plt.show()"
      ],
      "execution_count": 98,
      "outputs": [
        {
          "output_type": "display_data",
          "data": {
            "image/png": "[encoded data removed]",
            "text/plain": [
              "<Figure size 720x432 with 1 Axes>"
            ]
          },
          "metadata": {
            "tags": [],
            "needs_background": "light"
          }
        }
      ]
    },
    {
      "cell_type": "code",
      "metadata": {
        "id": "u833k42C7QEi",
        "colab_type": "code",
        "colab": {
          "base_uri": "https://localhost:8080/",
          "height": 69
        },
        "outputId": "8e0b944d-7762-47ea-b63f-7ad1646d5e7a"
      },
      "source": [
        "# melatih model\n",
        "model = KMeans(n_clusters=6, random_state=10, algorithm='full')\n",
        "model.fit(dataset_b)"
      ],
      "execution_count": 99,
      "outputs": [
        {
          "output_type": "execute_result",
          "data": {
            "text/plain": [
              "KMeans(algorithm='full', copy_x=True, init='k-means++', max_iter=300,\n",
              "       n_clusters=6, n_init=10, n_jobs=None, precompute_distances='auto',\n",
              "       random_state=10, tol=0.0001, verbose=0)"
            ]
          },
          "metadata": {
            "tags": []
          },
          "execution_count": 99
        }
      ]
    },
    {
      "cell_type": "code",
      "metadata": {
        "id": "qmeHCoHP7W4T",
        "colab_type": "code",
        "colab": {
          "base_uri": "https://localhost:8080/",
          "height": 190
        },
        "outputId": "8c351764-f236-4630-c5c2-ec317858b904"
      },
      "source": [
        "# label-label pada model\n",
        "model.labels_"
      ],
      "execution_count": 100,
      "outputs": [
        {
          "output_type": "execute_result",
          "data": {
            "text/plain": [
              "array([3, 4, 3, 4, 3, 4, 3, 4, 3, 4, 3, 4, 3, 4, 3, 4, 3, 4, 3, 4, 3, 4,\n",
              "       3, 4, 3, 4, 3, 4, 3, 4, 3, 4, 3, 4, 3, 4, 3, 4, 3, 4, 5, 4, 5, 0,\n",
              "       3, 4, 5, 0, 0, 0, 5, 0, 0, 5, 5, 5, 5, 5, 0, 5, 5, 0, 5, 5, 5, 0,\n",
              "       5, 5, 0, 0, 5, 5, 5, 5, 5, 0, 5, 0, 0, 5, 5, 0, 5, 5, 0, 5, 5, 0,\n",
              "       0, 5, 5, 0, 5, 0, 0, 0, 5, 0, 5, 0, 0, 5, 5, 0, 5, 0, 5, 5, 5, 5,\n",
              "       5, 0, 0, 0, 0, 0, 5, 5, 5, 5, 0, 0, 0, 1, 0, 1, 2, 1, 2, 1, 2, 1,\n",
              "       0, 1, 2, 1, 2, 1, 2, 1, 2, 1, 0, 1, 2, 1, 2, 1, 2, 1, 2, 1, 2, 1,\n",
              "       2, 1, 2, 1, 2, 1, 2, 1, 2, 1, 2, 1, 2, 1, 2, 1, 2, 1, 2, 1, 2, 1,\n",
              "       2, 1, 2, 1, 2, 1, 2, 1, 2, 1, 2, 1, 2, 1, 2, 1, 2, 1, 2, 1, 2, 1,\n",
              "       2, 1], dtype=int32)"
            ]
          },
          "metadata": {
            "tags": []
          },
          "execution_count": 100
        }
      ]
    },
    {
      "cell_type": "code",
      "metadata": {
        "id": "mqtMtkg67ayk",
        "colab_type": "code",
        "colab": {
          "base_uri": "https://localhost:8080/",
          "height": 121
        },
        "outputId": "cf6adb17-d7e3-4937-8f1d-5c1a6b87265b"
      },
      "source": [
        "# mentukan titik pusat dari masing-masing cluster\n",
        "model.cluster_centers_"
      ],
      "execution_count": 101,
      "outputs": [
        {
          "output_type": "execute_result",
          "data": {
            "text/plain": [
              "array([[27.        , 56.65789474, 49.13157895],\n",
              "       [32.69230769, 86.53846154, 82.12820513],\n",
              "       [41.68571429, 88.22857143, 17.28571429],\n",
              "       [44.14285714, 25.14285714, 19.52380952],\n",
              "       [25.27272727, 25.72727273, 79.36363636],\n",
              "       [56.15555556, 53.37777778, 49.08888889]])"
            ]
          },
          "metadata": {
            "tags": []
          },
          "execution_count": 101
        }
      ]
    },
    {
      "cell_type": "code",
      "metadata": {
        "id": "Ml7MP7YQ7bct",
        "colab_type": "code",
        "colab": {}
      },
      "source": [
        "# prediksi\n",
        "y_kmeans = kmeans.predict(dataset_b)"
      ],
      "execution_count": 102,
      "outputs": []
    },
    {
      "cell_type": "markdown",
      "metadata": {
        "id": "1QyggMArRkRi",
        "colab_type": "text"
      },
      "source": [
        "# Jawaban No. 2"
      ]
    },
    {
      "cell_type": "markdown",
      "metadata": {
        "id": "SmRSpXn5Rp2h",
        "colab_type": "text"
      },
      "source": [
        "- Berdasarkan grafik Elbow Method diatas (No. 2) bahwa nilai **k** yang optimal adalah **6** karena pada titik tersebutlah pertemuan antara grafik curam dan landai.\n",
        "- Berikut scatter plot kombinasi antra dua fitur pada soal no.2:"
      ]
    },
    {
      "cell_type": "code",
      "metadata": {
        "id": "J-ZohTpN7k-b",
        "colab_type": "code",
        "colab": {
          "base_uri": "https://localhost:8080/",
          "height": 388
        },
        "outputId": "0b296009-324f-4ba6-966b-75672f16610a"
      },
      "source": [
        "# Scatter plot Age and Annual Income\n",
        "plt.figure(figsize=(10, 6))\n",
        "plt.scatter(dataset_b.values[y_kmeans == 0, 0], dataset_b.values[y_kmeans == 0, 1], s=100, c='red', label ='Cluster 1')\n",
        "plt.scatter(dataset_b.values[y_kmeans == 1, 0], dataset_b.values[y_kmeans == 1, 1], s=100, c='blue', label ='Cluster 2')\n",
        "plt.scatter(dataset_b.values[y_kmeans == 2, 0], dataset_b.values[y_kmeans == 2, 1], s=100, c='green', label ='Cluster 3')\n",
        "plt.scatter(dataset_b.values[y_kmeans == 3, 0], dataset_b.values[y_kmeans == 3, 1], s=100, c='cyan', label ='Cluster 4')\n",
        "plt.scatter(dataset_b.values[y_kmeans == 4, 0], dataset_b.values[y_kmeans == 4, 1], s=100, c='magenta', label ='Cluster 5')\n",
        "plt.scatter(dataset_b.values[y_kmeans == 5, 0], dataset_b.values[y_kmeans == 5, 1], s=100, c='yellow', label ='Cluster 6')\n",
        "plt.xlabel('Age')\n",
        "plt.ylabel('AnnualIncome k$')\n",
        "plt.scatter(model.cluster_centers_[:, 0], model.cluster_centers_[:, 1], s=50, c='black', label = 'Centroids')\n",
        "plt.show()"
      ],
      "execution_count": 103,
      "outputs": [
        {
          "output_type": "display_data",
          "data": {
            "image/png": "[encoded data removed]",
            "text/plain": [
              "<Figure size 720x432 with 1 Axes>"
            ]
          },
          "metadata": {
            "tags": [],
            "needs_background": "light"
          }
        }
      ]
    },
    {
      "cell_type": "code",
      "metadata": {
        "id": "OH2s7_Z69Eb8",
        "colab_type": "code",
        "colab": {
          "base_uri": "https://localhost:8080/",
          "height": 388
        },
        "outputId": "0f75e56c-28eb-4e15-87e7-817fc8b0571f"
      },
      "source": [
        "# Scatter plot Annual Income dan Spanding Score\n",
        "plt.figure(figsize=(10, 6))\n",
        "plt.scatter(dataset_b.values[y_kmeans == 0, 1], dataset_b.values[y_kmeans == 0, 2], s=100, c='red', label ='Cluster 1')\n",
        "plt.scatter(dataset_b.values[y_kmeans == 1, 1], dataset_b.values[y_kmeans == 1, 2], s=100, c='blue', label ='Cluster 2')\n",
        "plt.scatter(dataset_b.values[y_kmeans == 2, 1], dataset_b.values[y_kmeans == 2, 2], s=100, c='green', label ='Cluster 3')\n",
        "plt.scatter(dataset_b.values[y_kmeans == 3, 1], dataset_b.values[y_kmeans == 3, 2], s=100, c='cyan', label ='Cluster 4')\n",
        "plt.scatter(dataset_b.values[y_kmeans == 4, 1], dataset_b.values[y_kmeans == 4, 2], s=100, c='magenta', label ='Cluster 5')\n",
        "plt.scatter(dataset_b.values[y_kmeans == 5, 1], dataset_b.values[y_kmeans == 5, 2], s=100, c='yellow', label ='Cluster 6')\n",
        "plt.xlabel('Annual Income k$')\n",
        "plt.ylabel('Spanding Score')\n",
        "plt.scatter(model.cluster_centers_[:, 1], model.cluster_centers_[:, 2], s=50, c='black', label = 'Centroids')\n",
        "plt.show()"
      ],
      "execution_count": 104,
      "outputs": [
        {
          "output_type": "display_data",
          "data": {
            "image/png": "[encoded data removed]",
            "text/plain": [
              "<Figure size 720x432 with 1 Axes>"
            ]
          },
          "metadata": {
            "tags": [],
            "needs_background": "light"
          }
        }
      ]
    },
    {
      "cell_type": "code",
      "metadata": {
        "id": "_tnKbyBE9FI6",
        "colab_type": "code",
        "colab": {
          "base_uri": "https://localhost:8080/",
          "height": 388
        },
        "outputId": "17b2c814-88c7-42c6-d6b0-98a5dd74feb9"
      },
      "source": [
        "# Scatter plot Age and Spanding Score\n",
        "plt.figure(figsize=(10, 6))\n",
        "plt.scatter(dataset_b.values[y_kmeans == 0, 0], dataset_b.values[y_kmeans == 0, 2], s=100, c='red', label ='Cluster 1')\n",
        "plt.scatter(dataset_b.values[y_kmeans == 1, 0], dataset_b.values[y_kmeans == 1, 2], s=100, c='blue', label ='Cluster 2')\n",
        "plt.scatter(dataset_b.values[y_kmeans == 2, 0], dataset_b.values[y_kmeans == 2, 2], s=100, c='green', label ='Cluster 3')\n",
        "plt.scatter(dataset_b.values[y_kmeans == 3, 0], dataset_b.values[y_kmeans == 3, 2], s=100, c='cyan', label ='Cluster 4')\n",
        "plt.scatter(dataset_b.values[y_kmeans == 4, 0], dataset_b.values[y_kmeans == 4, 2], s=100, c='magenta', label ='Cluster 5')\n",
        "plt.scatter(dataset_b.values[y_kmeans == 5, 0], dataset_b.values[y_kmeans == 5, 2], s=100, c='yellow', label ='Cluster 6')\n",
        "plt.xlabel('Age')\n",
        "plt.ylabel('AnnualIncome k$')\n",
        "plt.scatter(model.cluster_centers_[:, 0], model.cluster_centers_[:, 2], s=50, c='black', label = 'Centroids')\n",
        "plt.show()"
      ],
      "execution_count": 105,
      "outputs": [
        {
          "output_type": "display_data",
          "data": {
            "image/png": "[encoded data removed]",
            "text/plain": [
              "<Figure size 720x432 with 1 Axes>"
            ]
          },
          "metadata": {
            "tags": [],
            "needs_background": "light"
          }
        }
      ]
    }
  ]
}