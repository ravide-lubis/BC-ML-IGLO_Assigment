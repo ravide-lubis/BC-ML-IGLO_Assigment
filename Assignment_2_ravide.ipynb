{
  "nbformat": 4,
  "nbformat_minor": 0,
  "metadata": {
    "colab": {
      "name": "Assigment_2_ravide.ipynb",
      "provenance": [],
      "collapsed_sections": []
    },
    "kernelspec": {
      "name": "python3",
      "display_name": "Python 3"
    }
  },
  "cells": [
    {
      "cell_type": "markdown",
      "metadata": {
        "id": "TIbzBUxKCWWD"
      },
      "source": [
        "# Assignments 2\n",
        "\n",
        "\n",
        "1. Buatlah suatu list kosong bernama `numbers`. Lalu, buatlah loop yang secara otomatis menambahkan nomor 1-10 ke list tersebut. \n",
        "  * Hint: Gunakan function `range()` untuk melakukan loop selama `n` kali\n",
        "\n",
        "2. Tambahkan setiap nilai numbers sebanyak 2.\n",
        "\n",
        "3. Cek untuk setiap angka ganjil, apabila ganjil tambahkan angka 1.\n",
        "\n",
        "4. Hapus semua angka yang lebih kecil dari 5 di list.\n",
        "  * Hint: Gunakan function `remove()`\n",
        "\n",
        "5. Print semua nilai isi di list dengan format:\n",
        "  * Angka ke-(index) bernilai (angka)\n",
        "  * Misal: Angka ke-0 bernilai 10\n",
        "\n",
        "6. Print semua angka yang habis dibagi 2, dengan format:\n",
        "  * Angka ke-(index) bernilai (angka)\n",
        "  * Misal: Angka ke-0 bernilai 10"
      ]
    },
    {
      "cell_type": "code",
      "metadata": {
        "id": "-q-PnBoCsqOf",
        "outputId": "a5b7f354-9c94-4219-aabc-a76c35f5f10b",
        "colab": {
          "base_uri": "https://localhost:8080/",
          "height": 33
        }
      },
      "source": [
        "# Jawaban No. 1\n",
        "numbers =[]\n",
        "\n",
        "for i in range(1,11):\n",
        "  numbers.append(i)\n",
        "\n",
        "print(numbers)"
      ],
      "execution_count": null,
      "outputs": [
        {
          "output_type": "stream",
          "text": [
            "[1, 2, 3, 4, 5, 6, 7, 8, 9, 10]\n"
          ],
          "name": "stdout"
        }
      ]
    },
    {
      "cell_type": "code",
      "metadata": {
        "id": "O8ybxEZMEvLp",
        "outputId": "927b3ded-a540-4fd6-83dc-478588ef50bb",
        "colab": {
          "base_uri": "https://localhost:8080/",
          "height": 33
        }
      },
      "source": [
        "# Jawaban No. 2\n",
        "numbers_plus_2 = [i + 2 for i in numbers]\n",
        "\n",
        "print(numbers_plus_2)"
      ],
      "execution_count": null,
      "outputs": [
        {
          "output_type": "stream",
          "text": [
            "[3, 4, 5, 6, 7, 8, 9, 10, 11, 12]\n"
          ],
          "name": "stdout"
        }
      ]
    },
    {
      "cell_type": "code",
      "metadata": {
        "id": "YO9QKoQRFQW9",
        "outputId": "5911fb9d-23a1-4c5d-e2b5-9f271d12fc02",
        "colab": {
          "base_uri": "https://localhost:8080/",
          "height": 50
        }
      },
      "source": [
        "# Jawaban No. 3\n",
        "numbers_ganjil = [i for i in numbers if i % 2 == 1]\n",
        "numbers_ganjil_plus_1 = [i + 1 for i in numbers if i % 2 == 1]\n",
        "\n",
        "print(numbers_ganjil)\n",
        "print(numbers_ganjil_plus_1)"
      ],
      "execution_count": null,
      "outputs": [
        {
          "output_type": "stream",
          "text": [
            "[1, 3, 5, 7, 9]\n",
            "[2, 4, 6, 8, 10]\n"
          ],
          "name": "stdout"
        }
      ]
    },
    {
      "cell_type": "code",
      "metadata": {
        "id": "ptnPo4eGF-fl",
        "outputId": "0b2ba761-5754-4b81-c5cf-0a44b48bfaaa",
        "colab": {
          "base_uri": "https://localhost:8080/",
          "height": 50
        }
      },
      "source": [
        "# jawaban No. 4\n",
        "# opsi pertama: pake array baru\n",
        "numbers_baru = []\n",
        "\n",
        "for i in numbers:\n",
        "  numbers_baru.append(i)\n",
        "  if i < 5:\n",
        "    numbers_baru.remove(i)\n",
        "\n",
        "print(numbers_baru)\n",
        "\n",
        "# opsi kedua: pakai slicing\n",
        "print(numbers[4:])"
      ],
      "execution_count": null,
      "outputs": [
        {
          "output_type": "stream",
          "text": [
            "[5, 6, 7, 8, 9, 10]\n",
            "[5, 6, 7, 8, 9, 10]\n"
          ],
          "name": "stdout"
        }
      ]
    },
    {
      "cell_type": "code",
      "metadata": {
        "id": "d2TMaW1mHHSK",
        "outputId": "7420ee9e-07a2-4e0a-faaf-2d48be139f56",
        "colab": {
          "base_uri": "https://localhost:8080/",
          "height": 180
        }
      },
      "source": [
        "# Jawaban No. 5\n",
        "for index, element in enumerate(numbers):\n",
        "  print(f'Angka ke-{index} bernilai {element}')"
      ],
      "execution_count": null,
      "outputs": [
        {
          "output_type": "stream",
          "text": [
            "Angka ke-0 bernilai 1\n",
            "Angka ke-1 bernilai 2\n",
            "Angka ke-2 bernilai 3\n",
            "Angka ke-3 bernilai 4\n",
            "Angka ke-4 bernilai 5\n",
            "Angka ke-5 bernilai 6\n",
            "Angka ke-6 bernilai 7\n",
            "Angka ke-7 bernilai 8\n",
            "Angka ke-8 bernilai 9\n",
            "Angka ke-9 bernilai 10\n"
          ],
          "name": "stdout"
        }
      ]
    },
    {
      "cell_type": "code",
      "metadata": {
        "id": "WWOE3kTrKrrW",
        "outputId": "91090355-7f6b-4340-e71e-dfcd39821c3e",
        "colab": {
          "base_uri": "https://localhost:8080/",
          "height": 98
        }
      },
      "source": [
        "# Jawaban No. 6\n",
        "for index, element in enumerate(numbers):\n",
        "  if element % 2 == 0:\n",
        "    print(f'Angka ke-{index} bernilai {element}')"
      ],
      "execution_count": null,
      "outputs": [
        {
          "output_type": "stream",
          "text": [
            "Angka ke-1 bernilai 2\n",
            "Angka ke-3 bernilai 4\n",
            "Angka ke-5 bernilai 6\n",
            "Angka ke-7 bernilai 8\n",
            "Angka ke-9 bernilai 10\n"
          ],
          "name": "stdout"
        }
      ]
    }
  ]
}