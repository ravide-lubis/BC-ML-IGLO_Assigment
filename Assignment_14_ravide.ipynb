{
  "nbformat": 4,
  "nbformat_minor": 0,
  "metadata": {
    "colab": {
      "name": "Assigment_14_ravide_sgd.ipynb",
      "provenance": [],
      "collapsed_sections": []
    },
    "kernelspec": {
      "name": "python3",
      "display_name": "Python 3"
    },
    "accelerator": "GPU"
  },
  "cells": [
    {
      "cell_type": "markdown",
      "metadata": {
        "id": "uvY1s8lOHUI4"
      },
      "source": [
        "# Assignment 14\n",
        "\n",
        "1. Lakukan image classification terhadap dataset fashion MNIST (https://keras.io/api/datasets/fashion_mnist/) dengan 2 arsitektur diatas! Tunjukan grafik epoch terhadap loss. Tentukan arsitektur dengan hasil terbaik dan jelaskan!\n",
        "\n",
        "2. Buatlah sebuah arsitektur dengan convolution layer lebih dalam:\n",
        "\n",
        "  - Convolution layer dengan 32 filters, kernel size 3x3, activation function ReLu, & nilai awal berdasarkan he_uniform\n",
        "  - Max Pooling Layer 2x2\n",
        "  - Convolution layer dengan 64 filters, kernel size 3x3, activation function ReLu, & nilai awal berdasarkan he_uniform\n",
        "  - Max Pooling Layer 2x2\n",
        "\n",
        "  Lakukan training kepada dataset MNIST & Fashion MNIST! Perhatikan hasil accuracy yang didapat & jelaskan!"
      ]
    },
    {
      "cell_type": "code",
      "metadata": {
        "id": "8b0nyEesKmlM"
      },
      "source": [
        "# library yang dibutuhkan\n",
        "import pandas as pd\n",
        "import matplotlib.pyplot as plt\n",
        "\n",
        "import tensorflow as tf\n",
        "from tensorflow.keras.models import Sequential\n",
        "from tensorflow.keras.layers import Conv2D\n",
        "from tensorflow.keras.layers import MaxPooling2D\n",
        "from tensorflow.keras.layers import Dense, Flatten\n",
        "from tensorflow.keras.layers import Dropout\n",
        "from tensorflow.keras.optimizers import SGD, Adam, Adamax"
      ],
      "execution_count": null,
      "outputs": []
    },
    {
      "cell_type": "markdown",
      "metadata": {
        "id": "wyHIi3LgHgQL"
      },
      "source": [
        "# Jawaban no. 1"
      ]
    },
    {
      "cell_type": "code",
      "metadata": {
        "id": "edQEW96IFYEx"
      },
      "source": [
        "from tensorflow.keras.datasets import fashion_mnist"
      ],
      "execution_count": null,
      "outputs": []
    },
    {
      "cell_type": "code",
      "metadata": {
        "id": "sjx9UQ-IGd63",
        "outputId": "c47e7e91-0ed4-494b-e2e6-8246950ab1db",
        "colab": {
          "base_uri": "https://localhost:8080/",
          "height": 317
        }
      },
      "source": [
        "(feature_train_fm, label_train_fm), (feature_test_fm, label_test_fm) = fashion_mnist.load_data()\n",
        "\n",
        "print('Train', feature_train_fm.shape, label_train_fm.shape)\n",
        "print('Label', feature_test_fm.shape, label_test_fm.shape)\n",
        "\n",
        "plt.imshow(feature_train_fm[100], cmap=plt.get_cmap('gray'))"
      ],
      "execution_count": null,
      "outputs": [
        {
          "output_type": "stream",
          "text": [
            "Train (60000, 28, 28) (60000,)\n",
            "Label (10000, 28, 28) (10000,)\n"
          ],
          "name": "stdout"
        },
        {
          "output_type": "execute_result",
          "data": {
            "text/plain": [
              "<matplotlib.image.AxesImage at 0x7fbdb81172b0>"
            ]
          },
          "metadata": {
            "tags": []
          },
          "execution_count": 190
        },
        {
          "output_type": "display_data",
          "data": {
            "image/png": "[encoded data removed]",
            "text/plain": [
              "<Figure size 432x288 with 1 Axes>"
            ]
          },
          "metadata": {
            "tags": [],
            "needs_background": "light"
          }
        }
      ]
    },
    {
      "cell_type": "markdown",
      "metadata": {
        "id": "ed7Utp3zHtVc"
      },
      "source": [
        "## Feature Engineering fashion_mnist"
      ]
    },
    {
      "cell_type": "code",
      "metadata": {
        "id": "nK7SPQP7HsFM"
      },
      "source": [
        "# mengubah bentuk dimensi dari feature menjadi 1 kolom\n",
        "feature_train_fm = feature_train_fm.reshape((feature_train_fm.shape[0], 28, 28, 1))\n",
        "feature_test_fm = feature_test_fm.reshape((feature_test_fm.shape[0], 28, 28, 1))"
      ],
      "execution_count": null,
      "outputs": []
    },
    {
      "cell_type": "code",
      "metadata": {
        "id": "TKcKwiR-I-4u",
        "outputId": "4d306085-d691-4c13-a0d8-c571893f606d",
        "colab": {
          "base_uri": "https://localhost:8080/",
          "height": 34
        }
      },
      "source": [
        "print(feature_train_fm.shape)"
      ],
      "execution_count": null,
      "outputs": [
        {
          "output_type": "stream",
          "text": [
            "(60000, 28, 28, 1)\n"
          ],
          "name": "stdout"
        }
      ]
    },
    {
      "cell_type": "code",
      "metadata": {
        "id": "F2bocNhuJQLU",
        "outputId": "5c254616-6721-46e1-f9b4-6a5bb3544d65",
        "colab": {
          "base_uri": "https://localhost:8080/",
          "height": 138
        }
      },
      "source": [
        "# mengubah data label menjadi kategori\n",
        "from tensorflow.keras.utils import to_categorical\n",
        "\n",
        "label_train_fm = to_categorical(label_train_fm)\n",
        "label_test_fm = to_categorical(label_test_fm)\n",
        "\n",
        "print(label_train_fm)"
      ],
      "execution_count": null,
      "outputs": [
        {
          "output_type": "stream",
          "text": [
            "[[0. 0. 0. ... 0. 0. 1.]\n",
            " [1. 0. 0. ... 0. 0. 0.]\n",
            " [1. 0. 0. ... 0. 0. 0.]\n",
            " ...\n",
            " [0. 0. 0. ... 0. 0. 0.]\n",
            " [1. 0. 0. ... 0. 0. 0.]\n",
            " [0. 0. 0. ... 0. 0. 0.]]\n"
          ],
          "name": "stdout"
        }
      ]
    },
    {
      "cell_type": "code",
      "metadata": {
        "id": "rLz1ic_KJxr_"
      },
      "source": [
        "feature_train_fm = feature_train_fm.astype('float32')\n",
        "feature_test_fm = feature_test_fm.astype('float32')\n",
        "\n",
        "feature_train_fm = feature_train_fm / 255.0\n",
        "feature_test_fm = feature_test_fm / 255.0"
      ],
      "execution_count": null,
      "outputs": []
    },
    {
      "cell_type": "markdown",
      "metadata": {
        "id": "9l75SGReQ0Xr"
      },
      "source": [
        "## Neural Network\n"
      ]
    },
    {
      "cell_type": "code",
      "metadata": {
        "id": "CDed_dsjQ4TR",
        "outputId": "af1a6c5a-7a13-482b-fb82-73b26ba10ea7",
        "colab": {
          "base_uri": "https://localhost:8080/",
          "height": 626
        }
      },
      "source": [
        "nn_model = Sequential()\n",
        "\n",
        "nn_model.add(Flatten(input_shape=(28, 28, 1)))\n",
        "nn_model.add(Dense(128, activation='relu', kernel_initializer='he_uniform'))\n",
        "nn_model.add(Dense(10, activation='softmax'))\n",
        "\n",
        "opt = SGD()\n",
        "\n",
        "nn_model.compile(optimizer=opt, loss='categorical_crossentropy', metrics=['accuracy'])\n",
        "\n",
        "nn_model.summary()\n",
        "\n",
        "history_nn1 = nn_model.fit(feature_train_fm, label_train_fm, batch_size=32, \n",
        "                       validation_data=(feature_test_fm, label_test_fm), epochs=10)"
      ],
      "execution_count": null,
      "outputs": [
        {
          "output_type": "stream",
          "text": [
            "Model: \"sequential_26\"\n",
            "_________________________________________________________________\n",
            "Layer (type)                 Output Shape              Param #   \n",
            "=================================================================\n",
            "flatten_26 (Flatten)         (None, 784)               0         \n",
            "_________________________________________________________________\n",
            "dense_52 (Dense)             (None, 128)               100480    \n",
            "_________________________________________________________________\n",
            "dense_53 (Dense)             (None, 10)                1290      \n",
            "=================================================================\n",
            "Total params: 101,770\n",
            "Trainable params: 101,770\n",
            "Non-trainable params: 0\n",
            "_________________________________________________________________\n",
            "Epoch 1/10\n",
            "1875/1875 [==============================] - 4s 2ms/step - loss: 0.7374 - accuracy: 0.7621 - val_loss: 0.5673 - val_accuracy: 0.8060\n",
            "Epoch 2/10\n",
            "1875/1875 [==============================] - 4s 2ms/step - loss: 0.5105 - accuracy: 0.8264 - val_loss: 0.5099 - val_accuracy: 0.8222\n",
            "Epoch 3/10\n",
            "1875/1875 [==============================] - 4s 2ms/step - loss: 0.4652 - accuracy: 0.8389 - val_loss: 0.4873 - val_accuracy: 0.8257\n",
            "Epoch 4/10\n",
            "1875/1875 [==============================] - 4s 2ms/step - loss: 0.4409 - accuracy: 0.8472 - val_loss: 0.4652 - val_accuracy: 0.8346\n",
            "Epoch 5/10\n",
            "1875/1875 [==============================] - 4s 2ms/step - loss: 0.4236 - accuracy: 0.8528 - val_loss: 0.4468 - val_accuracy: 0.8426\n",
            "Epoch 6/10\n",
            "1875/1875 [==============================] - 4s 2ms/step - loss: 0.4100 - accuracy: 0.8583 - val_loss: 0.4353 - val_accuracy: 0.8467\n",
            "Epoch 7/10\n",
            "1875/1875 [==============================] - 4s 2ms/step - loss: 0.3977 - accuracy: 0.8602 - val_loss: 0.4297 - val_accuracy: 0.8490\n",
            "Epoch 8/10\n",
            "1875/1875 [==============================] - 4s 2ms/step - loss: 0.3874 - accuracy: 0.8654 - val_loss: 0.4169 - val_accuracy: 0.8554\n",
            "Epoch 9/10\n",
            "1875/1875 [==============================] - 4s 2ms/step - loss: 0.3793 - accuracy: 0.8664 - val_loss: 0.4156 - val_accuracy: 0.8537\n",
            "Epoch 10/10\n",
            "1875/1875 [==============================] - 4s 2ms/step - loss: 0.3710 - accuracy: 0.8697 - val_loss: 0.4116 - val_accuracy: 0.8542\n"
          ],
          "name": "stdout"
        }
      ]
    },
    {
      "cell_type": "code",
      "metadata": {
        "id": "uckOEsZ-XTgG",
        "outputId": "d643c1f6-d30c-4983-d156-442995dfeb39",
        "colab": {
          "base_uri": "https://localhost:8080/",
          "height": 69
        }
      },
      "source": [
        "loss, accuracy = nn_model.evaluate(feature_test_fm, label_test_fm, verbose=2)\n",
        "\n",
        "print('Test accuracy:', accuracy)\n",
        "print('Test Loss:', loss)"
      ],
      "execution_count": null,
      "outputs": [
        {
          "output_type": "stream",
          "text": [
            "313/313 - 1s - loss: 0.4116 - accuracy: 0.8542\n",
            "Test accuracy: 0.854200005531311\n",
            "Test Loss: 0.4116148054599762\n"
          ],
          "name": "stdout"
        }
      ]
    },
    {
      "cell_type": "code",
      "metadata": {
        "id": "HAA7_AOtWfp_",
        "outputId": "01b2521f-a740-447a-c543-fa2bc109a0b8",
        "colab": {
          "base_uri": "https://localhost:8080/",
          "height": 294
        }
      },
      "source": [
        "plt.plot(history_nn1.history['loss'])\n",
        "plt.plot(history_nn1.history['val_loss'])\n",
        "plt.title('Model Training and Validation Loss')\n",
        "# plt.ylim([0, 10])\n",
        "plt.ylabel('Loss')\n",
        "plt.xlabel('Epoch')\n",
        "plt.legend(['Training', 'Validation'], loc='upper right')\n",
        "plt.grid('True')\n",
        "plt.show()"
      ],
      "execution_count": null,
      "outputs": [
        {
          "output_type": "display_data",
          "data": {
            "image/png": "[encoded data removed]",
            "text/plain": [
              "<Figure size 432x288 with 1 Axes>"
            ]
          },
          "metadata": {
            "tags": [],
            "needs_background": "light"
          }
        }
      ]
    },
    {
      "cell_type": "markdown",
      "metadata": {
        "id": "2sKenoTNX33C"
      },
      "source": [
        "## CNN"
      ]
    },
    {
      "cell_type": "code",
      "metadata": {
        "id": "gSd5MaZJX58N",
        "outputId": "d3c51cfb-544b-4f39-de57-ef9897c70f3c",
        "colab": {
          "base_uri": "https://localhost:8080/",
          "height": 696
        }
      },
      "source": [
        "cnn_model = Sequential()\n",
        "\n",
        "cnn_model.add(Conv2D(32, (3, 3), activation='relu', kernel_initializer='he_uniform', \n",
        "                     input_shape=(28, 28, 1)))\n",
        "cnn_model.add(MaxPooling2D((2, 2)))\n",
        "\n",
        "cnn_model.add(Flatten())\n",
        "cnn_model.add(Dense(100, activation='relu', kernel_initializer='he_uniform'))\n",
        "cnn_model.add(Dense(10, activation='softmax'))\n",
        "\n",
        "opt = SGD()\n",
        "\n",
        "cnn_model.compile(optimizer=opt, loss='categorical_crossentropy', metrics=['accuracy'])\n",
        "\n",
        "cnn_model.summary()\n",
        "\n",
        "history_cnn1 = cnn_model.fit(feature_train_fm, label_train_fm, batch_size=32, \n",
        "                        validation_data=(feature_test_fm, label_test_fm), \n",
        "                        epochs=10)"
      ],
      "execution_count": null,
      "outputs": [
        {
          "output_type": "stream",
          "text": [
            "Model: \"sequential_27\"\n",
            "_________________________________________________________________\n",
            "Layer (type)                 Output Shape              Param #   \n",
            "=================================================================\n",
            "conv2d_25 (Conv2D)           (None, 26, 26, 32)        320       \n",
            "_________________________________________________________________\n",
            "max_pooling2d_25 (MaxPooling (None, 13, 13, 32)        0         \n",
            "_________________________________________________________________\n",
            "flatten_27 (Flatten)         (None, 5408)              0         \n",
            "_________________________________________________________________\n",
            "dense_54 (Dense)             (None, 100)               540900    \n",
            "_________________________________________________________________\n",
            "dense_55 (Dense)             (None, 10)                1010      \n",
            "=================================================================\n",
            "Total params: 542,230\n",
            "Trainable params: 542,230\n",
            "Non-trainable params: 0\n",
            "_________________________________________________________________\n",
            "Epoch 1/10\n",
            "1875/1875 [==============================] - 5s 3ms/step - loss: 0.5384 - accuracy: 0.8109 - val_loss: 0.4312 - val_accuracy: 0.8450\n",
            "Epoch 2/10\n",
            "1875/1875 [==============================] - 5s 3ms/step - loss: 0.3840 - accuracy: 0.8649 - val_loss: 0.3759 - val_accuracy: 0.8633\n",
            "Epoch 3/10\n",
            "1875/1875 [==============================] - 5s 3ms/step - loss: 0.3407 - accuracy: 0.8795 - val_loss: 0.3456 - val_accuracy: 0.8764\n",
            "Epoch 4/10\n",
            "1875/1875 [==============================] - 5s 3ms/step - loss: 0.3136 - accuracy: 0.8883 - val_loss: 0.3382 - val_accuracy: 0.8772\n",
            "Epoch 5/10\n",
            "1875/1875 [==============================] - 5s 3ms/step - loss: 0.2925 - accuracy: 0.8968 - val_loss: 0.3121 - val_accuracy: 0.8867\n",
            "Epoch 6/10\n",
            "1875/1875 [==============================] - 5s 3ms/step - loss: 0.2772 - accuracy: 0.9012 - val_loss: 0.3169 - val_accuracy: 0.8853\n",
            "Epoch 7/10\n",
            "1875/1875 [==============================] - 5s 3ms/step - loss: 0.2632 - accuracy: 0.9054 - val_loss: 0.3065 - val_accuracy: 0.8880\n",
            "Epoch 8/10\n",
            "1875/1875 [==============================] - 5s 3ms/step - loss: 0.2505 - accuracy: 0.9107 - val_loss: 0.2901 - val_accuracy: 0.8944\n",
            "Epoch 9/10\n",
            "1875/1875 [==============================] - 5s 3ms/step - loss: 0.2396 - accuracy: 0.9146 - val_loss: 0.2786 - val_accuracy: 0.8985\n",
            "Epoch 10/10\n",
            "1875/1875 [==============================] - 5s 3ms/step - loss: 0.2301 - accuracy: 0.9180 - val_loss: 0.2847 - val_accuracy: 0.8938\n"
          ],
          "name": "stdout"
        }
      ]
    },
    {
      "cell_type": "code",
      "metadata": {
        "id": "2KUwXFuAaCNA",
        "outputId": "b0a80f02-05c4-472d-8f3f-a806e5c9ff41",
        "colab": {
          "base_uri": "https://localhost:8080/",
          "height": 69
        }
      },
      "source": [
        "loss, accuracy = cnn_model.evaluate(feature_test_fm, label_test_fm, verbose=2)\n",
        "\n",
        "print('Test accuracy:', accuracy)\n",
        "print('Test Loss:', loss)"
      ],
      "execution_count": null,
      "outputs": [
        {
          "output_type": "stream",
          "text": [
            "313/313 - 1s - loss: 0.2847 - accuracy: 0.8938\n",
            "Test accuracy: 0.8938000202178955\n",
            "Test Loss: 0.28473830223083496\n"
          ],
          "name": "stdout"
        }
      ]
    },
    {
      "cell_type": "code",
      "metadata": {
        "id": "KFDTHoPmaGxs",
        "outputId": "aefcae15-5393-4a0f-a412-0b864ecbdc93",
        "colab": {
          "base_uri": "https://localhost:8080/",
          "height": 294
        }
      },
      "source": [
        "plt.plot(history_cnn1.history['loss'])\n",
        "plt.plot(history_cnn1.history['val_loss'])\n",
        "plt.title('Model Training and Validation Loss')\n",
        "# plt.ylim([0, 10])\n",
        "plt.ylabel('Loss')\n",
        "plt.xlabel('Epoch')\n",
        "plt.legend(['Training', 'Validation'], loc='upper right')\n",
        "plt.grid('True')\n",
        "plt.show()"
      ],
      "execution_count": null,
      "outputs": [
        {
          "output_type": "display_data",
          "data": {
            "image/png": "[encoded data removed]",
            "text/plain": [
              "<Figure size 432x288 with 1 Axes>"
            ]
          },
          "metadata": {
            "tags": [],
            "needs_background": "light"
          }
        }
      ]
    },
    {
      "cell_type": "markdown",
      "metadata": {
        "id": "VH20RsosbYaF"
      },
      "source": [
        "## Kesimpulan:\n",
        "- Dengan Parameter yang digunakan sama yaitu epoch=10, optimizer=SGD(),Arsitektur terbaik pada kasus ini yaitu Convolutional Neural Network(CNN) dengan accuracy pada data test = 0.89 dan loss = 0.28 sedangkan pada arsitektur Neural Network (NN) accuracy data test = 0.85 dan loss = 0.41\n",
        "- Hasil arsitektur CNN lebih baik karena analisisnya lebih dalam dengan beberapa layer dan perseptron yang lebih banyak dibandingkan NN dan parameter yang digunakan juga lebih cocok ke CNN namun jika parameter yang digunakan berbeda kemungkinan hasil accuracynya pun akan berubah (exp: epoch dan optimizer diganti dengan nilai parameter yang lain)."
      ]
    },
    {
      "cell_type": "markdown",
      "metadata": {
        "id": "pUqwcztqcY93"
      },
      "source": [
        "# Jawaban No. 2:"
      ]
    },
    {
      "cell_type": "markdown",
      "metadata": {
        "id": "ka254V3onIf4"
      },
      "source": [
        "## MNIST"
      ]
    },
    {
      "cell_type": "code",
      "metadata": {
        "id": "n2HcK-rKcbe8"
      },
      "source": [
        "from tensorflow.keras.datasets import mnist"
      ],
      "execution_count": null,
      "outputs": []
    },
    {
      "cell_type": "code",
      "metadata": {
        "id": "gMMD-XGRcnI7",
        "outputId": "540758fa-881f-43d3-bb88-9915da2c1fe0",
        "colab": {
          "base_uri": "https://localhost:8080/",
          "height": 317
        }
      },
      "source": [
        "(feature_train_mn, label_train_mn), (feature_test_mn, label_test_mn) = mnist.load_data()\n",
        "\n",
        "print('Train:', feature_train_mn.shape, label_train_mn.shape)\n",
        "print('Test:', feature_test_mn.shape, label_test_mn.shape)\n",
        "\n",
        "plt.imshow(feature_train_mn[100], cmap=plt.get_cmap('gray'))"
      ],
      "execution_count": null,
      "outputs": [
        {
          "output_type": "stream",
          "text": [
            "Train: (60000, 28, 28) (60000,)\n",
            "Test: (10000, 28, 28) (10000,)\n"
          ],
          "name": "stdout"
        },
        {
          "output_type": "execute_result",
          "data": {
            "text/plain": [
              "<matplotlib.image.AxesImage at 0x7fbda25b16d8>"
            ]
          },
          "metadata": {
            "tags": []
          },
          "execution_count": 202
        },
        {
          "output_type": "display_data",
          "data": {
            "image/png": "[encoded data removed]",
            "text/plain": [
              "<Figure size 432x288 with 1 Axes>"
            ]
          },
          "metadata": {
            "tags": [],
            "needs_background": "light"
          }
        }
      ]
    },
    {
      "cell_type": "markdown",
      "metadata": {
        "id": "agyKlHzHdDJL"
      },
      "source": [
        "## Feature Engineering mnist"
      ]
    },
    {
      "cell_type": "code",
      "metadata": {
        "id": "MF5lGk7-dFpz"
      },
      "source": [
        "# mengubah bentuk dimensi dari feature menjadi 1 kolom\n",
        "feature_train_mn = feature_train_mn.reshape((feature_train_mn.shape[0], 28, 28, 1))\n",
        "feature_test_mn = feature_test_mn.reshape((feature_test_mn.shape[0], 28, 28, 1))"
      ],
      "execution_count": null,
      "outputs": []
    },
    {
      "cell_type": "code",
      "metadata": {
        "id": "pgtFfMtqdf2k",
        "outputId": "f6ead9bb-789d-4820-cfec-3890bea378af",
        "colab": {
          "base_uri": "https://localhost:8080/",
          "height": 34
        }
      },
      "source": [
        "print(feature_train_mn.shape)"
      ],
      "execution_count": null,
      "outputs": [
        {
          "output_type": "stream",
          "text": [
            "(60000, 28, 28, 1)\n"
          ],
          "name": "stdout"
        }
      ]
    },
    {
      "cell_type": "code",
      "metadata": {
        "id": "pO4-MT-Gdr20",
        "outputId": "254c1edd-a033-4f6d-c747-8fb01fd6e5f2",
        "colab": {
          "base_uri": "https://localhost:8080/",
          "height": 138
        }
      },
      "source": [
        "# mengubah data label menjadi kategori\n",
        "from tensorflow.keras.utils import to_categorical\n",
        "\n",
        "label_train_mn = to_categorical(label_train_mn)\n",
        "label_test_mn = to_categorical(label_test_mn)\n",
        "\n",
        "print(label_train_mn)"
      ],
      "execution_count": null,
      "outputs": [
        {
          "output_type": "stream",
          "text": [
            "[[0. 0. 0. ... 0. 0. 0.]\n",
            " [1. 0. 0. ... 0. 0. 0.]\n",
            " [0. 0. 0. ... 0. 0. 0.]\n",
            " ...\n",
            " [0. 0. 0. ... 0. 0. 0.]\n",
            " [0. 0. 0. ... 0. 0. 0.]\n",
            " [0. 0. 0. ... 0. 1. 0.]]\n"
          ],
          "name": "stdout"
        }
      ]
    },
    {
      "cell_type": "code",
      "metadata": {
        "id": "VmSePN42eKgU"
      },
      "source": [
        "feature_train_mn = feature_train_mn.astype('float32')\n",
        "feature_test_mn = feature_test_mn.astype('float32')\n",
        "\n",
        "feature_train_mn = feature_train_mn / 255.0\n",
        "feature_test_mn = feature_test_mn / 255.0"
      ],
      "execution_count": null,
      "outputs": []
    },
    {
      "cell_type": "markdown",
      "metadata": {
        "id": "S_YdE9XbowyZ"
      },
      "source": [
        "## Arsitektur CNN"
      ]
    },
    {
      "cell_type": "code",
      "metadata": {
        "id": "nL4x0yfagoFa"
      },
      "source": [
        "cnn_model2 = Sequential()\n",
        "\n",
        "cnn_model2.add(Conv2D(32, (3, 3), activation='relu', kernel_initializer='he_uniform', \n",
        "                     input_shape=(28, 28, 1)))\n",
        "cnn_model2.add(MaxPooling2D((2, 2)))\n",
        "cnn_model2.add(Conv2D(64, (3, 3), activation='relu', kernel_initializer='he_uniform', \n",
        "                     input_shape=(28, 28, 1)))\n",
        "cnn_model2.add(MaxPooling2D((2, 2)))\n",
        "\n",
        "cnn_model2.add(Flatten())\n",
        "cnn_model2.add(Dense(100, activation='relu', kernel_initializer='he_uniform'))\n",
        "cnn_model2.add(Dense(10, activation='softmax'))\n",
        "\n",
        "opt = SGD()\n",
        "\n",
        "cnn_model2.compile(optimizer=opt, loss='categorical_crossentropy', metrics=['accuracy'])"
      ],
      "execution_count": null,
      "outputs": []
    },
    {
      "cell_type": "markdown",
      "metadata": {
        "id": "Em1nS-w-_EF6"
      },
      "source": [
        "## CNN DEEP MNIST"
      ]
    },
    {
      "cell_type": "code",
      "metadata": {
        "id": "WJfwhqAEt1Xp",
        "outputId": "a26c2105-b8ad-4183-b82d-0a67d9e208ef",
        "colab": {
          "base_uri": "https://localhost:8080/",
          "height": 1000
        }
      },
      "source": [
        "cnn_model2.summary()\n",
        "\n",
        "history_cnn2_mn = cnn_model2.fit(feature_train_mn, label_train_mn, batch_size=32, \n",
        "                        validation_data=(feature_test_mn, label_test_mn), \n",
        "                        epochs=20)"
      ],
      "execution_count": null,
      "outputs": [
        {
          "output_type": "stream",
          "text": [
            "Model: \"sequential_29\"\n",
            "_________________________________________________________________\n",
            "Layer (type)                 Output Shape              Param #   \n",
            "=================================================================\n",
            "conv2d_28 (Conv2D)           (None, 26, 26, 32)        320       \n",
            "_________________________________________________________________\n",
            "max_pooling2d_28 (MaxPooling (None, 13, 13, 32)        0         \n",
            "_________________________________________________________________\n",
            "conv2d_29 (Conv2D)           (None, 11, 11, 64)        18496     \n",
            "_________________________________________________________________\n",
            "max_pooling2d_29 (MaxPooling (None, 5, 5, 64)          0         \n",
            "_________________________________________________________________\n",
            "flatten_29 (Flatten)         (None, 1600)              0         \n",
            "_________________________________________________________________\n",
            "dense_58 (Dense)             (None, 100)               160100    \n",
            "_________________________________________________________________\n",
            "dense_59 (Dense)             (None, 10)                1010      \n",
            "=================================================================\n",
            "Total params: 179,926\n",
            "Trainable params: 179,926\n",
            "Non-trainable params: 0\n",
            "_________________________________________________________________\n",
            "Epoch 1/20\n",
            "1875/1875 [==============================] - 6s 3ms/step - loss: 0.2618 - accuracy: 0.9214 - val_loss: 0.1343 - val_accuracy: 0.9593\n",
            "Epoch 2/20\n",
            "1875/1875 [==============================] - 6s 3ms/step - loss: 0.0965 - accuracy: 0.9708 - val_loss: 0.0722 - val_accuracy: 0.9783\n",
            "Epoch 3/20\n",
            "1875/1875 [==============================] - 6s 3ms/step - loss: 0.0692 - accuracy: 0.9791 - val_loss: 0.0539 - val_accuracy: 0.9820\n",
            "Epoch 4/20\n",
            "1875/1875 [==============================] - 6s 3ms/step - loss: 0.0561 - accuracy: 0.9832 - val_loss: 0.0459 - val_accuracy: 0.9851\n",
            "Epoch 5/20\n",
            "1875/1875 [==============================] - 6s 3ms/step - loss: 0.0474 - accuracy: 0.9857 - val_loss: 0.0445 - val_accuracy: 0.9867\n",
            "Epoch 6/20\n",
            "1875/1875 [==============================] - 6s 3ms/step - loss: 0.0409 - accuracy: 0.9878 - val_loss: 0.0454 - val_accuracy: 0.9852\n",
            "Epoch 7/20\n",
            "1875/1875 [==============================] - 5s 3ms/step - loss: 0.0367 - accuracy: 0.9884 - val_loss: 0.0418 - val_accuracy: 0.9851\n",
            "Epoch 8/20\n",
            "1875/1875 [==============================] - 5s 3ms/step - loss: 0.0327 - accuracy: 0.9905 - val_loss: 0.0355 - val_accuracy: 0.9883\n",
            "Epoch 9/20\n",
            "1875/1875 [==============================] - 5s 3ms/step - loss: 0.0299 - accuracy: 0.9904 - val_loss: 0.0359 - val_accuracy: 0.9879\n",
            "Epoch 10/20\n",
            "1875/1875 [==============================] - 5s 3ms/step - loss: 0.0272 - accuracy: 0.9916 - val_loss: 0.0414 - val_accuracy: 0.9861\n",
            "Epoch 11/20\n",
            "1875/1875 [==============================] - 5s 3ms/step - loss: 0.0248 - accuracy: 0.9924 - val_loss: 0.0316 - val_accuracy: 0.9897\n",
            "Epoch 12/20\n",
            "1875/1875 [==============================] - 5s 3ms/step - loss: 0.0228 - accuracy: 0.9936 - val_loss: 0.0366 - val_accuracy: 0.9884\n",
            "Epoch 13/20\n",
            "1875/1875 [==============================] - 5s 3ms/step - loss: 0.0210 - accuracy: 0.9936 - val_loss: 0.0337 - val_accuracy: 0.9890\n",
            "Epoch 14/20\n",
            "1875/1875 [==============================] - 5s 3ms/step - loss: 0.0194 - accuracy: 0.9942 - val_loss: 0.0301 - val_accuracy: 0.9897\n",
            "Epoch 15/20\n",
            "1875/1875 [==============================] - 5s 3ms/step - loss: 0.0175 - accuracy: 0.9948 - val_loss: 0.0323 - val_accuracy: 0.9895\n",
            "Epoch 16/20\n",
            "1875/1875 [==============================] - 6s 3ms/step - loss: 0.0163 - accuracy: 0.9954 - val_loss: 0.0358 - val_accuracy: 0.9880\n",
            "Epoch 17/20\n",
            "1875/1875 [==============================] - 5s 3ms/step - loss: 0.0151 - accuracy: 0.9957 - val_loss: 0.0355 - val_accuracy: 0.9880\n",
            "Epoch 18/20\n",
            "1875/1875 [==============================] - 6s 3ms/step - loss: 0.0136 - accuracy: 0.9962 - val_loss: 0.0352 - val_accuracy: 0.9882\n",
            "Epoch 19/20\n",
            "1875/1875 [==============================] - 5s 3ms/step - loss: 0.0126 - accuracy: 0.9966 - val_loss: 0.0304 - val_accuracy: 0.9902\n",
            "Epoch 20/20\n",
            "1875/1875 [==============================] - 5s 3ms/step - loss: 0.0119 - accuracy: 0.9968 - val_loss: 0.0308 - val_accuracy: 0.9903\n"
          ],
          "name": "stdout"
        }
      ]
    },
    {
      "cell_type": "code",
      "metadata": {
        "id": "fipZ4zH8g345",
        "outputId": "6fb74716-ad05-4530-e043-8cc52f075edb",
        "colab": {
          "base_uri": "https://localhost:8080/",
          "height": 69
        }
      },
      "source": [
        "loss, accuracy = cnn_model2.evaluate(feature_test_mn, label_test_mn, verbose=2)\n",
        "print('Test accuracy:', accuracy)\n",
        "print('Test Loss:', loss)"
      ],
      "execution_count": null,
      "outputs": [
        {
          "output_type": "stream",
          "text": [
            "313/313 - 1s - loss: 0.0308 - accuracy: 0.9903\n",
            "Test accuracy: 0.9902999997138977\n",
            "Test Loss: 0.03081023506820202\n"
          ],
          "name": "stdout"
        }
      ]
    },
    {
      "cell_type": "code",
      "metadata": {
        "id": "pe7NkISjg4ey",
        "outputId": "602ce24b-aecc-4c47-a387-26c5a8e5dfa1",
        "colab": {
          "base_uri": "https://localhost:8080/",
          "height": 294
        }
      },
      "source": [
        "plt.plot(history_cnn2_mn.history['loss'])\n",
        "plt.plot(history_cnn2_mn.history['val_loss'])\n",
        "plt.title('Model Training and Validation Loss')\n",
        "# plt.ylim([0, 10])\n",
        "plt.ylabel('Loss')\n",
        "plt.xlabel('Epoch')\n",
        "plt.legend(['Training', 'Validation'], loc='upper right')\n",
        "plt.grid('True')\n",
        "plt.show()"
      ],
      "execution_count": null,
      "outputs": [
        {
          "output_type": "display_data",
          "data": {
            "image/png": "[encoded data removed]",
            "text/plain": [
              "<Figure size 432x288 with 1 Axes>"
            ]
          },
          "metadata": {
            "tags": [],
            "needs_background": "light"
          }
        }
      ]
    },
    {
      "cell_type": "markdown",
      "metadata": {
        "id": "kgE-2rV8suxx"
      },
      "source": [
        "## CNN DEEP FASHION MNIST"
      ]
    },
    {
      "cell_type": "code",
      "metadata": {
        "id": "u6pHvGpFtyuY",
        "outputId": "fb377e82-78ea-48cf-cb1c-c1b95a19dea9",
        "colab": {
          "base_uri": "https://localhost:8080/",
          "height": 1000
        }
      },
      "source": [
        "cnn_model2.summary()\n",
        "\n",
        "history_cnn2_fm = cnn_model2.fit(feature_train_fm, label_train_fm, batch_size=32, \n",
        "                        validation_data=(feature_test_fm, label_test_fm), \n",
        "                        epochs=20)"
      ],
      "execution_count": null,
      "outputs": [
        {
          "output_type": "stream",
          "text": [
            "Model: \"sequential_29\"\n",
            "_________________________________________________________________\n",
            "Layer (type)                 Output Shape              Param #   \n",
            "=================================================================\n",
            "conv2d_28 (Conv2D)           (None, 26, 26, 32)        320       \n",
            "_________________________________________________________________\n",
            "max_pooling2d_28 (MaxPooling (None, 13, 13, 32)        0         \n",
            "_________________________________________________________________\n",
            "conv2d_29 (Conv2D)           (None, 11, 11, 64)        18496     \n",
            "_________________________________________________________________\n",
            "max_pooling2d_29 (MaxPooling (None, 5, 5, 64)          0         \n",
            "_________________________________________________________________\n",
            "flatten_29 (Flatten)         (None, 1600)              0         \n",
            "_________________________________________________________________\n",
            "dense_58 (Dense)             (None, 100)               160100    \n",
            "_________________________________________________________________\n",
            "dense_59 (Dense)             (None, 10)                1010      \n",
            "=================================================================\n",
            "Total params: 179,926\n",
            "Trainable params: 179,926\n",
            "Non-trainable params: 0\n",
            "_________________________________________________________________\n",
            "Epoch 1/20\n",
            "1875/1875 [==============================] - 6s 3ms/step - loss: 0.5315 - accuracy: 0.8115 - val_loss: 0.4267 - val_accuracy: 0.8453\n",
            "Epoch 2/20\n",
            "1875/1875 [==============================] - 6s 3ms/step - loss: 0.3834 - accuracy: 0.8625 - val_loss: 0.3954 - val_accuracy: 0.8593\n",
            "Epoch 3/20\n",
            "1875/1875 [==============================] - 6s 3ms/step - loss: 0.3431 - accuracy: 0.8759 - val_loss: 0.3775 - val_accuracy: 0.8630\n",
            "Epoch 4/20\n",
            "1875/1875 [==============================] - 6s 3ms/step - loss: 0.3180 - accuracy: 0.8846 - val_loss: 0.3352 - val_accuracy: 0.8802\n",
            "Epoch 5/20\n",
            "1875/1875 [==============================] - 6s 3ms/step - loss: 0.2995 - accuracy: 0.8913 - val_loss: 0.3293 - val_accuracy: 0.8840\n",
            "Epoch 6/20\n",
            "1875/1875 [==============================] - 6s 3ms/step - loss: 0.2857 - accuracy: 0.8959 - val_loss: 0.3288 - val_accuracy: 0.8819\n",
            "Epoch 7/20\n",
            "1875/1875 [==============================] - 5s 3ms/step - loss: 0.2735 - accuracy: 0.9014 - val_loss: 0.3229 - val_accuracy: 0.8852\n",
            "Epoch 8/20\n",
            "1875/1875 [==============================] - 5s 3ms/step - loss: 0.2642 - accuracy: 0.9043 - val_loss: 0.3071 - val_accuracy: 0.8867\n",
            "Epoch 9/20\n",
            "1875/1875 [==============================] - 5s 3ms/step - loss: 0.2541 - accuracy: 0.9067 - val_loss: 0.2982 - val_accuracy: 0.8937\n",
            "Epoch 10/20\n",
            "1875/1875 [==============================] - 6s 3ms/step - loss: 0.2459 - accuracy: 0.9097 - val_loss: 0.3002 - val_accuracy: 0.8932\n",
            "Epoch 11/20\n",
            "1875/1875 [==============================] - 6s 3ms/step - loss: 0.2389 - accuracy: 0.9122 - val_loss: 0.2933 - val_accuracy: 0.8939\n",
            "Epoch 12/20\n",
            "1875/1875 [==============================] - 6s 3ms/step - loss: 0.2321 - accuracy: 0.9152 - val_loss: 0.2849 - val_accuracy: 0.8974\n",
            "Epoch 13/20\n",
            "1875/1875 [==============================] - 5s 3ms/step - loss: 0.2253 - accuracy: 0.9182 - val_loss: 0.3002 - val_accuracy: 0.8879\n",
            "Epoch 14/20\n",
            "1875/1875 [==============================] - 5s 3ms/step - loss: 0.2192 - accuracy: 0.9198 - val_loss: 0.2866 - val_accuracy: 0.8959\n",
            "Epoch 15/20\n",
            "1875/1875 [==============================] - 6s 3ms/step - loss: 0.2127 - accuracy: 0.9218 - val_loss: 0.2922 - val_accuracy: 0.8947\n",
            "Epoch 16/20\n",
            "1875/1875 [==============================] - 5s 3ms/step - loss: 0.2072 - accuracy: 0.9241 - val_loss: 0.2819 - val_accuracy: 0.8967\n",
            "Epoch 17/20\n",
            "1875/1875 [==============================] - 6s 3ms/step - loss: 0.2021 - accuracy: 0.9252 - val_loss: 0.2798 - val_accuracy: 0.8986\n",
            "Epoch 18/20\n",
            "1875/1875 [==============================] - 5s 3ms/step - loss: 0.1972 - accuracy: 0.9264 - val_loss: 0.2741 - val_accuracy: 0.9002\n",
            "Epoch 19/20\n",
            "1875/1875 [==============================] - 6s 3ms/step - loss: 0.1916 - accuracy: 0.9295 - val_loss: 0.2724 - val_accuracy: 0.9042\n",
            "Epoch 20/20\n",
            "1875/1875 [==============================] - 6s 3ms/step - loss: 0.1867 - accuracy: 0.9310 - val_loss: 0.2834 - val_accuracy: 0.9000\n"
          ],
          "name": "stdout"
        }
      ]
    },
    {
      "cell_type": "code",
      "metadata": {
        "id": "nAq1HvIPuDiR",
        "outputId": "a31eaf18-5a04-4fab-d191-8d60696abec9",
        "colab": {
          "base_uri": "https://localhost:8080/",
          "height": 69
        }
      },
      "source": [
        "loss, accuracy = cnn_model2.evaluate(feature_test_fm, label_test_fm, verbose=2)\n",
        "print('Test accuracy:', accuracy)\n",
        "print('Test Loss:', loss)"
      ],
      "execution_count": null,
      "outputs": [
        {
          "output_type": "stream",
          "text": [
            "313/313 - 1s - loss: 0.2834 - accuracy: 0.9000\n",
            "Test accuracy: 0.8999999761581421\n",
            "Test Loss: 0.2834113538265228\n"
          ],
          "name": "stdout"
        }
      ]
    },
    {
      "cell_type": "code",
      "metadata": {
        "id": "shNOw5yTuEKy",
        "outputId": "f698bc79-fd90-4f54-bb37-5e6a8db1e58b",
        "colab": {
          "base_uri": "https://localhost:8080/",
          "height": 294
        }
      },
      "source": [
        "plt.plot(history_cnn2_fm.history['loss'])\n",
        "plt.plot(history_cnn2_fm.history['val_loss'])\n",
        "plt.title('Model Training and Validation Loss')\n",
        "# plt.ylim([0, 10])\n",
        "plt.ylabel('Loss')\n",
        "plt.xlabel('Epoch')\n",
        "plt.legend(['Training', 'Validation'], loc='upper right')\n",
        "plt.grid('True')\n",
        "plt.show()"
      ],
      "execution_count": null,
      "outputs": [
        {
          "output_type": "display_data",
          "data": {
            "image/png": "[encoded data removed]",
            "text/plain": [
              "<Figure size 432x288 with 1 Axes>"
            ]
          },
          "metadata": {
            "tags": [],
            "needs_background": "light"
          }
        }
      ]
    },
    {
      "cell_type": "markdown",
      "metadata": {
        "id": "EBPZ3aqD6tnc"
      },
      "source": [
        "### Kesimpulan:\n",
        "- Dengan menambah dalam layer dan perseptron pada model cnn, nilai accuracy pun meningkat atau semakin bagus.\n",
        "- Pada data mnist pada cnn sederhana accuracy = 0.989, loss = 0.039, setelah layer ditambah/diperdalam accuracy = 0.990 dan loss = 0.030 begitu juga pada data fashion mnist accuracy = 0.893 --> 0.899 dan loss = 0.284 ---> 0.283 (dari data test/validation)\n",
        "- Perbedaan setelah memperdalam layers tidak begitu signifikan karena tidak melakukan perubahan pada parameter hanya pada jumlah epoch saya yang semula 10 menjadi 20.\n",
        "- Accuracy masih dapat ditingkatkan dan loss diperkecil dengan mengatur beberapa parameter atau dapat juga menambah layer dengan jumlah perseptron yang berbeda maupun model layer yang berbeda seperti dropout() untuk mengurangi overfitting."
      ]
    }
  ]
}