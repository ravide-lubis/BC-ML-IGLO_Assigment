{
  "nbformat": 4,
  "nbformat_minor": 0,
  "metadata": {
    "colab": {
      "name": "Assigment_15_No. 1_ravide.ipynb",
      "provenance": [],
      "collapsed_sections": []
    },
    "kernelspec": {
      "name": "python3",
      "display_name": "Python 3"
    },
    "accelerator": "TPU"
  },
  "cells": [
    {
      "cell_type": "markdown",
      "metadata": {
        "id": "_gT3dw2b4Zgs"
      },
      "source": [
        "# Assignment 15\n",
        "\n",
        "1. Tambahkan convolution layer berikut untuk data yang sudah dilakukan data augmentation:\n",
        "\n",
        "    - Convolution layer dengan 32 filters, kernel size 3x3, activation function ReLu, & nilai awal berdasarkan he_uniform\n",
        "    - Max Pooling Layer 2x2\n",
        "    - Convolution layer dengan 64 filters, kernel size 3x3, activation function ReLu, & nilai awal berdasarkan he_uniform\n",
        "    - Max Pooling Layer 2x2\n",
        "    - Convolution layer dengan 128 filters, kernel size 3x3, activation function ReLu, & nilai awal berdasarkan he_uniform\n",
        "    - Max Pooling Layer 2x2\n",
        "\n",
        "  Bandingkan hasil accuracy yang didapat dengan ketika training dilakukan dengan model baseline! Jelaskan kesimpulannya! Gunakan nilai epoch 75. Lalu bandingkan juga plot epoch terhadap lossnya!\n",
        "\n",
        "2. Tentukan arsitektur CNN serta hyperparameter tuning bagi mendapatkan hasil terbaik untuk dataset ini!"
      ]
    },
    {
      "cell_type": "code",
      "metadata": {
        "id": "3ahoelsx8zET"
      },
      "source": [
        "import os\n",
        "import numpy as np\n",
        "import matplotlib.pyplot as plt\n",
        "\n",
        "import tensorflow as tf\n",
        "from tensorflow.keras.preprocessing.image import ImageDataGenerator\n",
        "from tensorflow.keras.models import Sequential\n",
        "from tensorflow.keras.layers import Conv2D\n",
        "from tensorflow.keras.layers import MaxPooling2D\n",
        "from tensorflow.keras.layers import Dense, Flatten\n",
        "from tensorflow.keras.layers import Dropout\n",
        "from tensorflow.keras.optimizers import SGD, Adam, Adamax, RMSprop"
      ],
      "execution_count": 1,
      "outputs": []
    },
    {
      "cell_type": "code",
      "metadata": {
        "id": "B3hBBNZr_tc7"
      },
      "source": [
        "# fungsi ploting loss history\n",
        "def plot_loss(history):\n",
        "  plt.plot(history.history['loss'], label='loss')\n",
        "  plt.plot(history.history['val_loss'], label='val_loss')\n",
        "  plt.title('Model Training and Validation Loss')\n",
        "  plt.xlabel('Epoch')\n",
        "  plt.ylabel('Loss')\n",
        "  plt.legend()\n",
        "  plt.grid(True)"
      ],
      "execution_count": 2,
      "outputs": []
    },
    {
      "cell_type": "code",
      "metadata": {
        "id": "oAUPWH845a9w"
      },
      "source": [
        "# fungsi ploting accuracy history\n",
        "def plot_accuracy(history):\n",
        "  plt.plot(history.history['accuracy'], label='accuracy')\n",
        "  plt.plot(history.history['val_accuracy'], label='val_accuracy')\n",
        "  plt.title('Model Training and Validation Accuracy')\n",
        "  plt.xlabel('Epoch')\n",
        "  plt.ylabel('Accuracy')\n",
        "  plt.legend()\n",
        "  plt.grid(True)"
      ],
      "execution_count": 3,
      "outputs": []
    },
    {
      "cell_type": "code",
      "metadata": {
        "id": "YYL--0yW4eNg"
      },
      "source": [
        "zip_path = '/content/drive/My\\ Drive/BARU/cats-dogs.zip'\n",
        "\n",
        "!cp {zip_path} /content/\n",
        "\n",
        "!cd /content/\n",
        "\n",
        "!unzip -q /content/cats-dogs.zip -d /content\n",
        "\n",
        "!rm /content/cats-dogs.zip"
      ],
      "execution_count": 4,
      "outputs": []
    },
    {
      "cell_type": "code",
      "metadata": {
        "id": "YHZzvu-H6Muq"
      },
      "source": [
        "dasar_dir = '/content/'\n",
        "training_dir = os.path.join(dasar_dir, 'train')\n",
        "validation_dir = os.path.join(dasar_dir, 'test')"
      ],
      "execution_count": 5,
      "outputs": []
    },
    {
      "cell_type": "code",
      "metadata": {
        "id": "Sf3131zV6rUX"
      },
      "source": [
        "datagen = ImageDataGenerator(rescale=1./255, \n",
        "                                   width_shift_range=0.1, \n",
        "                                   height_shift_range=0.1, \n",
        "                                   horizontal_flip=True)"
      ],
      "execution_count": null,
      "outputs": []
    },
    {
      "cell_type": "code",
      "metadata": {
        "id": "8SwOTTEp8Go2",
        "outputId": "eff892c8-0871-477f-930e-1eb32112908b",
        "colab": {
          "base_uri": "https://localhost:8080/",
          "height": 52
        }
      },
      "source": [
        "train_iterator = datagen.flow_from_directory(training_dir,\n",
        "                                             class_mode='binary', \n",
        "                                             batch_size=128,\n",
        "                                             target_size=(200, 200))\n",
        "\n",
        "val_iterator = datagen.flow_from_directory(validation_dir,\n",
        "                                           class_mode='binary',\n",
        "                                           batch_size=128,\n",
        "                                           target_size=(200, 200))"
      ],
      "execution_count": null,
      "outputs": [
        {
          "output_type": "stream",
          "text": [
            "Found 12749 images belonging to 2 classes.\n",
            "Found 2252 images belonging to 2 classes.\n"
          ],
          "name": "stdout"
        }
      ]
    },
    {
      "cell_type": "markdown",
      "metadata": {
        "id": "yrEvDylB4Vu8"
      },
      "source": [
        "# Jawaban No. 1:\n",
        "\n",
        "DEEPER CNN"
      ]
    },
    {
      "cell_type": "code",
      "metadata": {
        "id": "Lo-abK5v_Ap1",
        "outputId": "ebe4094c-699a-49c2-b097-cf6dbd9802a3",
        "colab": {
          "base_uri": "https://localhost:8080/",
          "height": 1000
        }
      },
      "source": [
        "cnn_model = Sequential()\n",
        "\n",
        "cnn_model.add(Conv2D(32, (3, 3), activation='relu', kernel_initializer='he_uniform', \n",
        "                     padding='same', input_shape=(200, 200, 3)))\n",
        "cnn_model.add(MaxPooling2D((2, 2)))\n",
        "cnn_model.add(Conv2D(64, (3, 3), activation='relu', kernel_initializer='he_uniform'))\n",
        "cnn_model.add(MaxPooling2D((2, 2)))\n",
        "cnn_model.add(Conv2D(128, (3, 3), activation='relu', kernel_initializer='he_uniform'))\n",
        "cnn_model.add(MaxPooling2D((2, 2)))\n",
        "\n",
        "cnn_model.add(Flatten())\n",
        "cnn_model.add(Dense(128, activation='relu', kernel_initializer='he_uniform'))\n",
        "cnn_model.add(Dense(1, activation='sigmoid'))\n",
        "\n",
        "opt = SGD(lr=0.01, momentum=0.9)\n",
        "\n",
        "cnn_model.compile(optimizer=opt, loss='binary_crossentropy', metrics=['accuracy'])\n",
        "\n",
        "cnn_model.summary()\n",
        "\n",
        "history = cnn_model.fit(train_iterator,\n",
        "                         steps_per_epoch=len(train_iterator),\n",
        "                         validation_data=val_iterator, \n",
        "                         validation_steps=len(val_iterator),\n",
        "                         epochs=75)"
      ],
      "execution_count": null,
      "outputs": [
        {
          "output_type": "stream",
          "text": [
            "Model: \"sequential_4\"\n",
            "_________________________________________________________________\n",
            "Layer (type)                 Output Shape              Param #   \n",
            "=================================================================\n",
            "conv2d_12 (Conv2D)           (None, 198, 198, 32)      896       \n",
            "_________________________________________________________________\n",
            "max_pooling2d_12 (MaxPooling (None, 99, 99, 32)        0         \n",
            "_________________________________________________________________\n",
            "conv2d_13 (Conv2D)           (None, 97, 97, 64)        18496     \n",
            "_________________________________________________________________\n",
            "max_pooling2d_13 (MaxPooling (None, 48, 48, 64)        0         \n",
            "_________________________________________________________________\n",
            "conv2d_14 (Conv2D)           (None, 46, 46, 128)       73856     \n",
            "_________________________________________________________________\n",
            "max_pooling2d_14 (MaxPooling (None, 23, 23, 128)       0         \n",
            "_________________________________________________________________\n",
            "flatten_4 (Flatten)          (None, 67712)             0         \n",
            "_________________________________________________________________\n",
            "dense_8 (Dense)              (None, 128)               8667264   \n",
            "_________________________________________________________________\n",
            "dense_9 (Dense)              (None, 1)                 129       \n",
            "=================================================================\n",
            "Total params: 8,760,641\n",
            "Trainable params: 8,760,641\n",
            "Non-trainable params: 0\n",
            "_________________________________________________________________\n",
            "Epoch 1/75\n",
            "100/100 [==============================] - 146s 1s/step - loss: 0.7451 - accuracy: 0.5542 - val_loss: 0.6595 - val_accuracy: 0.5968\n",
            "Epoch 2/75\n",
            "100/100 [==============================] - 145s 1s/step - loss: 0.6374 - accuracy: 0.6306 - val_loss: 0.6069 - val_accuracy: 0.7087\n",
            "Epoch 3/75\n",
            "100/100 [==============================] - 144s 1s/step - loss: 0.5970 - accuracy: 0.6814 - val_loss: 0.5776 - val_accuracy: 0.6963\n",
            "Epoch 4/75\n",
            "100/100 [==============================] - 144s 1s/step - loss: 0.5714 - accuracy: 0.7018 - val_loss: 0.5381 - val_accuracy: 0.7251\n",
            "Epoch 5/75\n",
            "100/100 [==============================] - 143s 1s/step - loss: 0.5353 - accuracy: 0.7276 - val_loss: 0.5190 - val_accuracy: 0.7367\n",
            "Epoch 6/75\n",
            "100/100 [==============================] - 143s 1s/step - loss: 0.5163 - accuracy: 0.7446 - val_loss: 0.5295 - val_accuracy: 0.7367\n",
            "Epoch 7/75\n",
            "100/100 [==============================] - 143s 1s/step - loss: 0.5072 - accuracy: 0.7525 - val_loss: 0.5209 - val_accuracy: 0.7327\n",
            "Epoch 8/75\n",
            "100/100 [==============================] - 144s 1s/step - loss: 0.4811 - accuracy: 0.7685 - val_loss: 0.4639 - val_accuracy: 0.7731\n",
            "Epoch 9/75\n",
            "100/100 [==============================] - 146s 1s/step - loss: 0.4813 - accuracy: 0.7686 - val_loss: 0.4540 - val_accuracy: 0.7820\n",
            "Epoch 10/75\n",
            "100/100 [==============================] - 150s 2s/step - loss: 0.4594 - accuracy: 0.7834 - val_loss: 0.4873 - val_accuracy: 0.7598\n",
            "Epoch 11/75\n",
            "100/100 [==============================] - 147s 1s/step - loss: 0.4472 - accuracy: 0.7904 - val_loss: 0.4555 - val_accuracy: 0.7735\n",
            "Epoch 12/75\n",
            "100/100 [==============================] - 146s 1s/step - loss: 0.4333 - accuracy: 0.7976 - val_loss: 0.4482 - val_accuracy: 0.7815\n",
            "Epoch 13/75\n",
            "100/100 [==============================] - 144s 1s/step - loss: 0.4279 - accuracy: 0.8025 - val_loss: 0.4161 - val_accuracy: 0.8091\n",
            "Epoch 14/75\n",
            "100/100 [==============================] - 143s 1s/step - loss: 0.4143 - accuracy: 0.8149 - val_loss: 0.4138 - val_accuracy: 0.8077\n",
            "Epoch 15/75\n",
            "100/100 [==============================] - 146s 1s/step - loss: 0.4023 - accuracy: 0.8201 - val_loss: 0.4138 - val_accuracy: 0.8073\n",
            "Epoch 16/75\n",
            "100/100 [==============================] - 148s 1s/step - loss: 0.3919 - accuracy: 0.8220 - val_loss: 0.3932 - val_accuracy: 0.8108\n",
            "Epoch 17/75\n",
            "100/100 [==============================] - 150s 2s/step - loss: 0.3825 - accuracy: 0.8310 - val_loss: 0.3964 - val_accuracy: 0.8197\n",
            "Epoch 18/75\n",
            "100/100 [==============================] - 149s 1s/step - loss: 0.3760 - accuracy: 0.8322 - val_loss: 0.3868 - val_accuracy: 0.8219\n",
            "Epoch 19/75\n",
            "100/100 [==============================] - 151s 2s/step - loss: 0.3675 - accuracy: 0.8342 - val_loss: 0.3890 - val_accuracy: 0.8166\n",
            "Epoch 20/75\n",
            "100/100 [==============================] - 148s 1s/step - loss: 0.3685 - accuracy: 0.8350 - val_loss: 0.3672 - val_accuracy: 0.8361\n",
            "Epoch 21/75\n",
            "100/100 [==============================] - 144s 1s/step - loss: 0.3519 - accuracy: 0.8470 - val_loss: 0.3519 - val_accuracy: 0.8433\n",
            "Epoch 22/75\n",
            "100/100 [==============================] - 142s 1s/step - loss: 0.3511 - accuracy: 0.8448 - val_loss: 0.3582 - val_accuracy: 0.8468\n",
            "Epoch 23/75\n",
            "100/100 [==============================] - 143s 1s/step - loss: 0.3424 - accuracy: 0.8525 - val_loss: 0.3528 - val_accuracy: 0.8397\n",
            "Epoch 24/75\n",
            "100/100 [==============================] - 143s 1s/step - loss: 0.3366 - accuracy: 0.8545 - val_loss: 0.3341 - val_accuracy: 0.8521\n",
            "Epoch 25/75\n",
            "100/100 [==============================] - 147s 1s/step - loss: 0.3257 - accuracy: 0.8556 - val_loss: 0.3467 - val_accuracy: 0.8446\n",
            "Epoch 26/75\n",
            "100/100 [==============================] - 150s 1s/step - loss: 0.3290 - accuracy: 0.8521 - val_loss: 0.4196 - val_accuracy: 0.7988\n",
            "Epoch 27/75\n",
            "100/100 [==============================] - 150s 2s/step - loss: 0.3271 - accuracy: 0.8598 - val_loss: 0.3493 - val_accuracy: 0.8521\n",
            "Epoch 28/75\n",
            "100/100 [==============================] - 151s 2s/step - loss: 0.3140 - accuracy: 0.8646 - val_loss: 0.3595 - val_accuracy: 0.8344\n",
            "Epoch 29/75\n",
            "100/100 [==============================] - 152s 2s/step - loss: 0.3235 - accuracy: 0.8573 - val_loss: 0.3346 - val_accuracy: 0.8628\n",
            "Epoch 30/75\n",
            "100/100 [==============================] - 152s 2s/step - loss: 0.3026 - accuracy: 0.8721 - val_loss: 0.3333 - val_accuracy: 0.8552\n",
            "Epoch 31/75\n",
            "100/100 [==============================] - 153s 2s/step - loss: 0.2969 - accuracy: 0.8710 - val_loss: 0.3153 - val_accuracy: 0.8672\n",
            "Epoch 32/75\n",
            "100/100 [==============================] - 153s 2s/step - loss: 0.2890 - accuracy: 0.8785 - val_loss: 0.3324 - val_accuracy: 0.8544\n",
            "Epoch 33/75\n",
            "100/100 [==============================] - 152s 2s/step - loss: 0.2900 - accuracy: 0.8772 - val_loss: 0.3674 - val_accuracy: 0.8344\n",
            "Epoch 34/75\n",
            "100/100 [==============================] - 151s 2s/step - loss: 0.2899 - accuracy: 0.8756 - val_loss: 0.3199 - val_accuracy: 0.8592\n",
            "Epoch 35/75\n",
            "100/100 [==============================] - 151s 2s/step - loss: 0.2793 - accuracy: 0.8818 - val_loss: 0.3327 - val_accuracy: 0.8552\n",
            "Epoch 36/75\n",
            "100/100 [==============================] - 150s 1s/step - loss: 0.2715 - accuracy: 0.8890 - val_loss: 0.3257 - val_accuracy: 0.8539\n",
            "Epoch 37/75\n",
            "100/100 [==============================] - 149s 1s/step - loss: 0.2689 - accuracy: 0.8852 - val_loss: 0.3132 - val_accuracy: 0.8619\n",
            "Epoch 38/75\n",
            "100/100 [==============================] - 147s 1s/step - loss: 0.2630 - accuracy: 0.8889 - val_loss: 0.3237 - val_accuracy: 0.8548\n",
            "Epoch 39/75\n",
            "100/100 [==============================] - 147s 1s/step - loss: 0.2651 - accuracy: 0.8907 - val_loss: 0.3025 - val_accuracy: 0.8686\n",
            "Epoch 40/75\n",
            "100/100 [==============================] - 146s 1s/step - loss: 0.2561 - accuracy: 0.8926 - val_loss: 0.3179 - val_accuracy: 0.8623\n",
            "Epoch 41/75\n",
            "100/100 [==============================] - 146s 1s/step - loss: 0.2495 - accuracy: 0.8958 - val_loss: 0.3104 - val_accuracy: 0.8686\n",
            "Epoch 42/75\n",
            "100/100 [==============================] - 145s 1s/step - loss: 0.2498 - accuracy: 0.8938 - val_loss: 0.2913 - val_accuracy: 0.8721\n",
            "Epoch 43/75\n",
            "100/100 [==============================] - 146s 1s/step - loss: 0.2344 - accuracy: 0.9012 - val_loss: 0.3103 - val_accuracy: 0.8726\n",
            "Epoch 44/75\n",
            "100/100 [==============================] - 146s 1s/step - loss: 0.2376 - accuracy: 0.9001 - val_loss: 0.2822 - val_accuracy: 0.8832\n",
            "Epoch 45/75\n",
            "100/100 [==============================] - 147s 1s/step - loss: 0.2352 - accuracy: 0.9017 - val_loss: 0.2868 - val_accuracy: 0.8730\n",
            "Epoch 46/75\n",
            "100/100 [==============================] - 152s 2s/step - loss: 0.2258 - accuracy: 0.9068 - val_loss: 0.2858 - val_accuracy: 0.8832\n",
            "Epoch 47/75\n",
            "100/100 [==============================] - 151s 2s/step - loss: 0.2230 - accuracy: 0.9065 - val_loss: 0.3076 - val_accuracy: 0.8837\n",
            "Epoch 48/75\n",
            "100/100 [==============================] - 151s 2s/step - loss: 0.2223 - accuracy: 0.9089 - val_loss: 0.3011 - val_accuracy: 0.8766\n",
            "Epoch 49/75\n",
            "100/100 [==============================] - 151s 2s/step - loss: 0.2260 - accuracy: 0.9036 - val_loss: 0.2885 - val_accuracy: 0.8779\n",
            "Epoch 50/75\n",
            "100/100 [==============================] - 151s 2s/step - loss: 0.2145 - accuracy: 0.9124 - val_loss: 0.3560 - val_accuracy: 0.8544\n",
            "Epoch 51/75\n",
            "100/100 [==============================] - 151s 2s/step - loss: 0.2350 - accuracy: 0.9033 - val_loss: 0.2902 - val_accuracy: 0.8806\n",
            "Epoch 52/75\n",
            "100/100 [==============================] - 153s 2s/step - loss: 0.2074 - accuracy: 0.9129 - val_loss: 0.2870 - val_accuracy: 0.8828\n",
            "Epoch 53/75\n",
            "100/100 [==============================] - 152s 2s/step - loss: 0.1944 - accuracy: 0.9210 - val_loss: 0.2987 - val_accuracy: 0.8801\n",
            "Epoch 54/75\n",
            "100/100 [==============================] - 154s 2s/step - loss: 0.1953 - accuracy: 0.9198 - val_loss: 0.2909 - val_accuracy: 0.8810\n",
            "Epoch 55/75\n",
            "100/100 [==============================] - 154s 2s/step - loss: 0.1920 - accuracy: 0.9223 - val_loss: 0.2963 - val_accuracy: 0.8801\n",
            "Epoch 56/75\n",
            "100/100 [==============================] - 154s 2s/step - loss: 0.1905 - accuracy: 0.9242 - val_loss: 0.3691 - val_accuracy: 0.8575\n",
            "Epoch 57/75\n",
            "100/100 [==============================] - 153s 2s/step - loss: 0.1900 - accuracy: 0.9225 - val_loss: 0.2932 - val_accuracy: 0.8806\n",
            "Epoch 58/75\n",
            "100/100 [==============================] - 154s 2s/step - loss: 0.1894 - accuracy: 0.9220 - val_loss: 0.2875 - val_accuracy: 0.8806\n",
            "Epoch 59/75\n",
            "100/100 [==============================] - 152s 2s/step - loss: 0.1819 - accuracy: 0.9271 - val_loss: 0.2795 - val_accuracy: 0.8828\n",
            "Epoch 60/75\n",
            "100/100 [==============================] - 153s 2s/step - loss: 0.1897 - accuracy: 0.9231 - val_loss: 0.2926 - val_accuracy: 0.8819\n",
            "Epoch 61/75\n",
            "100/100 [==============================] - 152s 2s/step - loss: 0.1795 - accuracy: 0.9271 - val_loss: 0.2561 - val_accuracy: 0.8921\n",
            "Epoch 62/75\n",
            "100/100 [==============================] - 154s 2s/step - loss: 0.1771 - accuracy: 0.9305 - val_loss: 0.2831 - val_accuracy: 0.8832\n",
            "Epoch 63/75\n",
            "100/100 [==============================] - 154s 2s/step - loss: 0.1633 - accuracy: 0.9363 - val_loss: 0.3321 - val_accuracy: 0.8708\n",
            "Epoch 64/75\n",
            "100/100 [==============================] - 153s 2s/step - loss: 0.1679 - accuracy: 0.9330 - val_loss: 0.2974 - val_accuracy: 0.8854\n",
            "Epoch 65/75\n",
            "100/100 [==============================] - 153s 2s/step - loss: 0.1641 - accuracy: 0.9342 - val_loss: 0.2887 - val_accuracy: 0.8823\n",
            "Epoch 66/75\n",
            "100/100 [==============================] - 153s 2s/step - loss: 0.1738 - accuracy: 0.9312 - val_loss: 0.3252 - val_accuracy: 0.8690\n",
            "Epoch 67/75\n",
            "100/100 [==============================] - 151s 2s/step - loss: 0.1522 - accuracy: 0.9377 - val_loss: 0.2799 - val_accuracy: 0.8912\n",
            "Epoch 68/75\n",
            "100/100 [==============================] - 150s 1s/step - loss: 0.1577 - accuracy: 0.9394 - val_loss: 0.2670 - val_accuracy: 0.8970\n",
            "Epoch 69/75\n",
            "100/100 [==============================] - 153s 2s/step - loss: 0.1524 - accuracy: 0.9391 - val_loss: 0.2976 - val_accuracy: 0.8801\n",
            "Epoch 70/75\n",
            "100/100 [==============================] - 153s 2s/step - loss: 0.1505 - accuracy: 0.9404 - val_loss: 0.2891 - val_accuracy: 0.8885\n",
            "Epoch 71/75\n",
            "100/100 [==============================] - 153s 2s/step - loss: 0.1477 - accuracy: 0.9441 - val_loss: 0.2765 - val_accuracy: 0.8917\n",
            "Epoch 72/75\n",
            "100/100 [==============================] - 153s 2s/step - loss: 0.1348 - accuracy: 0.9479 - val_loss: 0.2847 - val_accuracy: 0.8877\n",
            "Epoch 73/75\n",
            "100/100 [==============================] - 150s 2s/step - loss: 0.1430 - accuracy: 0.9444 - val_loss: 0.2826 - val_accuracy: 0.8890\n",
            "Epoch 74/75\n",
            "100/100 [==============================] - 149s 1s/step - loss: 0.1416 - accuracy: 0.9441 - val_loss: 0.3117 - val_accuracy: 0.8806\n",
            "Epoch 75/75\n",
            "100/100 [==============================] - 154s 2s/step - loss: 0.1363 - accuracy: 0.9467 - val_loss: 0.2941 - val_accuracy: 0.8917\n"
          ],
          "name": "stdout"
        }
      ]
    },
    {
      "cell_type": "code",
      "metadata": {
        "id": "L7Nz3z-rAcou",
        "outputId": "cfb8173b-740a-4c5d-9b50-5b89b7aad4ca",
        "colab": {
          "base_uri": "https://localhost:8080/",
          "height": 294
        }
      },
      "source": [
        "# plotting loss\n",
        "plot_loss(history)"
      ],
      "execution_count": null,
      "outputs": [
        {
          "output_type": "display_data",
          "data": {
            "image/png": "[encoded data removed]",
            "text/plain": [
              "<Figure size 432x288 with 1 Axes>"
            ]
          },
          "metadata": {
            "tags": [],
            "needs_background": "light"
          }
        }
      ]
    },
    {
      "cell_type": "code",
      "metadata": {
        "id": "9FmopztC5v15",
        "outputId": "f8159150-e06b-42c1-aefe-421784b6e1f1",
        "colab": {
          "base_uri": "https://localhost:8080/",
          "height": 294
        }
      },
      "source": [
        "# plotting accuracy\n",
        "plot_accuracy(history)"
      ],
      "execution_count": null,
      "outputs": [
        {
          "output_type": "display_data",
          "data": {
            "image/png": "[encoded data removed]",
            "text/plain": [
              "<Figure size 432x288 with 1 Axes>"
            ]
          },
          "metadata": {
            "tags": [],
            "needs_background": "light"
          }
        }
      ]
    },
    {
      "cell_type": "markdown",
      "metadata": {
        "id": "MA2ianqe4s-U"
      },
      "source": [
        "## Kesimpulan:\n",
        "- Dilihat dari perbandingan accuracy:\n",
        "  - **model baseline** : val_accuracy dimulai dari 0.54 s/d 0.72 (mulai stannan di epoch 25) dan train accuracy dimulai dari 0.53 s/d 0.99 (terus naik) yang berarti pada model baseline terjadi overfitting setelah epoch 25 \n",
        "  - **model deeper** : val_accuracy dimulai dari 0.59 s/d 0.89 (mualai stagnan di epoch 25) dan train accuracy dimulai dari 0.55 s/d 0.94 (terus naik) yang berarti pada model deeper cnn juga terjadi overfitting setelah epoch 25 namun tidak sbesar model baseline\n",
        "  - Dilihat dari nilai accuracy model deeper cnn lebih baik accuracynya.\n",
        "- Dilihat dari perbandingan nilai Loss:\n",
        "  - **model baseline** : model loss terbaiknya pada epoch 12 (val_loss dan train loss dititik sama sebelum overfitting di epoch selanjutnya) dengan nilai val_loss = 0.60 dan train loss = 0.58.\n",
        "  - **model deeper** : model loss terbaiknya pada epoch 22 (val_loss dan train loss dititik sama sebelum overfitting di epoch selanjutnya) dengan nilai val_loss = 0.35 dan train loss = 0.35.\n",
        "  - Dilihat dari nilai loss model deeper memiliki nilai loss yang lebih kecil dibanding model baseline, pada epoch 22 dengan val_loss = 0.35. \n"
      ]
    }
  ]
}